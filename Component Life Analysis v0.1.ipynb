{
 "cells": [
  {
   "cell_type": "markdown",
   "metadata": {
    "toc": true
   },
   "source": [
    "<h1>Table of Contents<span class=\"tocSkip\"></span></h1>\n",
    "<div class=\"toc\"><ul class=\"toc-item\"><li><ul class=\"toc-item\"><li><span><a href=\"#Introduction\" data-toc-modified-id=\"Introduction-0.1\"><span class=\"toc-item-num\">0.1&nbsp;&nbsp;</span>Introduction</a></span></li><li><span><a href=\"#Python-Libraries\" data-toc-modified-id=\"Python-Libraries-0.2\"><span class=\"toc-item-num\">0.2&nbsp;&nbsp;</span>Python Libraries</a></span></li><li><span><a href=\"#Study-Settings\" data-toc-modified-id=\"Study-Settings-0.3\"><span class=\"toc-item-num\">0.3&nbsp;&nbsp;</span>Study Settings</a></span></li></ul></li><li><span><a href=\"#Import\" data-toc-modified-id=\"Import-1\"><span class=\"toc-item-num\">1&nbsp;&nbsp;</span>Import</a></span><ul class=\"toc-item\"><li><span><a href=\"#Components-(Materials)\" data-toc-modified-id=\"Components-(Materials)-1.1\"><span class=\"toc-item-num\">1.1&nbsp;&nbsp;</span>Components (Materials)</a></span></li><li><span><a href=\"#Summary-of-Imports\" data-toc-modified-id=\"Summary-of-Imports-1.2\"><span class=\"toc-item-num\">1.2&nbsp;&nbsp;</span>Summary of Imports</a></span></li></ul></li><li><span><a href=\"#Prepare\" data-toc-modified-id=\"Prepare-2\"><span class=\"toc-item-num\">2&nbsp;&nbsp;</span>Prepare</a></span><ul class=\"toc-item\"><li><span><a href=\"#Technical-Objects\" data-toc-modified-id=\"Technical-Objects-2.1\"><span class=\"toc-item-num\">2.1&nbsp;&nbsp;</span>Technical Objects</a></span><ul class=\"toc-item\"><li><span><a href=\"#Functional-Locations\" data-toc-modified-id=\"Functional-Locations-2.1.1\"><span class=\"toc-item-num\">2.1.1&nbsp;&nbsp;</span>Functional Locations</a></span></li><li><span><a href=\"#Equipment\" data-toc-modified-id=\"Equipment-2.1.2\"><span class=\"toc-item-num\">2.1.2&nbsp;&nbsp;</span>Equipment</a></span></li></ul></li><li><span><a href=\"#PM-Orders\" data-toc-modified-id=\"PM-Orders-2.2\"><span class=\"toc-item-num\">2.2&nbsp;&nbsp;</span>PM-Orders</a></span><ul class=\"toc-item\"><li><span><a href=\"#Order-Headers\" data-toc-modified-id=\"Order-Headers-2.2.1\"><span class=\"toc-item-num\">2.2.1&nbsp;&nbsp;</span>Order Headers</a></span></li><li><span><a href=\"#Operations-+-Confirmations\" data-toc-modified-id=\"Operations-+-Confirmations-2.2.2\"><span class=\"toc-item-num\">2.2.2&nbsp;&nbsp;</span>Operations + Confirmations</a></span></li></ul></li><li><span><a href=\"#Materials\" data-toc-modified-id=\"Materials-2.3\"><span class=\"toc-item-num\">2.3&nbsp;&nbsp;</span>Materials</a></span><ul class=\"toc-item\"><li><span><a href=\"#Material-Master\" data-toc-modified-id=\"Material-Master-2.3.1\"><span class=\"toc-item-num\">2.3.1&nbsp;&nbsp;</span>Material Master</a></span></li><li><span><a href=\"#Warranty-Conditions\" data-toc-modified-id=\"Warranty-Conditions-2.3.2\"><span class=\"toc-item-num\">2.3.2&nbsp;&nbsp;</span>Warranty Conditions</a></span></li></ul></li><li><span><a href=\"#Goods-Issues\" data-toc-modified-id=\"Goods-Issues-2.4\"><span class=\"toc-item-num\">2.4&nbsp;&nbsp;</span>Goods Issues</a></span><ul class=\"toc-item\"><li><span><a href=\"#Reservations\" data-toc-modified-id=\"Reservations-2.4.1\"><span class=\"toc-item-num\">2.4.1&nbsp;&nbsp;</span>Reservations</a></span></li><li><span><a href=\"#Goods-Movements\" data-toc-modified-id=\"Goods-Movements-2.4.2\"><span class=\"toc-item-num\">2.4.2&nbsp;&nbsp;</span>Goods Movements</a></span></li></ul></li><li><span><a href=\"#Costs\" data-toc-modified-id=\"Costs-2.5\"><span class=\"toc-item-num\">2.5&nbsp;&nbsp;</span>Costs</a></span></li><li><span><a href=\"#Notifications\" data-toc-modified-id=\"Notifications-2.6\"><span class=\"toc-item-num\">2.6&nbsp;&nbsp;</span>Notifications</a></span></li><li><span><a href=\"#Measures\" data-toc-modified-id=\"Measures-2.7\"><span class=\"toc-item-num\">2.7&nbsp;&nbsp;</span>Measures</a></span><ul class=\"toc-item\"><li><span><a href=\"#Measurement-Points\" data-toc-modified-id=\"Measurement-Points-2.7.1\"><span class=\"toc-item-num\">2.7.1&nbsp;&nbsp;</span>Measurement Points</a></span></li><li><span><a href=\"#Measure-Documents\" data-toc-modified-id=\"Measure-Documents-2.7.2\"><span class=\"toc-item-num\">2.7.2&nbsp;&nbsp;</span>Measure Documents</a></span></li></ul></li><li><span><a href=\"#Maintenance-Plans-et-al\" data-toc-modified-id=\"Maintenance-Plans-et-al-2.8\"><span class=\"toc-item-num\">2.8&nbsp;&nbsp;</span>Maintenance Plans <em>et al</em></a></span><ul class=\"toc-item\"><li><span><a href=\"#Maintenance-Plans\" data-toc-modified-id=\"Maintenance-Plans-2.8.1\"><span class=\"toc-item-num\">2.8.1&nbsp;&nbsp;</span>Maintenance Plans</a></span></li><li><span><a href=\"#Maintenance-Items\" data-toc-modified-id=\"Maintenance-Items-2.8.2\"><span class=\"toc-item-num\">2.8.2&nbsp;&nbsp;</span>Maintenance Items</a></span></li><li><span><a href=\"#Task-Lists\" data-toc-modified-id=\"Task-Lists-2.8.3\"><span class=\"toc-item-num\">2.8.3&nbsp;&nbsp;</span>Task Lists</a></span></li><li><span><a href=\"#Task-Lists-Operations\" data-toc-modified-id=\"Task-Lists-Operations-2.8.4\"><span class=\"toc-item-num\">2.8.4&nbsp;&nbsp;</span>Task Lists Operations</a></span></li></ul></li></ul></li><li><span><a href=\"#Evaluate,-Transform,-and-Model\" data-toc-modified-id=\"Evaluate,-Transform,-and-Model-3\"><span class=\"toc-item-num\">3&nbsp;&nbsp;</span>Evaluate, Transform, and Model</a></span><ul class=\"toc-item\"><li><span><a href=\"#Introduction\" data-toc-modified-id=\"Introduction-3.1\"><span class=\"toc-item-num\">3.1&nbsp;&nbsp;</span>Introduction</a></span></li><li><span><a href=\"#Technical-Object-Hierarchy\" data-toc-modified-id=\"Technical-Object-Hierarchy-3.2\"><span class=\"toc-item-num\">3.2&nbsp;&nbsp;</span>Technical Object Hierarchy</a></span></li><li><span><a href=\"#Goods\" data-toc-modified-id=\"Goods-3.3\"><span class=\"toc-item-num\">3.3&nbsp;&nbsp;</span>Goods</a></span></li><li><span><a href=\"#Intervals\" data-toc-modified-id=\"Intervals-3.4\"><span class=\"toc-item-num\">3.4&nbsp;&nbsp;</span>Intervals</a></span></li><li><span><a href=\"#Enrich-Result-Set\" data-toc-modified-id=\"Enrich-Result-Set-3.5\"><span class=\"toc-item-num\">3.5&nbsp;&nbsp;</span>Enrich Result Set</a></span></li></ul></li><li><span><a href=\"#Present\" data-toc-modified-id=\"Present-4\"><span class=\"toc-item-num\">4&nbsp;&nbsp;</span>Present</a></span><ul class=\"toc-item\"><li><span><a href=\"#Top-20s\" data-toc-modified-id=\"Top-20s-4.1\"><span class=\"toc-item-num\">4.1&nbsp;&nbsp;</span>Top 20s</a></span></li><li><span><a href=\"#Weibull-Analysis\" data-toc-modified-id=\"Weibull-Analysis-4.2\"><span class=\"toc-item-num\">4.2&nbsp;&nbsp;</span>Weibull Analysis</a></span></li><li><span><a href=\"#Analysis---Tactics\" data-toc-modified-id=\"Analysis---Tactics-4.3\"><span class=\"toc-item-num\">4.3&nbsp;&nbsp;</span>Analysis - Tactics</a></span></li><li><span><a href=\"#Analysis---Masterdata\" data-toc-modified-id=\"Analysis---Masterdata-4.4\"><span class=\"toc-item-num\">4.4&nbsp;&nbsp;</span>Analysis - Masterdata</a></span></li><li><span><a href=\"#Export\" data-toc-modified-id=\"Export-4.5\"><span class=\"toc-item-num\">4.5&nbsp;&nbsp;</span>Export</a></span></li></ul></li><li><span><a href=\"#Appendix\" data-toc-modified-id=\"Appendix-5\"><span class=\"toc-item-num\">5&nbsp;&nbsp;</span>Appendix</a></span><ul class=\"toc-item\"><li><span><a href=\"#Notes\" data-toc-modified-id=\"Notes-5.1\"><span class=\"toc-item-num\">5.1&nbsp;&nbsp;</span>Notes</a></span></li></ul></li></ul></div>"
   ]
  },
  {
   "cell_type": "markdown",
   "metadata": {
    "toc": true
   },
   "source": [
    "<h1>Component Life Analysis<span class=\"tocSkip\"></span></h1>"
   ]
  },
  {
   "cell_type": "markdown",
   "metadata": {},
   "source": [
    "## Introduction"
   ]
  },
  {
   "cell_type": "markdown",
   "metadata": {},
   "source": [
    "It is generally easy to get top-down information from SAP, but it is often difficult with a top-down approach to reach the component level. And when you do reach the component level, it is not easy to compare across various dimensions. This study addresses the issue by conducting more of a bottom-up analysis, focussing primarily on the life achieved by components (SAP Materials)."
   ]
  },
  {
   "cell_type": "markdown",
   "metadata": {},
   "source": [
    "The study's purpose is essentially to find the all the intervals - i.e. time ellapsed or usage - between replacements of a component on an asset. Therefore it finds for each material issued: \n",
    " - the PM order that the material was issued to, and   \n",
    " - the most recent PM order for the same material and technical object"
   ]
  },
  {
   "cell_type": "markdown",
   "metadata": {},
   "source": [
    "This is the simple explanation, since the study has to take additional factors into consideration such as:\n",
    " - free text spending (i.e. no material number)\n",
    " - material number obsolescence\n",
    " - multiple material numbers used for the same 'component'\n",
    " - Various levels in the technical object structure used for the same replacement work\n",
    " - movement of technical objects (equipment installed in various locations)\n",
    " - inconsistencies of materials numbers and quantities between reservations, purchases, and deliveries.\n",
    " - sparse measurements (for counters)"
   ]
  },
  {
   "cell_type": "markdown",
   "metadata": {},
   "source": [
    "The secondary goals of the study include:\n",
    " - evaluating the data integrity\n",
    " - evaluating the tactics\n",
    " "
   ]
  },
  {
   "cell_type": "markdown",
   "metadata": {},
   "source": [
    "The Chapter layout is as follows:\n",
    " - **Chapter 0:** settings for the study \n",
    " - **Chapter 1:** where the data is imported from local files\n",
    " - **Chapter 2:** wrangling, munging, and cleaning of the imported data. It also provides some insight to the quality of data through various analyses.\n",
    " - **Chapter 3:** finding the intervals between material replacements.  \n",
    " - **Chapter 4:** visualisation and analysis of the results, as well as creating an export file.\n",
    " - **Chapter 5:** where useful information is kept that may not be required throughput the report"
   ]
  },
  {
   "cell_type": "markdown",
   "metadata": {},
   "source": [
    "## Python Libraries\n",
    "\n",
    "This section imports the required Python libraries and configures the notebook."
   ]
  },
  {
   "cell_type": "code",
   "execution_count": 1,
   "metadata": {
    "ExecuteTime": {
     "end_time": "2020-02-03T13:46:41.344681Z",
     "start_time": "2020-02-03T13:46:40.185671Z"
    }
   },
   "outputs": [
    {
     "name": "stdout",
     "output_type": "stream",
     "text": [
      "Libraries imported\n"
     ]
    }
   ],
   "source": [
    "# list of libraries kept here to make it easy for future reference if an environment needs to be set up\n",
    "import numpy as np\n",
    "import pandas as pd\n",
    "# import pandas_profiling\n",
    "\n",
    "from IPython.core.display import display, HTML\n",
    "\n",
    "# from numba import jit\n",
    "\n",
    "import seaborn as sns\n",
    "from importlib import reload\n",
    "import matplotlib.pyplot as plt\n",
    "\n",
    "import warnings\n",
    "\n",
    "from datetime import datetime, date, time\n",
    "import glob\n",
    "import os\n",
    "import getpass\n",
    "\n",
    "import ipywidgets as widgets\n",
    "import pdb\n",
    "\n",
    "from fuzzywuzzy import fuzz \n",
    "from fuzzywuzzy import process\n",
    "\n",
    "print('Libraries imported')"
   ]
  },
  {
   "cell_type": "markdown",
   "metadata": {},
   "source": [
    "Configure the notebook (see https://jupyter-notebook.readthedocs.io/en/stable/config.html)"
   ]
  },
  {
   "cell_type": "code",
   "execution_count": 2,
   "metadata": {
    "ExecuteTime": {
     "end_time": "2020-02-03T13:46:41.369682Z",
     "start_time": "2020-02-03T13:46:41.345669Z"
    }
   },
   "outputs": [
    {
     "data": {
      "text/html": [
       "<style>div.output_scroll { height: 35em; }</style>"
      ],
      "text/plain": [
       "<IPython.core.display.HTML object>"
      ]
     },
     "metadata": {},
     "output_type": "display_data"
    },
    {
     "name": "stdout",
     "output_type": "stream",
     "text": [
      "Notebook configured\n"
     ]
    }
   ],
   "source": [
    "# Configure Jupyter Notebook\n",
    "pd.set_option('display.max_columns', None) \n",
    "pd.set_option('display.max_rows', 500) \n",
    "pd.set_option('display.expand_frame_repr', False)\n",
    "# pd.set_option('max_colwidth', -1)\n",
    "display(HTML(\"<style>div.output_scroll { height: 35em; }</style>\"))\n",
    "\n",
    "reload(plt)\n",
    "%matplotlib inline\n",
    "%config InlineBackend.figure_format ='retina'\n",
    "\n",
    "warnings.filterwarnings('ignore')\n",
    "\n",
    "print('Notebook configured')"
   ]
  },
  {
   "cell_type": "markdown",
   "metadata": {},
   "source": [
    "## Study Settings"
   ]
  },
  {
   "cell_type": "markdown",
   "metadata": {},
   "source": [
    "This section is where the parameters or settings for the study is maintained. These values influence the results significantly."
   ]
  },
  {
   "cell_type": "code",
   "execution_count": 3,
   "metadata": {
    "ExecuteTime": {
     "end_time": "2020-02-03T13:46:41.375635Z",
     "start_time": "2020-02-03T13:46:41.370637Z"
    }
   },
   "outputs": [
    {
     "name": "stdout",
     "output_type": "stream",
     "text": [
      "Current working directory is: C:\\Users\\carlk\\OneDrive\\C-AME\\02 - PAM Solutions and Services\\10 - Component Life Analysis\\01 - Component Life Analysis\n"
     ]
    }
   ],
   "source": [
    "# Display current working directory\n",
    "print('Current working directory is: '+os.getcwd())"
   ]
  },
  {
   "cell_type": "code",
   "execution_count": 4,
   "metadata": {
    "ExecuteTime": {
     "end_time": "2020-02-03T13:46:41.382671Z",
     "start_time": "2020-02-03T13:46:41.376669Z"
    }
   },
   "outputs": [
    {
     "name": "stdout",
     "output_type": "stream",
     "text": [
      "This study was last run by carlk on 2022-01-21\n"
     ]
    }
   ],
   "source": [
    "print('This study was last run by '+ getpass.getuser() + ' on ' + str(date.today()))"
   ]
  },
  {
   "cell_type": "code",
   "execution_count": 5,
   "metadata": {
    "ExecuteTime": {
     "end_time": "2020-02-03T13:46:41.392671Z",
     "start_time": "2020-02-03T13:46:41.383635Z"
    }
   },
   "outputs": [],
   "source": [
    "# Parameter List\n",
    "parameter_list = pd.DataFrame(columns=['Setting'])"
   ]
  },
  {
   "cell_type": "markdown",
   "metadata": {},
   "source": [
    "Study Period (default = entire period)"
   ]
  },
  {
   "cell_type": "code",
   "execution_count": 6,
   "metadata": {
    "ExecuteTime": {
     "end_time": "2020-02-03T13:46:41.403670Z",
     "start_time": "2020-02-03T13:46:41.393671Z"
    }
   },
   "outputs": [
    {
     "name": "stdout",
     "output_type": "stream",
     "text": [
      "Study Period Parameters Set\n"
     ]
    }
   ],
   "source": [
    "parameter_list.loc['Study Start Date'] = ['min']\n",
    "parameter_list.loc['Study End Date'] = ['max']\n",
    "print('Study Period Parameters Set')"
   ]
  },
  {
   "cell_type": "markdown",
   "metadata": {},
   "source": [
    "Material and Warranty Condition parameters"
   ]
  },
  {
   "cell_type": "code",
   "execution_count": 7,
   "metadata": {
    "ExecuteTime": {
     "end_time": "2020-02-03T13:46:41.423674Z",
     "start_time": "2020-02-03T13:46:41.404670Z"
    }
   },
   "outputs": [
    {
     "name": "stdout",
     "output_type": "stream",
     "text": [
      "Warranty Condition Parameters Set\n"
     ]
    }
   ],
   "source": [
    "parameter_list.loc['Material similarity cutoff'] = [80]\n",
    "parameter_list.loc['Material similarity cutoff numbers'] = [80]\n",
    "\n",
    "parameter_list.loc['ignore warranty validity period'] = ['Y']\n",
    "parameter_list.loc['ignore equipment warranty'] = ['Y']\n",
    "parameter_list.loc['ignore functional location warranty'] = ['Y']\n",
    "parameter_list.loc['ignore deleted warranty'] = ['N']\n",
    "parameter_list.loc['ignore warranty start type'] = ['Y']\n",
    "print('Warranty Condition Parameters Set')"
   ]
  },
  {
   "cell_type": "markdown",
   "metadata": {},
   "source": [
    "Preferences for Orders"
   ]
  },
  {
   "cell_type": "code",
   "execution_count": 8,
   "metadata": {
    "ExecuteTime": {
     "end_time": "2020-02-03T13:46:41.429649Z",
     "start_time": "2020-02-03T13:46:41.425666Z"
    }
   },
   "outputs": [
    {
     "name": "stdout",
     "output_type": "stream",
     "text": [
      "Order Parameters Set\n"
     ]
    }
   ],
   "source": [
    "# parameter_list.loc[''] = ['']\n",
    "print('Order Parameters Set')"
   ]
  },
  {
   "cell_type": "markdown",
   "metadata": {},
   "source": [
    "Preferences for goods issue and goods movements data"
   ]
  },
  {
   "cell_type": "code",
   "execution_count": 9,
   "metadata": {
    "ExecuteTime": {
     "end_time": "2020-02-03T13:46:41.443636Z",
     "start_time": "2020-02-03T13:46:41.430645Z"
    }
   },
   "outputs": [
    {
     "name": "stdout",
     "output_type": "stream",
     "text": [
      "Goods Issues and Movements Parameters Set\n"
     ]
    }
   ],
   "source": [
    "# parameter_list.loc[''] = ['']\n",
    "\n",
    "# the solution does a text search, this specifies the cut off for the accuracy of a match\n",
    "parameter_list.loc['Text similarity cutoff goods move materials'] = [70]\n",
    "parameter_list.loc['Text similarity cutoff materials list'] = [60]\n",
    "parameter_list.loc['Text similarity cutoff goods move no materials'] = [90]\n",
    "parameter_list.loc['Text similarity cutoff numbers'] = [70]\n",
    "\n",
    "print('Goods Issues and Movements Parameters Set')"
   ]
  },
  {
   "cell_type": "markdown",
   "metadata": {},
   "source": [
    "Parameters for hierarchy search (default = 0)"
   ]
  },
  {
   "cell_type": "code",
   "execution_count": 10,
   "metadata": {
    "ExecuteTime": {
     "end_time": "2020-02-03T13:46:41.454659Z",
     "start_time": "2020-02-03T13:46:41.444635Z"
    }
   },
   "outputs": [
    {
     "name": "stdout",
     "output_type": "stream",
     "text": [
      "Hierarchy Parameters Set\n"
     ]
    }
   ],
   "source": [
    "parameter_list.loc['hierarchy levels up'] = [2]\n",
    "parameter_list.loc['hierarchy levels down'] = [2]\n",
    "print('Hierarchy Parameters Set')"
   ]
  },
  {
   "cell_type": "markdown",
   "metadata": {},
   "source": [
    "Output & Export"
   ]
  },
  {
   "cell_type": "code",
   "execution_count": 11,
   "metadata": {
    "ExecuteTime": {
     "end_time": "2020-02-03T13:46:41.462671Z",
     "start_time": "2020-02-03T13:46:41.455635Z"
    }
   },
   "outputs": [
    {
     "name": "stdout",
     "output_type": "stream",
     "text": [
      "Output Parameters Set\n"
     ]
    }
   ],
   "source": [
    "parameter_list.loc['Export to CSV'] = ['Y']\n",
    "print('Output Parameters Set')"
   ]
  },
  {
   "cell_type": "markdown",
   "metadata": {},
   "source": [
    "**Parameter settings for the study:**"
   ]
  },
  {
   "cell_type": "code",
   "execution_count": 12,
   "metadata": {
    "ExecuteTime": {
     "end_time": "2020-02-03T13:46:41.472636Z",
     "start_time": "2020-02-03T13:46:41.463635Z"
    }
   },
   "outputs": [
    {
     "data": {
      "text/html": [
       "<div>\n",
       "<style scoped>\n",
       "    .dataframe tbody tr th:only-of-type {\n",
       "        vertical-align: middle;\n",
       "    }\n",
       "\n",
       "    .dataframe tbody tr th {\n",
       "        vertical-align: top;\n",
       "    }\n",
       "\n",
       "    .dataframe thead th {\n",
       "        text-align: right;\n",
       "    }\n",
       "</style>\n",
       "<table border=\"1\" class=\"dataframe\">\n",
       "  <thead>\n",
       "    <tr style=\"text-align: right;\">\n",
       "      <th></th>\n",
       "      <th>Setting</th>\n",
       "    </tr>\n",
       "  </thead>\n",
       "  <tbody>\n",
       "    <tr>\n",
       "      <th>Study Start Date</th>\n",
       "      <td>min</td>\n",
       "    </tr>\n",
       "    <tr>\n",
       "      <th>Study End Date</th>\n",
       "      <td>max</td>\n",
       "    </tr>\n",
       "    <tr>\n",
       "      <th>Material similarity cutoff</th>\n",
       "      <td>80</td>\n",
       "    </tr>\n",
       "    <tr>\n",
       "      <th>Material similarity cutoff numbers</th>\n",
       "      <td>80</td>\n",
       "    </tr>\n",
       "    <tr>\n",
       "      <th>ignore warranty validity period</th>\n",
       "      <td>Y</td>\n",
       "    </tr>\n",
       "    <tr>\n",
       "      <th>ignore equipment warranty</th>\n",
       "      <td>Y</td>\n",
       "    </tr>\n",
       "    <tr>\n",
       "      <th>ignore functional location warranty</th>\n",
       "      <td>Y</td>\n",
       "    </tr>\n",
       "    <tr>\n",
       "      <th>ignore deleted warranty</th>\n",
       "      <td>N</td>\n",
       "    </tr>\n",
       "    <tr>\n",
       "      <th>ignore warranty start type</th>\n",
       "      <td>Y</td>\n",
       "    </tr>\n",
       "    <tr>\n",
       "      <th>Text similarity cutoff goods move materials</th>\n",
       "      <td>70</td>\n",
       "    </tr>\n",
       "    <tr>\n",
       "      <th>Text similarity cutoff materials list</th>\n",
       "      <td>60</td>\n",
       "    </tr>\n",
       "    <tr>\n",
       "      <th>Text similarity cutoff goods move no materials</th>\n",
       "      <td>90</td>\n",
       "    </tr>\n",
       "    <tr>\n",
       "      <th>Text similarity cutoff numbers</th>\n",
       "      <td>70</td>\n",
       "    </tr>\n",
       "    <tr>\n",
       "      <th>hierarchy levels up</th>\n",
       "      <td>2</td>\n",
       "    </tr>\n",
       "    <tr>\n",
       "      <th>hierarchy levels down</th>\n",
       "      <td>2</td>\n",
       "    </tr>\n",
       "    <tr>\n",
       "      <th>Export to CSV</th>\n",
       "      <td>Y</td>\n",
       "    </tr>\n",
       "  </tbody>\n",
       "</table>\n",
       "</div>"
      ],
      "text/plain": [
       "                                               Setting\n",
       "Study Start Date                                   min\n",
       "Study End Date                                     max\n",
       "Material similarity cutoff                          80\n",
       "Material similarity cutoff numbers                  80\n",
       "ignore warranty validity period                      Y\n",
       "ignore equipment warranty                            Y\n",
       "ignore functional location warranty                  Y\n",
       "ignore deleted warranty                              N\n",
       "ignore warranty start type                           Y\n",
       "Text similarity cutoff goods move materials         70\n",
       "Text similarity cutoff materials list               60\n",
       "Text similarity cutoff goods move no materials      90\n",
       "Text similarity cutoff numbers                      70\n",
       "hierarchy levels up                                  2\n",
       "hierarchy levels down                                2\n",
       "Export to CSV                                        Y"
      ]
     },
     "execution_count": 12,
     "metadata": {},
     "output_type": "execute_result"
    }
   ],
   "source": [
    "parameter_list"
   ]
  },
  {
   "cell_type": "markdown",
   "metadata": {},
   "source": [
    "# Import"
   ]
  },
  {
   "cell_type": "markdown",
   "metadata": {},
   "source": [
    "This chapter imports the data from local files. \n",
    "\n",
    "**Note:** Directly quering SAP tables to obtain the data requires SAP NetWeaver RFC Library enablement (SAP NW RFC SDK), Python Connectors (PyRCF), ABAP programs in the SAP client to extract the tables, and for the extractor python program to run on the same server as the SAP client (see https://sap.github.io/PyRFC/index.html for more details). It is not practical for a study such as this, therefore this study relies on manually extracted files in either Excel or CSV files of SAP standard tables. "
   ]
  },
  {
   "cell_type": "markdown",
   "metadata": {},
   "source": [
    "The user extracting the data requires authorization to run transaction SE16N (and have access to the tables listed in Chapter 1.10). "
   ]
  },
  {
   "cell_type": "markdown",
   "metadata": {},
   "source": [
    "Data tables could easily exceed 100,000 records, therefore if the user insists on extracting to Excel, it must be extracted in the XLSX format. Extracting to XLS has a cap of about 64,000 records, the files are large, and unstable. If you cannot extract to XLSX, then rather extract to CSV. "
   ]
  },
  {
   "cell_type": "markdown",
   "metadata": {},
   "source": [
    "It is generally recommended to use CSV instead of XLSX files, since \n",
    " - python reads CSV files about 40 times faster than excel files.\n",
    " - this program will create a CSV file from any excel file and save it in the same folder."
   ]
  },
  {
   "cell_type": "markdown",
   "metadata": {},
   "source": [
    "**Instantiate Functions and Classes**"
   ]
  },
  {
   "cell_type": "markdown",
   "metadata": {},
   "source": [
    "Instantiate the function Get_File that handles all file imports:"
   ]
  },
  {
   "cell_type": "code",
   "execution_count": 13,
   "metadata": {
    "ExecuteTime": {
     "end_time": "2020-02-03T13:46:41.483669Z",
     "start_time": "2020-02-03T13:46:41.473637Z"
    }
   },
   "outputs": [
    {
     "name": "stdout",
     "output_type": "stream",
     "text": [
      "Get_File instantiated\n"
     ]
    }
   ],
   "source": [
    "def Get_File(table_name):\n",
    "    '''\n",
    "    This function imports the table_name from either excel or csv. \n",
    "    It first checks whether it can find the CSV file, since these load about 50 times faster than excel\n",
    "    If it doesn't find the CSV file, it will import from excel and then write the CSV file afterwards\n",
    "    \n",
    "    Note: list comprehension for getting the list of files become very slow if you add too many 'in' statements\n",
    "    '''\n",
    "    global file_list\n",
    "    \n",
    "    CSVfiles = []\n",
    "    for file in glob.glob(\"*.csv\"):\n",
    "        if str(table_name)+\"_\" in file and '$' not in file and '~' not in file:\n",
    "            CSVfiles.append(file)\n",
    "    \n",
    "    Excelfiles = []\n",
    "    for file in glob.glob(\"*.xlsx\"):\n",
    "        if table_name in file and '$' not in file and '~' not in file:\n",
    "            Excelfiles.append(file)\n",
    "    \n",
    "    source_type = 'excel'\n",
    "    files = list(CSVfiles)\n",
    "    if len(files)>0:\n",
    "        source_type = 'csv'\n",
    "    else:  \n",
    "        files = list(Excelfiles)\n",
    "        \n",
    "    return_dataframe = pd.DataFrame()\n",
    "    \n",
    "    if len(files)==0:\n",
    "        print('file not found')\n",
    "        nr_rows = ''\n",
    "        nr_cols = ''\n",
    "    else:\n",
    "        for file in files:\n",
    "            if source_type == 'excel':\n",
    "                f = pd.read_excel(file)                \n",
    "            else:\n",
    "                f = pd.read_csv(file)\n",
    "\n",
    "            return_dataframe = return_dataframe.append(f)\n",
    "        \n",
    "        #write the excel file to a CSV file so that the next data load is much faster\n",
    "        if source_type == 'excel':\n",
    "            return_dataframe.to_csv(str(table_name)+'_CSV.csv')\n",
    "            print(table_name + ' imported from Excel')\n",
    "        else:\n",
    "            print(table_name + ' imported from CSV')\n",
    "        nr_rows,nr_cols = return_dataframe.shape\n",
    "        print('with '+str(nr_rows)+' rows and '+ str(nr_cols)+ ' columns')\n",
    "    imported = ''\n",
    "    if len(return_dataframe)>0:\n",
    "        imported = 1\n",
    "    \n",
    "    file_list.loc[table_name] = [imported,nr_rows,nr_cols,source_type]\n",
    "    return_dataframe.replace('nan',np.nan)\n",
    "    return return_dataframe\n",
    "\n",
    "print('Get_File instantiated')"
   ]
  },
  {
   "cell_type": "code",
   "execution_count": 14,
   "metadata": {
    "ExecuteTime": {
     "end_time": "2020-02-03T13:46:41.493669Z",
     "start_time": "2020-02-03T13:46:41.485672Z"
    }
   },
   "outputs": [],
   "source": [
    "# start a dataframe with the info of all the files imported\n",
    "file_list = pd.DataFrame(columns=['Imported','Rows','Columns','file type'])\n",
    "\n",
    "# start a garbage variable, this could be used to clear memory (i.e. clear references to large objects in memory)\n",
    "garbage = None"
   ]
  },
  {
   "cell_type": "markdown",
   "metadata": {
    "ExecuteTime": {
     "end_time": "2020-02-03T13:46:41.493669Z",
     "start_time": "2020-02-03T13:46:41.485672Z"
    }
   },
   "source": [
    "## Import Files"
   ]
  },
  {
   "cell_type": "markdown",
   "metadata": {
    "ExecuteTime": {
     "end_time": "2020-02-03T13:46:41.493669Z",
     "start_time": "2020-02-03T13:46:41.485672Z"
    }
   },
   "source": [
    "The analysis starts with the list of materials that must be evaluated. To obtain the list of materials for a plant one can extract table MARC and their descriptions from MAKT. Also remember that some goods issues were without material numbers. The descriptions of these have to be obtained from RESB or MSEG. "
   ]
  },
  {
   "cell_type": "code",
   "execution_count": 15,
   "metadata": {
    "ExecuteTime": {
     "end_time": "2020-02-03T13:46:41.493669Z",
     "start_time": "2020-02-03T13:46:41.485672Z"
    }
   },
   "outputs": [
    {
     "name": "stdout",
     "output_type": "stream",
     "text": [
      "file not found\n"
     ]
    }
   ],
   "source": [
    "DD03M = Get_File('DD03M')"
   ]
  },
  {
   "cell_type": "code",
   "execution_count": 16,
   "metadata": {
    "ExecuteTime": {
     "end_time": "2020-02-03T13:46:41.493669Z",
     "start_time": "2020-02-03T13:46:41.485672Z"
    }
   },
   "outputs": [
    {
     "ename": "KeyError",
     "evalue": "\"None of [Index(['Table Name', 'Field Name', 'Longlist_tablesd Label'], dtype='object')] are in the [columns]\"",
     "output_type": "error",
     "traceback": [
      "\u001b[1;31m---------------------------------------------------------------------------\u001b[0m",
      "\u001b[1;31mKeyError\u001b[0m                                  Traceback (most recent call last)",
      "\u001b[1;32m~\\AppData\\Local\\Temp/ipykernel_22856/477985640.py\u001b[0m in \u001b[0;36m<module>\u001b[1;34m\u001b[0m\n\u001b[1;32m----> 1\u001b[1;33m \u001b[0mDD03M_lookup\u001b[0m \u001b[1;33m=\u001b[0m \u001b[0mDD03M\u001b[0m\u001b[1;33m[\u001b[0m\u001b[1;33m[\u001b[0m\u001b[1;34m'Table Name'\u001b[0m\u001b[1;33m,\u001b[0m\u001b[1;34m'Field Name'\u001b[0m\u001b[1;33m,\u001b[0m\u001b[1;34m'Longlist_tablesd Label'\u001b[0m\u001b[1;33m]\u001b[0m\u001b[1;33m]\u001b[0m\u001b[1;33m\u001b[0m\u001b[1;33m\u001b[0m\u001b[0m\n\u001b[0m\u001b[0;32m      2\u001b[0m \u001b[1;33m\u001b[0m\u001b[0m\n\u001b[0;32m      3\u001b[0m for name in ['Short Description of Repository Objects',\n\u001b[0;32m      4\u001b[0m              \u001b[1;34m'Heading'\u001b[0m\u001b[1;33m,\u001b[0m\u001b[1;33m\u001b[0m\u001b[1;33m\u001b[0m\u001b[0m\n\u001b[0;32m      5\u001b[0m              \u001b[1;34m'Short Field Label'\u001b[0m\u001b[1;33m,\u001b[0m\u001b[1;33m\u001b[0m\u001b[1;33m\u001b[0m\u001b[0m\n",
      "\u001b[1;32m~\\Anaconda3\\lib\\site-packages\\pandas\\core\\frame.py\u001b[0m in \u001b[0;36m__getitem__\u001b[1;34m(self, key)\u001b[0m\n\u001b[0;32m   3462\u001b[0m             \u001b[1;32mif\u001b[0m \u001b[0mis_iterator\u001b[0m\u001b[1;33m(\u001b[0m\u001b[0mkey\u001b[0m\u001b[1;33m)\u001b[0m\u001b[1;33m:\u001b[0m\u001b[1;33m\u001b[0m\u001b[1;33m\u001b[0m\u001b[0m\n\u001b[0;32m   3463\u001b[0m                 \u001b[0mkey\u001b[0m \u001b[1;33m=\u001b[0m \u001b[0mlist\u001b[0m\u001b[1;33m(\u001b[0m\u001b[0mkey\u001b[0m\u001b[1;33m)\u001b[0m\u001b[1;33m\u001b[0m\u001b[1;33m\u001b[0m\u001b[0m\n\u001b[1;32m-> 3464\u001b[1;33m             \u001b[0mindexer\u001b[0m \u001b[1;33m=\u001b[0m \u001b[0mself\u001b[0m\u001b[1;33m.\u001b[0m\u001b[0mloc\u001b[0m\u001b[1;33m.\u001b[0m\u001b[0m_get_listlike_indexer\u001b[0m\u001b[1;33m(\u001b[0m\u001b[0mkey\u001b[0m\u001b[1;33m,\u001b[0m \u001b[0maxis\u001b[0m\u001b[1;33m=\u001b[0m\u001b[1;36m1\u001b[0m\u001b[1;33m)\u001b[0m\u001b[1;33m[\u001b[0m\u001b[1;36m1\u001b[0m\u001b[1;33m]\u001b[0m\u001b[1;33m\u001b[0m\u001b[1;33m\u001b[0m\u001b[0m\n\u001b[0m\u001b[0;32m   3465\u001b[0m \u001b[1;33m\u001b[0m\u001b[0m\n\u001b[0;32m   3466\u001b[0m         \u001b[1;31m# take() does not accept boolean indexers\u001b[0m\u001b[1;33m\u001b[0m\u001b[1;33m\u001b[0m\u001b[1;33m\u001b[0m\u001b[0m\n",
      "\u001b[1;32m~\\Anaconda3\\lib\\site-packages\\pandas\\core\\indexing.py\u001b[0m in \u001b[0;36m_get_listlike_indexer\u001b[1;34m(self, key, axis)\u001b[0m\n\u001b[0;32m   1312\u001b[0m             \u001b[0mkeyarr\u001b[0m\u001b[1;33m,\u001b[0m \u001b[0mindexer\u001b[0m\u001b[1;33m,\u001b[0m \u001b[0mnew_indexer\u001b[0m \u001b[1;33m=\u001b[0m \u001b[0max\u001b[0m\u001b[1;33m.\u001b[0m\u001b[0m_reindex_non_unique\u001b[0m\u001b[1;33m(\u001b[0m\u001b[0mkeyarr\u001b[0m\u001b[1;33m)\u001b[0m\u001b[1;33m\u001b[0m\u001b[1;33m\u001b[0m\u001b[0m\n\u001b[0;32m   1313\u001b[0m \u001b[1;33m\u001b[0m\u001b[0m\n\u001b[1;32m-> 1314\u001b[1;33m         \u001b[0mself\u001b[0m\u001b[1;33m.\u001b[0m\u001b[0m_validate_read_indexer\u001b[0m\u001b[1;33m(\u001b[0m\u001b[0mkeyarr\u001b[0m\u001b[1;33m,\u001b[0m \u001b[0mindexer\u001b[0m\u001b[1;33m,\u001b[0m \u001b[0maxis\u001b[0m\u001b[1;33m)\u001b[0m\u001b[1;33m\u001b[0m\u001b[1;33m\u001b[0m\u001b[0m\n\u001b[0m\u001b[0;32m   1315\u001b[0m \u001b[1;33m\u001b[0m\u001b[0m\n\u001b[0;32m   1316\u001b[0m         if needs_i8_conversion(ax.dtype) or isinstance(\n",
      "\u001b[1;32m~\\Anaconda3\\lib\\site-packages\\pandas\\core\\indexing.py\u001b[0m in \u001b[0;36m_validate_read_indexer\u001b[1;34m(self, key, indexer, axis)\u001b[0m\n\u001b[0;32m   1372\u001b[0m                 \u001b[1;32mif\u001b[0m \u001b[0muse_interval_msg\u001b[0m\u001b[1;33m:\u001b[0m\u001b[1;33m\u001b[0m\u001b[1;33m\u001b[0m\u001b[0m\n\u001b[0;32m   1373\u001b[0m                     \u001b[0mkey\u001b[0m \u001b[1;33m=\u001b[0m \u001b[0mlist\u001b[0m\u001b[1;33m(\u001b[0m\u001b[0mkey\u001b[0m\u001b[1;33m)\u001b[0m\u001b[1;33m\u001b[0m\u001b[1;33m\u001b[0m\u001b[0m\n\u001b[1;32m-> 1374\u001b[1;33m                 \u001b[1;32mraise\u001b[0m \u001b[0mKeyError\u001b[0m\u001b[1;33m(\u001b[0m\u001b[1;34mf\"None of [{key}] are in the [{axis_name}]\"\u001b[0m\u001b[1;33m)\u001b[0m\u001b[1;33m\u001b[0m\u001b[1;33m\u001b[0m\u001b[0m\n\u001b[0m\u001b[0;32m   1375\u001b[0m \u001b[1;33m\u001b[0m\u001b[0m\n\u001b[0;32m   1376\u001b[0m             \u001b[0mnot_found\u001b[0m \u001b[1;33m=\u001b[0m \u001b[0mlist\u001b[0m\u001b[1;33m(\u001b[0m\u001b[0mensure_index\u001b[0m\u001b[1;33m(\u001b[0m\u001b[0mkey\u001b[0m\u001b[1;33m)\u001b[0m\u001b[1;33m[\u001b[0m\u001b[0mmissing_mask\u001b[0m\u001b[1;33m.\u001b[0m\u001b[0mnonzero\u001b[0m\u001b[1;33m(\u001b[0m\u001b[1;33m)\u001b[0m\u001b[1;33m[\u001b[0m\u001b[1;36m0\u001b[0m\u001b[1;33m]\u001b[0m\u001b[1;33m]\u001b[0m\u001b[1;33m.\u001b[0m\u001b[0munique\u001b[0m\u001b[1;33m(\u001b[0m\u001b[1;33m)\u001b[0m\u001b[1;33m)\u001b[0m\u001b[1;33m\u001b[0m\u001b[1;33m\u001b[0m\u001b[0m\n",
      "\u001b[1;31mKeyError\u001b[0m: \"None of [Index(['Table Name', 'Field Name', 'Longlist_tablesd Label'], dtype='object')] are in the [columns]\""
     ]
    }
   ],
   "source": [
    "DD03M_lookup = DD03M[['Table Name','Field Name','Longlist_tablesd Label']]\n",
    "\n",
    "for name in ['Short Description of Repository Objects',\n",
    "             'Heading',\n",
    "             'Short Field Label',\n",
    "             'Medium Field Label']:\n",
    "    DD03M_temp = DD03M[['Table Name',name,'Long Field Label']]\n",
    "    DD03M_temp.rename(columns={name:'Field Name'},inplace=True)\n",
    "    DD03M_lookup= pd.concat([DD03M_lookup, DD03M_temp], ignore_index=True).drop_duplicates()\n",
    "\n",
    "DD03M_lookup.rename(columns={'Field Name':'Lookup',\n",
    "                            'Long Field Label':'Label'},inplace=True)\n",
    "DD03M_temp = DD03M[['Table Name','Long Field Label']]\n",
    "DD03M_temp['Label'] = DD03M_temp['Long Field Label']\n",
    "DD03M_temp.rename(columns={'Long Field Label':'Lookup'},inplace=True)\n",
    "DD03M_lookup= pd.concat([DD03M_lookup, DD03M_temp], ignore_index=True).drop_duplicates()\n",
    "    \n",
    "DD03M_lookup.head()"
   ]
  },
  {
   "cell_type": "code",
   "execution_count": 18,
   "metadata": {
    "ExecuteTime": {
     "end_time": "2020-02-03T13:46:41.493669Z",
     "start_time": "2020-02-03T13:46:41.485672Z"
    }
   },
   "outputs": [],
   "source": [
    "df_tables = pd.read_excel('Prepared Tables.xlsx')"
   ]
  },
  {
   "cell_type": "code",
   "execution_count": 22,
   "metadata": {
    "ExecuteTime": {
     "end_time": "2020-02-03T13:46:41.493669Z",
     "start_time": "2020-02-03T13:46:41.485672Z"
    }
   },
   "outputs": [
    {
     "data": {
      "text/plain": [
       "['Floc',\n",
       " 'Equipment',\n",
       " 'reservations',\n",
       " 'goods_move',\n",
       " 'materials',\n",
       " 'LFA1',\n",
       " 'orders',\n",
       " 'notifications',\n",
       " 'operations']"
      ]
     },
     "execution_count": 22,
     "metadata": {},
     "output_type": "execute_result"
    }
   ],
   "source": [
    "list_tables = list(df_tables['Unnamed: 1'].unique())\n",
    "list_tables.remove(np.nan)\n",
    "list_tables.remove('Table')\n",
    "list_tables"
   ]
  },
  {
   "cell_type": "code",
   "execution_count": 20,
   "metadata": {
    "ExecuteTime": {
     "end_time": "2020-02-03T13:46:41.493669Z",
     "start_time": "2020-02-03T13:46:41.485672Z"
    },
    "tags": []
   },
   "outputs": [
    {
     "name": "stdout",
     "output_type": "stream",
     "text": [
      "Table imported from Excel\n",
      "with 185 rows and 5 columns\n",
      "file not found\n",
      "file not found\n",
      "file not found\n",
      "file not found\n",
      "file not found\n",
      "file not found\n",
      "file not found\n",
      "file not found\n",
      "file not found\n"
     ]
    }
   ],
   "source": [
    "for table in list_tables:\n",
    "        globals()[table] = Get_File(table)"
   ]
  },
  {
   "cell_type": "code",
   "execution_count": 17,
   "metadata": {
    "ExecuteTime": {
     "end_time": "2020-02-03T13:46:41.493669Z",
     "start_time": "2020-02-03T13:46:41.485672Z"
    }
   },
   "outputs": [
    {
     "data": {
      "text/html": [
       "<div>\n",
       "<style scoped>\n",
       "    .dataframe tbody tr th:only-of-type {\n",
       "        vertical-align: middle;\n",
       "    }\n",
       "\n",
       "    .dataframe tbody tr th {\n",
       "        vertical-align: top;\n",
       "    }\n",
       "\n",
       "    .dataframe thead th {\n",
       "        text-align: right;\n",
       "    }\n",
       "</style>\n",
       "<table border=\"1\" class=\"dataframe\">\n",
       "  <thead>\n",
       "    <tr style=\"text-align: right;\">\n",
       "      <th></th>\n",
       "    </tr>\n",
       "  </thead>\n",
       "  <tbody>\n",
       "  </tbody>\n",
       "</table>\n",
       "</div>"
      ],
      "text/plain": [
       "Empty DataFrame\n",
       "Columns: []\n",
       "Index: []"
      ]
     },
     "execution_count": 17,
     "metadata": {},
     "output_type": "execute_result"
    }
   ],
   "source": [
    "DD03M"
   ]
  },
  {
   "cell_type": "markdown",
   "metadata": {},
   "source": [
    "## Summary of Imports"
   ]
  },
  {
   "cell_type": "code",
   "execution_count": 62,
   "metadata": {
    "ExecuteTime": {
     "end_time": "2020-02-03T13:46:49.378635Z",
     "start_time": "2020-02-03T13:46:49.365682Z"
    }
   },
   "outputs": [
    {
     "data": {
      "text/html": [
       "<div>\n",
       "<style scoped>\n",
       "    .dataframe tbody tr th:only-of-type {\n",
       "        vertical-align: middle;\n",
       "    }\n",
       "\n",
       "    .dataframe tbody tr th {\n",
       "        vertical-align: top;\n",
       "    }\n",
       "\n",
       "    .dataframe thead th {\n",
       "        text-align: right;\n",
       "    }\n",
       "</style>\n",
       "<table border=\"1\" class=\"dataframe\">\n",
       "  <thead>\n",
       "    <tr style=\"text-align: right;\">\n",
       "      <th></th>\n",
       "      <th>Imported</th>\n",
       "      <th>Rows</th>\n",
       "      <th>Columns</th>\n",
       "      <th>file type</th>\n",
       "    </tr>\n",
       "  </thead>\n",
       "  <tbody>\n",
       "    <tr>\n",
       "      <th>IFLOT.</th>\n",
       "      <td>1</td>\n",
       "      <td>277</td>\n",
       "      <td>80</td>\n",
       "      <td>csv</td>\n",
       "    </tr>\n",
       "    <tr>\n",
       "      <th>IFLOTX</th>\n",
       "      <td>1</td>\n",
       "      <td>277</td>\n",
       "      <td>7</td>\n",
       "      <td>csv</td>\n",
       "    </tr>\n",
       "    <tr>\n",
       "      <th>IH06</th>\n",
       "      <td>1</td>\n",
       "      <td>277</td>\n",
       "      <td>129</td>\n",
       "      <td>csv</td>\n",
       "    </tr>\n",
       "    <tr>\n",
       "      <th>ILOA</th>\n",
       "      <td>1</td>\n",
       "      <td>64048</td>\n",
       "      <td>48</td>\n",
       "      <td>csv</td>\n",
       "    </tr>\n",
       "    <tr>\n",
       "      <th>EQUI</th>\n",
       "      <td>1</td>\n",
       "      <td>841</td>\n",
       "      <td>88</td>\n",
       "      <td>csv</td>\n",
       "    </tr>\n",
       "    <tr>\n",
       "      <th>EQUZ</th>\n",
       "      <td>1</td>\n",
       "      <td>3239</td>\n",
       "      <td>46</td>\n",
       "      <td>csv</td>\n",
       "    </tr>\n",
       "    <tr>\n",
       "      <th>EQKT</th>\n",
       "      <td>1</td>\n",
       "      <td>841</td>\n",
       "      <td>7</td>\n",
       "      <td>csv</td>\n",
       "    </tr>\n",
       "    <tr>\n",
       "      <th>IH08</th>\n",
       "      <td>1</td>\n",
       "      <td>841</td>\n",
       "      <td>27</td>\n",
       "      <td>csv</td>\n",
       "    </tr>\n",
       "    <tr>\n",
       "      <th>VIAUFKS</th>\n",
       "      <td>1</td>\n",
       "      <td>44670</td>\n",
       "      <td>205</td>\n",
       "      <td>csv</td>\n",
       "    </tr>\n",
       "    <tr>\n",
       "      <th>AFRU</th>\n",
       "      <td>1</td>\n",
       "      <td>81752</td>\n",
       "      <td>144</td>\n",
       "      <td>csv</td>\n",
       "    </tr>\n",
       "    <tr>\n",
       "      <th>AFVC</th>\n",
       "      <td>1</td>\n",
       "      <td>81255</td>\n",
       "      <td>181</td>\n",
       "      <td>csv</td>\n",
       "    </tr>\n",
       "    <tr>\n",
       "      <th>MAKT</th>\n",
       "      <td>1</td>\n",
       "      <td>800</td>\n",
       "      <td>5</td>\n",
       "      <td>csv</td>\n",
       "    </tr>\n",
       "    <tr>\n",
       "      <th>ZEAM_G_WAR_COND</th>\n",
       "      <td>1</td>\n",
       "      <td>7666</td>\n",
       "      <td>25</td>\n",
       "      <td>csv</td>\n",
       "    </tr>\n",
       "    <tr>\n",
       "      <th>LFA1</th>\n",
       "      <td>1</td>\n",
       "      <td>69946</td>\n",
       "      <td>139</td>\n",
       "      <td>csv</td>\n",
       "    </tr>\n",
       "    <tr>\n",
       "      <th>RESB</th>\n",
       "      <td>1</td>\n",
       "      <td>3321</td>\n",
       "      <td>202</td>\n",
       "      <td>csv</td>\n",
       "    </tr>\n",
       "    <tr>\n",
       "      <th>MSEG</th>\n",
       "      <td>1</td>\n",
       "      <td>6700</td>\n",
       "      <td>215</td>\n",
       "      <td>csv</td>\n",
       "    </tr>\n",
       "    <tr>\n",
       "      <th>COVP</th>\n",
       "      <td>1</td>\n",
       "      <td>57438</td>\n",
       "      <td>123</td>\n",
       "      <td>csv</td>\n",
       "    </tr>\n",
       "    <tr>\n",
       "      <th>VIQMEL</th>\n",
       "      <td>1</td>\n",
       "      <td>15308</td>\n",
       "      <td>252</td>\n",
       "      <td>csv</td>\n",
       "    </tr>\n",
       "    <tr>\n",
       "      <th>QMFE</th>\n",
       "      <td>1</td>\n",
       "      <td>1697</td>\n",
       "      <td>57</td>\n",
       "      <td>csv</td>\n",
       "    </tr>\n",
       "    <tr>\n",
       "      <th>IMPTT</th>\n",
       "      <td>1</td>\n",
       "      <td>60</td>\n",
       "      <td>49</td>\n",
       "      <td>csv</td>\n",
       "    </tr>\n",
       "    <tr>\n",
       "      <th>MMPT</th>\n",
       "      <td>1</td>\n",
       "      <td>7749</td>\n",
       "      <td>18</td>\n",
       "      <td>csv</td>\n",
       "    </tr>\n",
       "    <tr>\n",
       "      <th>IMRG</th>\n",
       "      <td>1</td>\n",
       "      <td>600</td>\n",
       "      <td>53</td>\n",
       "      <td>csv</td>\n",
       "    </tr>\n",
       "    <tr>\n",
       "      <th>MPOS</th>\n",
       "      <td>1</td>\n",
       "      <td>389</td>\n",
       "      <td>72</td>\n",
       "      <td>csv</td>\n",
       "    </tr>\n",
       "    <tr>\n",
       "      <th>IP17</th>\n",
       "      <td>1</td>\n",
       "      <td>389</td>\n",
       "      <td>24</td>\n",
       "      <td>csv</td>\n",
       "    </tr>\n",
       "    <tr>\n",
       "      <th>MPLA</th>\n",
       "      <td>1</td>\n",
       "      <td>62</td>\n",
       "      <td>47</td>\n",
       "      <td>csv</td>\n",
       "    </tr>\n",
       "    <tr>\n",
       "      <th>MHIS</th>\n",
       "      <td>1</td>\n",
       "      <td>5302</td>\n",
       "      <td>64</td>\n",
       "      <td>csv</td>\n",
       "    </tr>\n",
       "    <tr>\n",
       "      <th>IP16</th>\n",
       "      <td>1</td>\n",
       "      <td>62</td>\n",
       "      <td>22</td>\n",
       "      <td>csv</td>\n",
       "    </tr>\n",
       "    <tr>\n",
       "      <th>PLKO</th>\n",
       "      <td>1</td>\n",
       "      <td>5980</td>\n",
       "      <td>78</td>\n",
       "      <td>csv</td>\n",
       "    </tr>\n",
       "    <tr>\n",
       "      <th>PLPO</th>\n",
       "      <td>1</td>\n",
       "      <td>13812</td>\n",
       "      <td>226</td>\n",
       "      <td>csv</td>\n",
       "    </tr>\n",
       "    <tr>\n",
       "      <th>PLWP</th>\n",
       "      <td>1</td>\n",
       "      <td>14227</td>\n",
       "      <td>20</td>\n",
       "      <td>csv</td>\n",
       "    </tr>\n",
       "    <tr>\n",
       "      <th>PLMZ</th>\n",
       "      <td>1</td>\n",
       "      <td>1668</td>\n",
       "      <td>54</td>\n",
       "      <td>csv</td>\n",
       "    </tr>\n",
       "    <tr>\n",
       "      <th>STPO</th>\n",
       "      <td>1</td>\n",
       "      <td>30387</td>\n",
       "      <td>133</td>\n",
       "      <td>csv</td>\n",
       "    </tr>\n",
       "    <tr>\n",
       "      <th>T001W</th>\n",
       "      <td>1</td>\n",
       "      <td>236</td>\n",
       "      <td>66</td>\n",
       "      <td>csv</td>\n",
       "    </tr>\n",
       "    <tr>\n",
       "      <th>T024I</th>\n",
       "      <td>1</td>\n",
       "      <td>370</td>\n",
       "      <td>7</td>\n",
       "      <td>csv</td>\n",
       "    </tr>\n",
       "    <tr>\n",
       "      <th>T353I</th>\n",
       "      <td>1</td>\n",
       "      <td>124</td>\n",
       "      <td>5</td>\n",
       "      <td>csv</td>\n",
       "    </tr>\n",
       "    <tr>\n",
       "      <th>CSLT</th>\n",
       "      <td>1</td>\n",
       "      <td>20</td>\n",
       "      <td>8</td>\n",
       "      <td>csv</td>\n",
       "    </tr>\n",
       "    <tr>\n",
       "      <th>CRTX</th>\n",
       "      <td>1</td>\n",
       "      <td>8758</td>\n",
       "      <td>8</td>\n",
       "      <td>csv</td>\n",
       "    </tr>\n",
       "    <tr>\n",
       "      <th>T356_T</th>\n",
       "      <td>1</td>\n",
       "      <td>35</td>\n",
       "      <td>5</td>\n",
       "      <td>csv</td>\n",
       "    </tr>\n",
       "    <tr>\n",
       "      <th>T351.</th>\n",
       "      <td>1</td>\n",
       "      <td>20</td>\n",
       "      <td>19</td>\n",
       "      <td>csv</td>\n",
       "    </tr>\n",
       "    <tr>\n",
       "      <th>T351P</th>\n",
       "      <td>1</td>\n",
       "      <td>731</td>\n",
       "      <td>21</td>\n",
       "      <td>csv</td>\n",
       "    </tr>\n",
       "    <tr>\n",
       "      <th>T357Z_T</th>\n",
       "      <td>1</td>\n",
       "      <td>3</td>\n",
       "      <td>4</td>\n",
       "      <td>csv</td>\n",
       "    </tr>\n",
       "    <tr>\n",
       "      <th>T003P</th>\n",
       "      <td>1</td>\n",
       "      <td>121</td>\n",
       "      <td>4</td>\n",
       "      <td>csv</td>\n",
       "    </tr>\n",
       "    <tr>\n",
       "      <th>T370K</th>\n",
       "      <td>1</td>\n",
       "      <td>513</td>\n",
       "      <td>3</td>\n",
       "      <td>csv</td>\n",
       "    </tr>\n",
       "    <tr>\n",
       "      <th>T430T</th>\n",
       "      <td>1</td>\n",
       "      <td>38</td>\n",
       "      <td>5</td>\n",
       "      <td>csv</td>\n",
       "    </tr>\n",
       "    <tr>\n",
       "      <th>T352B_T</th>\n",
       "      <td>1</td>\n",
       "      <td>506</td>\n",
       "      <td>4</td>\n",
       "      <td>csv</td>\n",
       "    </tr>\n",
       "    <tr>\n",
       "      <th>QPCD</th>\n",
       "      <td>1</td>\n",
       "      <td>6572</td>\n",
       "      <td>20</td>\n",
       "      <td>csv</td>\n",
       "    </tr>\n",
       "  </tbody>\n",
       "</table>\n",
       "</div>"
      ],
      "text/plain": [
       "                Imported   Rows Columns file type\n",
       "IFLOT.                 1    277      80       csv\n",
       "IFLOTX                 1    277       7       csv\n",
       "IH06                   1    277     129       csv\n",
       "ILOA                   1  64048      48       csv\n",
       "EQUI                   1    841      88       csv\n",
       "EQUZ                   1   3239      46       csv\n",
       "EQKT                   1    841       7       csv\n",
       "IH08                   1    841      27       csv\n",
       "VIAUFKS                1  44670     205       csv\n",
       "AFRU                   1  81752     144       csv\n",
       "AFVC                   1  81255     181       csv\n",
       "MAKT                   1    800       5       csv\n",
       "ZEAM_G_WAR_COND        1   7666      25       csv\n",
       "LFA1                   1  69946     139       csv\n",
       "RESB                   1   3321     202       csv\n",
       "MSEG                   1   6700     215       csv\n",
       "COVP                   1  57438     123       csv\n",
       "VIQMEL                 1  15308     252       csv\n",
       "QMFE                   1   1697      57       csv\n",
       "IMPTT                  1     60      49       csv\n",
       "MMPT                   1   7749      18       csv\n",
       "IMRG                   1    600      53       csv\n",
       "MPOS                   1    389      72       csv\n",
       "IP17                   1    389      24       csv\n",
       "MPLA                   1     62      47       csv\n",
       "MHIS                   1   5302      64       csv\n",
       "IP16                   1     62      22       csv\n",
       "PLKO                   1   5980      78       csv\n",
       "PLPO                   1  13812     226       csv\n",
       "PLWP                   1  14227      20       csv\n",
       "PLMZ                   1   1668      54       csv\n",
       "STPO                   1  30387     133       csv\n",
       "T001W                  1    236      66       csv\n",
       "T024I                  1    370       7       csv\n",
       "T353I                  1    124       5       csv\n",
       "CSLT                   1     20       8       csv\n",
       "CRTX                   1   8758       8       csv\n",
       "T356_T                 1     35       5       csv\n",
       "T351.                  1     20      19       csv\n",
       "T351P                  1    731      21       csv\n",
       "T357Z_T                1      3       4       csv\n",
       "T003P                  1    121       4       csv\n",
       "T370K                  1    513       3       csv\n",
       "T430T                  1     38       5       csv\n",
       "T352B_T                1    506       4       csv\n",
       "QPCD                   1   6572      20       csv"
      ]
     },
     "execution_count": 62,
     "metadata": {},
     "output_type": "execute_result"
    }
   ],
   "source": [
    "file_list"
   ]
  },
  {
   "cell_type": "markdown",
   "metadata": {},
   "source": [
    "# Prepare"
   ]
  },
  {
   "cell_type": "markdown",
   "metadata": {},
   "source": [
    "Wrangling, munging, and cleaning of the imported data.\n",
    "\n",
    "Data integrity in SAP is often problematic. Therefore this study evaluates the data integrity and applies methods to fix data problems. The entirety of this chapter is devoted to the evaluation and cleaning of the SAP data. The methods applied are often propriety IP, therefore the assumptions and approaches are hidden along with the code. Where there are important assumptions for the reader to be aware of, these will be displayed."
   ]
  },
  {
   "cell_type": "markdown",
   "metadata": {},
   "source": [
    "Another Python script will prepare the information for analysis"
   ]
  },
  {
   "cell_type": "markdown",
   "metadata": {},
   "source": [
    "# Evaluate, Transform, and Model"
   ]
  },
  {
   "cell_type": "markdown",
   "metadata": {},
   "source": [
    "## Introduction"
   ]
  },
  {
   "cell_type": "markdown",
   "metadata": {},
   "source": [
    "The result Data Frame is where the results of the analysis are populated. It is essentially concerned only with three fields (which also makes the Key field for exports): \n",
    " - Removed (previous) Material number \n",
    " - New Order number\n",
    " - Previous Order number\n",
    "\n",
    "The remaining fields are obtained from these three fields and are used to enrich the final result. \n",
    "\n",
    "A lot of work needs to be done to keep the result Data Frame to a reasonable size. There are 49,950,000 combinations between only 10,000 orders, and that is not even considering that they may have more than one material issued. There are various rules applied to get a useful number of combination that reflect reality as closely as possible.\n",
    "\n",
    "In *Study Parameters* (see Chapter 0.2), you can adjust how exact/precise the outcome should be. Relaxing the parameters will give more results, but it could end up being too noisy.  "
   ]
  },
  {
   "cell_type": "markdown",
   "metadata": {},
   "source": [
    "## Technical Object Hierarchy"
   ]
  },
  {
   "cell_type": "markdown",
   "metadata": {},
   "source": [
    "This section is devoted to the bundling of technical objects from their hierarchy. In Chapter 0.3 the number of hierarchy level searches was set. This section finds all the technical objects up and down the hierarchy for each technical object used."
   ]
  },
  {
   "cell_type": "code",
   "execution_count": 343,
   "metadata": {
    "ExecuteTime": {
     "end_time": "2020-02-03T14:01:10.628817Z",
     "start_time": "2020-02-03T14:01:10.614786Z"
    }
   },
   "outputs": [
    {
     "name": "stdout",
     "output_type": "stream",
     "text": [
      "Technical Object hierarchy created\n"
     ]
    }
   ],
   "source": [
    "# create a technical object data frame  \n",
    "tech_obj_df = Floc[['Functional Location','Superior functional location']]\n",
    "\n",
    "# merge Floc and Equipment before appending\n",
    "df_to_append = pd.merge(Floc[['Functional Location','Superior functional location']],\n",
    "                        Equipment[['Functional Location','Equipment','Superord. Equipment']],\n",
    "                        how='right',\n",
    "                        left_on=['Functional Location'],\n",
    "                        right_on=['Functional Location']\n",
    "                        )\n",
    "\n",
    "# add the equipment to the result dataframe\n",
    "tech_obj_df = tech_obj_df.append(df_to_append,ignore_index=True,sort=False)\n",
    "\n",
    "# sort the dataframe so that Functional Location and the Flocs with equipment are together\n",
    "tech_obj_df.sort_values(by=['Functional Location','Equipment'],inplace=True,na_position='first')\n",
    "tech_obj_df = tech_obj_df.reset_index(drop=True)\n",
    "\n",
    "print('Technical Object hierarchy created')"
   ]
  },
  {
   "cell_type": "code",
   "execution_count": 344,
   "metadata": {
    "ExecuteTime": {
     "end_time": "2020-02-03T14:01:10.666821Z",
     "start_time": "2020-02-03T14:01:10.629786Z"
    }
   },
   "outputs": [
    {
     "name": "stdout",
     "output_type": "stream",
     "text": [
      "598 out of 1118 valid technical objects have been used for PM Orders\n"
     ]
    }
   ],
   "source": [
    "# reduce the tech_obj_df size by only keeping objects that were used in the orders \n",
    "tech_obj_df = tech_obj_df[tech_obj_df['Functional Location'].isin(orders['Functional Location'].astype(str))]\n",
    "tech_obj_df = tech_obj_df[(tech_obj_df['Equipment'].isin(orders['Equipment'].astype(str)))|(tech_obj_df['Equipment'].isna())]\n",
    "\n",
    "# treat flocs and equipment as the same objects to make hierarchy searches easier\n",
    "tech_obj_df['Object']=tech_obj_df['Functional Location']\n",
    "tech_obj_df['Object'][tech_obj_df['Equipment'].notnull()]=tech_obj_df['Equipment'][tech_obj_df['Equipment'].notnull()]\n",
    "\n",
    "tech_obj_df['Parent']=tech_obj_df['Superior functional location']\n",
    "tech_obj_df['Parent'][tech_obj_df['Superord. Equipment'].notnull()]=tech_obj_df['Superord. Equipment'][tech_obj_df['Superord. Equipment'].notnull()]\n",
    "\n",
    "# convert the objects to the same type (string)\n",
    "tech_obj_df['Object']=tech_obj_df['Object'].astype('str')\n",
    "\n",
    "print(str(len(tech_obj_df))\n",
    "      +' out of ' \n",
    "      + str(len(Floc)+len(Equipment)) \n",
    "      + ' valid technical objects have been used for PM Orders')"
   ]
  },
  {
   "cell_type": "code",
   "execution_count": 345,
   "metadata": {
    "ExecuteTime": {
     "end_time": "2020-02-03T14:01:10.676820Z",
     "start_time": "2020-02-03T14:01:10.667795Z"
    }
   },
   "outputs": [
    {
     "name": "stdout",
     "output_type": "stream",
     "text": [
      "get_tech_obj_hierarchy instantiated\n"
     ]
    }
   ],
   "source": [
    "# @jit(nopython=True)\n",
    "def get_tech_obj_hierarchy(tech_obj,\n",
    "                           df = 0,\n",
    "                           levels_up = abs(parameter_list.loc['hierarchy levels up']['Setting']),\n",
    "                           levels_down = abs(parameter_list.loc['hierarchy levels down']['Setting'])\n",
    "                          ):\n",
    "    \n",
    "    '''\n",
    "    Pass the functional location or equipment and this function will return all the technical objects in the hierarchy \n",
    "    according to the set number of levels.  \n",
    "    \n",
    "    args:\n",
    "        tech_obj = the floc or equipment nr\n",
    "        \n",
    "    kwargs:\n",
    "        df = the technical object dataframe of functional locations and equipment in the hierarchy\n",
    "        levels_up = the number of levels upward in the hierarchy to evaluate\n",
    "        levels_down = the number of levels downward in the hierarchy to evaluate\n",
    "            \n",
    "    returns tech_obj, hier_obj\n",
    "        hier_obj = a string with all the technical objects (flocs and equipment) in the hierarchy seperated by ||\n",
    "         \n",
    "    '''\n",
    "    \n",
    "    # get the global list of technical objects if it was not passed to the function\n",
    "    if df == 0:\n",
    "        global tech_obj_df\n",
    "        df = tech_obj_df[['Object','Parent']]\n",
    "        df = df.set_index('Object')\n",
    "    \n",
    "    # include the technical object in its own hierarchy\n",
    "    hier_obj = [tech_obj]\n",
    "    \n",
    "    # 1. Find objects upward in hierarchy \n",
    "    parent=[]\n",
    "    if levels_up > 0:\n",
    "        search_obj = tech_obj\n",
    "        for level in range(1,levels_up+1):\n",
    "            try:\n",
    "                parent = df.loc[search_obj]['Parent']            \n",
    "                hier_obj.append(parent)\n",
    "            except:\n",
    "                pass\n",
    "            search_obj = parent\n",
    "    \n",
    "    # 2. Find objects downward in hierarchy \n",
    "    if levels_down > 0:\n",
    "        search_obj = [tech_obj]\n",
    "        for level in range(1,levels_down+1):\n",
    "            children = list(tech_obj_df['Object'][tech_obj_df['Parent'].isin(search_obj)])\n",
    "            try:\n",
    "                if len(children)==1:\n",
    "                    hier_obj.append(children)\n",
    "                elif len(children)>1:    \n",
    "                    hier_obj.extend(children)\n",
    "            except:\n",
    "                pass\n",
    "            search_obj = children\n",
    "                  \n",
    "    hier_obj = '||'.join(map(str, hier_obj))\n",
    "    return tech_obj, hier_obj\n",
    "\n",
    "print('get_tech_obj_hierarchy instantiated')"
   ]
  },
  {
   "cell_type": "code",
   "execution_count": 346,
   "metadata": {
    "ExecuteTime": {
     "end_time": "2020-02-03T14:01:12.610783Z",
     "start_time": "2020-02-03T14:01:10.677824Z"
    }
   },
   "outputs": [
    {
     "name": "stdout",
     "output_type": "stream",
     "text": [
      "Hierarchy search results found\n"
     ]
    }
   ],
   "source": [
    "result_mat = np.vectorize(get_tech_obj_hierarchy)(tech_obj_df['Object'].astype(str))\n",
    "print('Hierarchy search results found')"
   ]
  },
  {
   "cell_type": "code",
   "execution_count": 347,
   "metadata": {
    "ExecuteTime": {
     "end_time": "2020-02-03T14:01:12.649784Z",
     "start_time": "2020-02-03T14:01:12.612785Z"
    }
   },
   "outputs": [
    {
     "name": "stdout",
     "output_type": "stream",
     "text": [
      "Hierarchy search results added\n"
     ]
    }
   ],
   "source": [
    "# add the matched materials to the material master\n",
    "similar_df = pd.DataFrame(np.array(result_mat).T.tolist(),columns=['Object','Hierarchy objects'])\n",
    "\n",
    "tech_obj_df = pd.merge(tech_obj_df,\n",
    "                     similar_df,\n",
    "                     how='left',\n",
    "                     left_on=['Object'],\n",
    "                     right_on=['Object']\n",
    "                    )\n",
    "\n",
    "print('Hierarchy search results added')"
   ]
  },
  {
   "cell_type": "markdown",
   "metadata": {},
   "source": [
    "## Goods"
   ]
  },
  {
   "cell_type": "markdown",
   "metadata": {},
   "source": [
    "This section builds a combination of reservations and goods movements with various logic applied to get the most likely material and order number combination."
   ]
  },
  {
   "cell_type": "code",
   "execution_count": 348,
   "metadata": {
    "ExecuteTime": {
     "end_time": "2020-02-03T14:01:12.681784Z",
     "start_time": "2020-02-03T14:01:12.650782Z"
    }
   },
   "outputs": [
    {
     "name": "stdout",
     "output_type": "stream",
     "text": [
      "Reservations and Goods Movements merged\n"
     ]
    }
   ],
   "source": [
    "goods_df = pd.merge(goods_move[['Order',\n",
    "                                'Delivery Text',\n",
    "                                'Material Delivered',\n",
    "                                'Vendor Delivery',\n",
    "                                'Quantity Delivered',\n",
    "                                'Base Unit of Measure Delivery',\n",
    "                                'Price Delivery',\n",
    "                                'Price purchased',\n",
    "                                'Currency Delivery',\n",
    "                                'Material purchased',\n",
    "                                'Similar Text',\n",
    "                                'Similar Material']],\n",
    "                    reservations[['Order',\n",
    "                                  'Text',\n",
    "                                  'Material',\n",
    "                                  'Vendor',\n",
    "                                  'Quantity withdrawn',\n",
    "                                  'Base Unit of Measure',\n",
    "                                  'Price/currency',\n",
    "                                  'Currency',\n",
    "                                  'Similar Text',\n",
    "                                  'Similar Material']],\n",
    "                    how='outer',\n",
    "                    left_on=['Order','Delivery Text'],\n",
    "                    right_on=['Order','Text']\n",
    "                    )\n",
    "goods_df['Delivery Text'][goods_df['Delivery Text']=='nan']=np.nan\n",
    "goods_df['Text'][goods_df['Text']=='nan']=np.nan\n",
    "goods_df.rename(columns={'Similar Text_x':'Similar Text Delivery',\n",
    "                         'Similar Material_x':'Similar Material Delivery',\n",
    "                         'Similar Text_y':'Similar Text reservation',\n",
    "                         'Similar Material_y':'Similar Material reservation',\n",
    "                         'Material':'Material Reserved',\n",
    "                         'Quantity':'Quantity Reserved',\n",
    "                         'Vendor':'Vendor Reserved',\n",
    "                         'Text':'Reservation Text',\n",
    "                         'Currency':'Currency Reserved',\n",
    "                         'Activity':'Order Operation Activity',\n",
    "                         'Base Unit of Measure':'Base Unit of Measure Reserved'},\n",
    "                inplace=True\n",
    "               )\n",
    "\n",
    "goods_df['Order'] = goods_df['Order'].astype('str')\n",
    "\n",
    "reservations = garbage\n",
    "goods_move = garbage\n",
    "print('Reservations and Goods Movements merged')"
   ]
  },
  {
   "cell_type": "code",
   "execution_count": 349,
   "metadata": {
    "ExecuteTime": {
     "end_time": "2020-02-03T14:01:12.686784Z",
     "start_time": "2020-02-03T14:01:12.682783Z"
    }
   },
   "outputs": [
    {
     "name": "stdout",
     "output_type": "stream",
     "text": [
      "Reservation total cost added\n"
     ]
    }
   ],
   "source": [
    "goods_df['Price Reservation']=goods_df['Quantity withdrawn']*goods_df['Price/currency']\n",
    "print('Reservation total cost added')"
   ]
  },
  {
   "cell_type": "code",
   "execution_count": 350,
   "metadata": {
    "ExecuteTime": {
     "end_time": "2020-02-03T14:01:12.695784Z",
     "start_time": "2020-02-03T14:01:12.687784Z"
    }
   },
   "outputs": [
    {
     "name": "stdout",
     "output_type": "stream",
     "text": [
      "2 mismatches for material nr: Material purchased and material delivered are not the same\n"
     ]
    }
   ],
   "source": [
    "print(str(goods_df['Delivery Text'][(goods_df['Material purchased']!=goods_df['Material Delivered'])&(goods_df['Material purchased'].notnull())&(goods_df['Material Delivered'].notnull())].count())\n",
    "     + ' mismatches for material nr: Material purchased and material delivered are not the same')"
   ]
  },
  {
   "cell_type": "code",
   "execution_count": 351,
   "metadata": {
    "ExecuteTime": {
     "end_time": "2020-02-03T14:01:12.704783Z",
     "start_time": "2020-02-03T14:01:12.696783Z"
    }
   },
   "outputs": [
    {
     "name": "stdout",
     "output_type": "stream",
     "text": [
      "2 mismatches for material nr: Material reserved and material delivered are not the same\n"
     ]
    }
   ],
   "source": [
    "print(str(goods_df['Delivery Text'][(goods_df['Material Reserved']!=goods_df['Material Delivered'])&(goods_df['Material Reserved'].notnull())&(goods_df['Material Delivered'].notnull())].count())\n",
    "     + ' mismatches for material nr: Material reserved and material delivered are not the same')"
   ]
  },
  {
   "cell_type": "code",
   "execution_count": 352,
   "metadata": {
    "ExecuteTime": {
     "end_time": "2020-02-03T14:01:12.711830Z",
     "start_time": "2020-02-03T14:01:12.705783Z"
    }
   },
   "outputs": [
    {
     "name": "stdout",
     "output_type": "stream",
     "text": [
      "2 mismatches for material nr: Material reserved and material purchased are not the same\n"
     ]
    }
   ],
   "source": [
    "print(str(goods_df['Delivery Text'][(goods_df['Material Reserved']!=goods_df['Material purchased'])&(goods_df['Material Reserved'].notnull())&(goods_df['Material purchased'].notnull())].count())\n",
    "     + ' mismatches for material nr: Material reserved and material purchased are not the same')"
   ]
  },
  {
   "cell_type": "code",
   "execution_count": 353,
   "metadata": {
    "ExecuteTime": {
     "end_time": "2020-02-03T14:01:12.720785Z",
     "start_time": "2020-02-03T14:01:12.712784Z"
    }
   },
   "outputs": [
    {
     "name": "stdout",
     "output_type": "stream",
     "text": [
      "75 mismatches for vendor: Vendor in reservation is not vendor on purchase\n"
     ]
    }
   ],
   "source": [
    "print(str(goods_df['Delivery Text'][(goods_df['Vendor Reserved']!=goods_df['Vendor Delivery'])&(goods_df['Vendor Reserved'].notnull())&(goods_df['Vendor Delivery'].notnull())].count())\n",
    "     + ' mismatches for vendor: Vendor in reservation is not vendor on purchase')"
   ]
  },
  {
   "cell_type": "code",
   "execution_count": 354,
   "metadata": {
    "ExecuteTime": {
     "end_time": "2020-02-03T14:01:12.728785Z",
     "start_time": "2020-02-03T14:01:12.721784Z"
    }
   },
   "outputs": [
    {
     "name": "stdout",
     "output_type": "stream",
     "text": [
      "300 mismatches for Quantity: Quantity reserved is not quantity delivered\n"
     ]
    }
   ],
   "source": [
    "print(str(goods_df['Delivery Text'][(goods_df['Quantity Delivered']!=goods_df['Quantity withdrawn'])&(goods_df['Quantity Delivered'].notnull())&(goods_df['Quantity withdrawn'].notnull())].count())\n",
    "     + ' mismatches for Quantity: Quantity reserved is not quantity delivered')"
   ]
  },
  {
   "cell_type": "code",
   "execution_count": 355,
   "metadata": {
    "ExecuteTime": {
     "end_time": "2020-02-03T14:01:12.736785Z",
     "start_time": "2020-02-03T14:01:12.729783Z"
    }
   },
   "outputs": [
    {
     "name": "stdout",
     "output_type": "stream",
     "text": [
      "293 mismatches for Price/Cost: Price/Cost on reservation and Price/Cost on Delivery are not the same\n"
     ]
    }
   ],
   "source": [
    "print(str(goods_df['Delivery Text'][(goods_df['Price Reservation']!=goods_df['Price Delivery'])&(goods_df['Price Reservation'].notnull())&(goods_df['Price Delivery'].notnull())].count())\n",
    "     + ' mismatches for Price/Cost: Price/Cost on reservation and Price/Cost on Delivery are not the same')"
   ]
  },
  {
   "cell_type": "code",
   "execution_count": 356,
   "metadata": {
    "ExecuteTime": {
     "end_time": "2020-02-03T14:01:12.747810Z",
     "start_time": "2020-02-03T14:01:12.737784Z"
    }
   },
   "outputs": [
    {
     "name": "stdout",
     "output_type": "stream",
     "text": [
      "New Fields created\n"
     ]
    }
   ],
   "source": [
    "# create new columns that will be used going forward for the model\n",
    "goods_df['Material']=goods_df['Material Delivered']\n",
    "goods_df['Cost']=goods_df['Price Delivery']\n",
    "goods_df['Currency']=goods_df['Currency Delivery']\n",
    "goods_df['Vendor']=goods_df['Vendor Delivery']\n",
    "goods_df['Quantity']=goods_df['Quantity Delivered']\n",
    "goods_df['UOM']=goods_df['Base Unit of Measure Delivery']\n",
    "print('New Fields created')"
   ]
  },
  {
   "cell_type": "markdown",
   "metadata": {},
   "source": [
    "Apply logic to populate Materials for Orders"
   ]
  },
  {
   "cell_type": "code",
   "execution_count": 357,
   "metadata": {
    "ExecuteTime": {
     "end_time": "2020-02-03T14:01:12.793834Z",
     "start_time": "2020-02-03T14:01:12.748819Z"
    }
   },
   "outputs": [
    {
     "name": "stdout",
     "output_type": "stream",
     "text": [
      "Materials allocated\n"
     ]
    }
   ],
   "source": [
    "# add valid reservation materials\n",
    "goods_df['Material'][(goods_df['Material Delivered'].isna())&\n",
    "                     (goods_df['Material purchased'].isna())&\n",
    "                     (goods_df['Material Reserved'].notnull())] \\\n",
    "=goods_df['Material Reserved'][(goods_df['Material Delivered'].isna())&\n",
    "                               (goods_df['Material purchased'].isna())&\n",
    "                               (goods_df['Material Reserved'].notnull())]\n",
    "\n",
    "\n",
    "# add valid purchase materials (should be zero, but try in anyways)\n",
    "goods_df['Material'][(goods_df['Material Delivered'].isna())&\n",
    "                     (goods_df['Material purchased'].notnull())&\n",
    "                     (goods_df['Material Reserved'].isna())] \\\n",
    "=goods_df['Material purchased'][(goods_df['Material Delivered'].isna())&\n",
    "                                (goods_df['Material purchased'].notnull())&\n",
    "                                (goods_df['Material Reserved'].isna())]\n",
    "\n",
    "\n",
    "# add similar materials from deliveries\n",
    "goods_df['Material'][(goods_df['Material Delivered'].isna())&\n",
    "                     (goods_df['Material purchased'].isna())&\n",
    "                     (goods_df['Material Reserved'].isna())&\n",
    "                     (goods_df['Similar Material Delivery'].notnull())] \\\n",
    "=goods_df['Similar Material Delivery'][(goods_df['Material Delivered'].isna())&\n",
    "                                       (goods_df['Material purchased'].isna())&\n",
    "                                       (goods_df['Material Reserved'].isna())&\n",
    "                                       (goods_df['Similar Material Delivery'].notnull())]\n",
    "\n",
    "\n",
    "# add similar materials from reservations\n",
    "goods_df['Material'][(goods_df['Material Delivered'].isna())&\n",
    "                     (goods_df['Material purchased'].isna())&\n",
    "                     (goods_df['Material Reserved'].isna())&\n",
    "                     (goods_df['Similar Material Delivery'].isna())&\n",
    "                     (goods_df['Similar Material reservation'].notnull())] \\\n",
    "=goods_df['Similar Material reservation'][(goods_df['Material Delivered'].isna())&\n",
    "                                          (goods_df['Material purchased'].isna())&\n",
    "                                          (goods_df['Material Reserved'].isna())&\n",
    "                                          (goods_df['Similar Material Delivery'].isna())&\n",
    "                                          (goods_df['Similar Material reservation'].notnull())]\n",
    "\n",
    "\n",
    "# add delivery text with a prefix\n",
    "goods_df['Material'][(goods_df['Material Delivered'].isna())&\n",
    "                     (goods_df['Material purchased'].isna())&\n",
    "                     (goods_df['Material Reserved'].isna())&\n",
    "                     (goods_df['Similar Material Delivery'].isna())&\n",
    "                     (goods_df['Similar Material reservation'].isna())] \\\n",
    "='||'+goods_df['Delivery Text'][(goods_df['Material Delivered'].isna())&\n",
    "                           (goods_df['Material purchased'].isna())&\n",
    "                           (goods_df['Material Reserved'].isna())&\n",
    "                           (goods_df['Similar Material Delivery'].isna())&\n",
    "                           (goods_df['Similar Material reservation'].isna())]\n",
    "\n",
    "\n",
    "# add reservation text with a prefix\n",
    "goods_df['Material'][(goods_df['Material Delivered'].isna())&\n",
    "                     (goods_df['Material purchased'].isna())&\n",
    "                     (goods_df['Material Reserved'].isna())&\n",
    "                     (goods_df['Similar Material Delivery'].isna())&\n",
    "                     (goods_df['Similar Material reservation'].isna())&\n",
    "                     (goods_df['Delivery Text'].isna())] \\\n",
    "='||'+goods_df['Reservation Text'][(goods_df['Material Delivered'].isna())&\n",
    "                              (goods_df['Material purchased'].isna())&\n",
    "                              (goods_df['Material Reserved'].isna())&\n",
    "                              (goods_df['Similar Material Delivery'].isna())&\n",
    "                              (goods_df['Similar Material reservation'].isna())&\n",
    "                              (goods_df['Delivery Text'].isna())]\n",
    "\n",
    "print('Materials allocated')"
   ]
  },
  {
   "cell_type": "markdown",
   "metadata": {},
   "source": [
    "Add the items text without materials to the material master. It is added after the similar materials were found, since similar descriptions from goods movements and issues have different scoring criteria."
   ]
  },
  {
   "cell_type": "code",
   "execution_count": 358,
   "metadata": {
    "ExecuteTime": {
     "end_time": "2020-02-03T14:01:12.839838Z",
     "start_time": "2020-02-03T14:01:12.794817Z"
    }
   },
   "outputs": [
    {
     "name": "stdout",
     "output_type": "stream",
     "text": [
      "Material master updated with no-materials\n"
     ]
    }
   ],
   "source": [
    "# create the new dataframe to be added\n",
    "material_addition=pd.DataFrame()\n",
    "\n",
    "# add material without the || prefix\n",
    "material_addition['Material']=goods_df['Material'][goods_df['Material'].str[:2]=='||'].str[2:]\n",
    "\n",
    "# add material description (the same as the material number in this case)\n",
    "material_addition['Material Description'] = material_addition['Material']\n",
    "\n",
    "# add similar material descriptions where no material number was found from deliveries\n",
    "material_addition['Similar Materials'] = goods_df['Similar Text Delivery'][goods_df['Material'].str[:2]=='||']\n",
    "\n",
    "# add similar material descriptions where no material number was found from reservations\n",
    "material_addition['Similar Materials'][material_addition['Similar Materials'].isna()] = goods_df['Similar Text reservation'][(goods_df['Similar Material Delivery'].isna())&(goods_df['Material'].str[:4]=='||||')]\n",
    "\n",
    "# make sure that the material is also in the similar materials field \n",
    "material_addition['Similar Materials'][material_addition['Similar Materials'].isna()]= material_addition['Material'][material_addition['Similar Materials'].isna()]\n",
    "material_addition['Similar Materials'][material_addition['Similar Materials'].notnull()]= material_addition['Material'][material_addition['Similar Materials'].notnull()] +'||'+ material_addition['Similar Materials'][material_addition['Similar Materials'].notnull()]\n",
    "\n",
    "# remove the || prefix from the goods data frame\n",
    "goods_df['Material'][goods_df['Material'].str[:2]=='||'] = goods_df['Material'][goods_df['Material'].str[:2]=='||'].str[2:]\n",
    "\n",
    "# append the material master\n",
    "materials = materials.append(material_addition,ignore_index=True)\n",
    "print('Material master updated with no-materials')"
   ]
  },
  {
   "cell_type": "markdown",
   "metadata": {},
   "source": [
    "Apply logic to populate Costs for Materials"
   ]
  },
  {
   "cell_type": "code",
   "execution_count": 359,
   "metadata": {
    "ExecuteTime": {
     "end_time": "2020-02-03T14:01:12.856832Z",
     "start_time": "2020-02-03T14:01:12.840817Z"
    }
   },
   "outputs": [
    {
     "name": "stdout",
     "output_type": "stream",
     "text": [
      "Costs allocated\n"
     ]
    }
   ],
   "source": [
    "# add valid costs from reservations\n",
    "goods_df['Cost'][(goods_df['Price Delivery'].isna())&\n",
    "                     (goods_df['Price purchased'].isna())&\n",
    "                     (goods_df['Price Reservation'].notnull())] \\\n",
    "=goods_df['Price Reservation'][(goods_df['Price Delivery'].isna())&\n",
    "                               (goods_df['Price purchased'].isna())&\n",
    "                               (goods_df['Price Reservation'].notnull())]\n",
    "\n",
    "\n",
    "# add valid costs from purchase informations\n",
    "goods_df['Cost'][(goods_df['Price Delivery'].isna())&\n",
    "                     (goods_df['Price purchased'].notnull())&\n",
    "                     (goods_df['Price Reservation'].isna())] \\\n",
    "=goods_df['Price purchased'][(goods_df['Price Delivery'].isna())&\n",
    "                                (goods_df['Price purchased'].notnull())&\n",
    "                                (goods_df['Price Reservation'].isna())]\n",
    "\n",
    "\n",
    "print('Costs allocated')"
   ]
  },
  {
   "cell_type": "markdown",
   "metadata": {},
   "source": [
    "Apply logic to populate Currency"
   ]
  },
  {
   "cell_type": "code",
   "execution_count": 360,
   "metadata": {
    "ExecuteTime": {
     "end_time": "2020-02-03T14:01:12.865846Z",
     "start_time": "2020-02-03T14:01:12.857818Z"
    }
   },
   "outputs": [
    {
     "name": "stdout",
     "output_type": "stream",
     "text": [
      "Currency allocated\n"
     ]
    }
   ],
   "source": [
    "# add Currency from reservations\n",
    "goods_df['Currency'][(goods_df['Currency Delivery'].isna())&\n",
    "                     (goods_df['Currency Reserved'].notnull())] \\\n",
    "=goods_df['Currency Reserved'][(goods_df['Currency Delivery'].isna())&\n",
    "                               (goods_df['Currency Reserved'].notnull())]\n",
    "\n",
    "\n",
    "print('Currency allocated')"
   ]
  },
  {
   "cell_type": "markdown",
   "metadata": {},
   "source": [
    "Apply logic to populate Vendor"
   ]
  },
  {
   "cell_type": "code",
   "execution_count": 361,
   "metadata": {
    "ExecuteTime": {
     "end_time": "2020-02-03T14:01:12.877834Z",
     "start_time": "2020-02-03T14:01:12.866843Z"
    }
   },
   "outputs": [
    {
     "name": "stdout",
     "output_type": "stream",
     "text": [
      "Vendor allocated\n"
     ]
    }
   ],
   "source": [
    "# add vendors from reservations\n",
    "goods_df['Vendor'][(goods_df['Vendor Delivery'].isna())&\n",
    "                     (goods_df['Vendor Reserved'].notnull())] \\\n",
    "=goods_df['Vendor Reserved'][(goods_df['Vendor Delivery'].isna())&\n",
    "                               (goods_df['Vendor Reserved'].notnull())]\n",
    "\n",
    "\n",
    "print('Vendor allocated')"
   ]
  },
  {
   "cell_type": "markdown",
   "metadata": {},
   "source": [
    "Apply logic to populate Quantity"
   ]
  },
  {
   "cell_type": "code",
   "execution_count": 362,
   "metadata": {
    "ExecuteTime": {
     "end_time": "2020-02-03T14:01:12.889820Z",
     "start_time": "2020-02-03T14:01:12.878817Z"
    }
   },
   "outputs": [
    {
     "name": "stdout",
     "output_type": "stream",
     "text": [
      "Quantity allocated\n"
     ]
    }
   ],
   "source": [
    "# add Quantity from reservations\n",
    "goods_df['Quantity'][(goods_df['Quantity Delivered'].isna())&\n",
    "                     (goods_df['Quantity withdrawn'].notnull())] \\\n",
    "=goods_df['Quantity withdrawn'][(goods_df['Quantity Delivered'].isna())&\n",
    "                               (goods_df['Quantity withdrawn'].notnull())]\n",
    "\n",
    "# give Quantity = 1.0 if costs were incurred\n",
    "goods_df['Quantity'][(goods_df['Quantity Delivered'].isna())&\n",
    "                     (goods_df['Quantity withdrawn'].isna())&\n",
    "                     (abs(goods_df['Cost'])>0)] =1.0\n",
    "\n",
    "\n",
    "print('Quantity allocated')"
   ]
  },
  {
   "cell_type": "markdown",
   "metadata": {},
   "source": [
    "Apply logic to populate Unit of Measure (UOM)"
   ]
  },
  {
   "cell_type": "code",
   "execution_count": 363,
   "metadata": {
    "ExecuteTime": {
     "end_time": "2020-02-03T14:01:12.902818Z",
     "start_time": "2020-02-03T14:01:12.890835Z"
    }
   },
   "outputs": [
    {
     "name": "stdout",
     "output_type": "stream",
     "text": [
      "UOM allocated\n"
     ]
    }
   ],
   "source": [
    "# add UOM from reservations\n",
    "goods_df['UOM'][(goods_df['Base Unit of Measure Delivery'].isna())&\n",
    "                     (goods_df['Base Unit of Measure Reserved'].notnull())] \\\n",
    "=goods_df['Base Unit of Measure Reserved'][(goods_df['Base Unit of Measure Delivery'].isna())&\n",
    "                                           (goods_df['Base Unit of Measure Reserved'].notnull())]\n",
    "\n",
    "# give UOM = DERIVED for the remainder\n",
    "goods_df['UOM'][(goods_df['Base Unit of Measure Delivery'].isna())&\n",
    "                (goods_df['Base Unit of Measure Reserved'].isna())&\n",
    "                (abs(goods_df['Cost'])>0)] = 'DERIVED'\n",
    "\n",
    "\n",
    "print('UOM allocated')"
   ]
  },
  {
   "cell_type": "markdown",
   "metadata": {},
   "source": [
    "## Intervals"
   ]
  },
  {
   "cell_type": "markdown",
   "metadata": {},
   "source": [
    "This section calculates the interval lengths between the (similar) components."
   ]
  },
  {
   "cell_type": "code",
   "execution_count": 364,
   "metadata": {
    "ExecuteTime": {
     "end_time": "2020-02-03T14:01:12.909832Z",
     "start_time": "2020-02-03T14:01:12.903784Z"
    }
   },
   "outputs": [],
   "source": [
    "result_df = goods_df[['Order',\n",
    "                      'Material']]"
   ]
  },
  {
   "cell_type": "code",
   "execution_count": 365,
   "metadata": {
    "ExecuteTime": {
     "end_time": "2020-02-03T14:01:12.917820Z",
     "start_time": "2020-02-03T14:01:12.910784Z"
    }
   },
   "outputs": [],
   "source": [
    "result_df['Order']=result_df['Order'].astype('int64')"
   ]
  },
  {
   "cell_type": "code",
   "execution_count": 366,
   "metadata": {
    "ExecuteTime": {
     "end_time": "2020-02-03T14:01:12.998784Z",
     "start_time": "2020-02-03T14:01:12.918784Z"
    }
   },
   "outputs": [
    {
     "name": "stdout",
     "output_type": "stream",
     "text": [
      "Result Data Frame prepared\n"
     ]
    }
   ],
   "source": [
    "result_df = pd.merge(result_df,\n",
    "                     orders[['Order','Functional Location','Equipment','Scheduled start']],\n",
    "                     how='left',\n",
    "                     left_on='Order',\n",
    "                     right_on='Order')\n",
    "\n",
    "result_df = result_df.astype('str')\n",
    "\n",
    "#remove the '.0' from the material numbers\n",
    "def material_str_to_int(material):\n",
    "    ''' \n",
    "    this function cuts off the .0 from floating type numbers that were converted to string\n",
    "    '''\n",
    "    if material[-2:]=='.0':\n",
    "        material=material[:-2]\n",
    "    return material\n",
    "\n",
    "result_df['Material']=np.vectorize(material_str_to_int)(result_df['Material'])\n",
    "\n",
    "result_df = result_df.replace('nan',np.nan)\n",
    "result_df['Scheduled start'] = pd.to_datetime(result_df['Scheduled start'],format='%Y-%m-%d')\n",
    "\n",
    "result_df.drop_duplicates(subset=['Order','Material'],keep='first',inplace=True)\n",
    "\n",
    "print('Result Data Frame prepared')"
   ]
  },
  {
   "cell_type": "markdown",
   "metadata": {},
   "source": [
    "Instantiate the function that finds previous PM-Orders"
   ]
  },
  {
   "cell_type": "code",
   "execution_count": 367,
   "metadata": {
    "ExecuteTime": {
     "end_time": "2020-02-03T14:01:13.011784Z",
     "start_time": "2020-02-03T14:01:12.999783Z"
    }
   },
   "outputs": [
    {
     "name": "stdout",
     "output_type": "stream",
     "text": [
      "get_previous_order instatiated\n"
     ]
    }
   ],
   "source": [
    "# @jit(nopython=True)\n",
    "def get_previous_order(order,material):\n",
    "    '''\n",
    "    Pass an order number and material number and this function will return the most recent previous order \n",
    "    with the same (or similar) material on the same (or hierarchal grouping) of technical objects. \n",
    "    \n",
    "    args:\n",
    "        order = the order number being evaluated\n",
    "        material = a material number that was issued to the Order (do not pass a non-issued or \n",
    "                    non-delivered material number)\n",
    "    kwargs:\n",
    "        none\n",
    "        \n",
    "    returns Order number, Previous Order number, Material Number\n",
    "        \n",
    "    '''\n",
    "    global result_df\n",
    "    global materials\n",
    "    global tech_obj_df\n",
    "        \n",
    "    # 1. get technical objects (from hierarchy search) and filter \n",
    "    \n",
    "    tech_obj = result_df['Equipment'][result_df['Order']==order].iloc[0]\n",
    "    if pd.isnull(tech_obj):\n",
    "        tech_obj = result_df['Functional Location'][result_df['Order']==order].iloc[0]\n",
    "    try:\n",
    "        tech_obj = str(tech_obj)\n",
    "        search_objs = tech_obj_df['Hierarchy objects'][tech_obj_df['Object']==tech_obj].iloc[0]\n",
    "    except:\n",
    "        print('### Equipment '+ str(tech_obj) +' not found in technical object master')\n",
    "        tech_obj = result_df['Functional Location'][result_df['Order']==order].iloc[0]\n",
    "        \n",
    "    search_objs = tech_obj_df['Hierarchy objects'][tech_obj_df['Object']==tech_obj].iloc[0]\n",
    "    search_objs = search_objs.split('||')\n",
    "    \n",
    "    # 2. get list of similar materials\n",
    "    search_materials = materials['Similar Materials'][materials['Material']==material].iloc[0]\n",
    "    try:\n",
    "        search_materials = search_materials.split('||')\n",
    "    except:\n",
    "        search_materials = [material]\n",
    "    \n",
    "    # 3. filter to keep only goods moves within the similar material bunch\n",
    "    df = result_df[(result_df['Material'].isin(search_materials))]\n",
    "    \n",
    "    # 4. filter to keep only goods moves within the technical object hierarchy\n",
    "    df['Equipment'] = df['Equipment'].astype('str')\n",
    "    df['Equipment'] = df['Equipment'].replace('nan',np.nan)\n",
    "    df = df[((df['Equipment'].isin(search_objs))&(df['Equipment'].notnull()))|\n",
    "            ((df['Functional Location'].isin(search_objs))&(df['Equipment'].isna()))]\n",
    "    \n",
    "    # 5. filter out any order younger than the passed order (including itself)\n",
    "    try:\n",
    "        df['Scheduled start'][df['Order']==order].iloc[0]\n",
    "    except:\n",
    "        print('### Order '+ str(order) +' not found after filtering')\n",
    "        prev_order = np.nan\n",
    "        prev_material = np.nan\n",
    "        return order, prev_order, material, prev_material\n",
    "    \n",
    "    startdate = df['Scheduled start'][df['Order']==order].iloc[0]\n",
    "    df = df[df['Scheduled start']<=startdate]\n",
    "    df = df[df['Order']!=order]\n",
    "    \n",
    "    # 6. get most recent previous Order with matching technical objects and materials\n",
    "    df = df.sort_values(by='Scheduled start',ascending=False)\n",
    "    try:\n",
    "        prev_order = df['Order'].iloc[0]\n",
    "        prev_material = df['Material'].iloc[0]\n",
    "#         print(' ')\n",
    "#         print('--------------------------------------------------------------')\n",
    "#         print('Order Nr:',order)\n",
    "#         print('Material Nr:',material)\n",
    "#         print('Technical Object:',tech_obj)\n",
    "#         print('Returned order:',prev_order)\n",
    "    except:\n",
    "        prev_order = np.nan\n",
    "        prev_material = np.nan\n",
    "    return order, prev_order, material, prev_material\n",
    "\n",
    "print('get_previous_order instatiated')"
   ]
  },
  {
   "cell_type": "code",
   "execution_count": 368,
   "metadata": {
    "ExecuteTime": {
     "end_time": "2020-02-03T14:01:37.245887Z",
     "start_time": "2020-02-03T14:01:13.012784Z"
    }
   },
   "outputs": [
    {
     "name": "stdout",
     "output_type": "stream",
     "text": [
      "### Equipment 10158453.0 not found in technical object master\n",
      "### Order 912824664 not found after filtering\n",
      "### Equipment 10158453.0 not found in technical object master\n",
      "### Order 912824664 not found after filtering\n",
      "### Equipment 10158453.0 not found in technical object master\n",
      "### Order 912824664 not found after filtering\n",
      "### Equipment 10158452.0 not found in technical object master\n",
      "### Order 912886687 not found after filtering\n",
      "### Order 910000280499 not found after filtering\n",
      " \n",
      "Intervals calculated\n"
     ]
    }
   ],
   "source": [
    "# add the matched materials to the material master\n",
    "similar_df = pd.DataFrame(list(map(get_previous_order,result_df['Order'],result_df['Material']))\n",
    "                          ,columns=['Order','Previous Order','Material','Removed Component'])\n",
    "\n",
    "result_df = pd.merge(result_df,\n",
    "                     similar_df,\n",
    "                     how='left',\n",
    "                     left_on=['Order','Material'],\n",
    "                     right_on=['Order','Material']\n",
    "                    )\n",
    "result_df = result_df.replace('nan',np.nan)\n",
    "\n",
    "print(' ')\n",
    "print('Intervals calculated')"
   ]
  },
  {
   "cell_type": "code",
   "execution_count": 369,
   "metadata": {
    "ExecuteTime": {
     "end_time": "2020-02-03T14:01:37.252887Z",
     "start_time": "2020-02-03T14:01:37.246887Z"
    }
   },
   "outputs": [
    {
     "name": "stdout",
     "output_type": "stream",
     "text": [
      "1131 results were found\n"
     ]
    }
   ],
   "source": [
    "# remove the results that had no previous orders\n",
    "result_df = result_df[result_df['Previous Order'].notnull()]\n",
    "print(len(result_df),'results were found')"
   ]
  },
  {
   "cell_type": "markdown",
   "metadata": {},
   "source": [
    "## Enrich Result Set"
   ]
  },
  {
   "cell_type": "markdown",
   "metadata": {},
   "source": [
    "When evaluating the component, the following are the most important pieces of information:\n",
    " - Component ID and Description\n",
    " - Component Life (for MTBF and MTTF)\n",
    "     - time\n",
    "     - usage\n",
    " - Downtime (for MTTR)\n",
    " - Cost\n",
    "     - direct vs indirect\n",
    "     - install vs remove\n",
    " - Malfunction?\n",
    "     - Breakdown?\n",
    "     - Causes\n",
    "     - Damages\n",
    " - Tactical?\n",
    "     - Strategy and Package\n",
    " - Warranty?\n",
    "     - warranty period\n",
    "     - warranty conditions\n",
    " - Technical Object\n",
    "     - plant\n",
    "     - object type\n",
    "     - criticality\n",
    " - Vendor\n",
    "     - on purchase\n",
    "     - on delivery\n",
    " - Quantity\n",
    "     - delivered vs installed vs removed\n",
    " - "
   ]
  },
  {
   "cell_type": "code",
   "execution_count": 370,
   "metadata": {
    "ExecuteTime": {
     "end_time": "2020-02-03T14:01:37.261888Z",
     "start_time": "2020-02-03T14:01:37.253887Z"
    }
   },
   "outputs": [],
   "source": [
    "goods_df['Order'] = goods_df['Order'].astype('int64')"
   ]
  },
  {
   "cell_type": "code",
   "execution_count": 371,
   "metadata": {
    "ExecuteTime": {
     "end_time": "2020-02-03T14:01:37.268894Z",
     "start_time": "2020-02-03T14:01:37.262888Z"
    }
   },
   "outputs": [],
   "source": [
    "# orders.info()\n",
    "result_df['Order']=result_df['Order'].astype('int64')\n",
    "result_df['Previous Order']=result_df['Previous Order'].astype('int64')"
   ]
  },
  {
   "cell_type": "code",
   "execution_count": 372,
   "metadata": {
    "ExecuteTime": {
     "end_time": "2020-02-03T14:01:37.322887Z",
     "start_time": "2020-02-03T14:01:37.269892Z"
    }
   },
   "outputs": [
    {
     "name": "stdout",
     "output_type": "stream",
     "text": [
      "Removed Component details added\n"
     ]
    }
   ],
   "source": [
    "# add removed component details\n",
    "# from goods moves and reservations\n",
    "result_df = pd.merge(result_df,\n",
    "                     goods_df[['Order',\n",
    "                               'Material',\n",
    "                               'Cost',\n",
    "                               'Currency',\n",
    "                               'Vendor',\n",
    "                               'Quantity',\n",
    "                               'UOM']].rename(columns={'Order':'Previous Order',\n",
    "                                                       'Material':'Removed Component'}),\n",
    "                     how='left',\n",
    "                     left_on=['Previous Order','Removed Component'],\n",
    "                     right_on=['Previous Order','Removed Component'])\n",
    "\n",
    "# from material master\n",
    "result_df = pd.merge(result_df,\n",
    "                     materials[['Material',\n",
    "                               'Material Description',\n",
    "                               ]].rename(columns={'Material':'Removed Component',\n",
    "                                                  'Material Description':'Removed Component Description'}),\n",
    "                     how='left',\n",
    "                     left_on=['Removed Component'],\n",
    "                     right_on=['Removed Component'])\n",
    "\n",
    "# from vendor master\n",
    "result_df = pd.merge(result_df.rename(columns={'Vendor':'Removed Component Vendor'}),\n",
    "                     LFA1[['Vendor',\n",
    "                           'Name 1']].rename(columns={'Vendor':'Removed Component Vendor',\n",
    "                                                      'Name 1':'Removed Component Vendor Description'}),\n",
    "                     how='left',\n",
    "                     left_on=['Removed Component Vendor'],\n",
    "                     right_on=['Removed Component Vendor'])\n",
    "\n",
    "# renaming\n",
    "result_df.rename(columns={'Cost':'Removed Component Cost',\n",
    "                          'Currency':'Removed Component Currency',\n",
    "                          'Vendor':'Removed Component Vendor',\n",
    "                          'Quantity':'Removed Component Quantity',\n",
    "                          'UOM':'Removed Component UOM',},\n",
    "                inplace=True)\n",
    "\n",
    "print('Removed Component details added')"
   ]
  },
  {
   "cell_type": "code",
   "execution_count": 373,
   "metadata": {
    "ExecuteTime": {
     "end_time": "2020-02-03T14:01:37.384887Z",
     "start_time": "2020-02-03T14:01:37.323887Z"
    }
   },
   "outputs": [
    {
     "name": "stdout",
     "output_type": "stream",
     "text": [
      "Previous Order details added\n"
     ]
    }
   ],
   "source": [
    "# add previous order details\n",
    "\n",
    "result_df = pd.merge(result_df,\n",
    "                     orders[['Order',\n",
    "                             'Order Description',\n",
    "                             'Equipment',\n",
    "                             'Functional Location',                             \n",
    "                             'Maintenance item',\n",
    "                             'Maintenance Plan',\n",
    "                             'Maintenance Plan description',\n",
    "                             'Maintenance Plan strategy',                             \n",
    "                             'Basic Start Date',\n",
    "                             'Scheduled start',\n",
    "                             'Actual start date',\n",
    "                             'Basic finish date',\n",
    "                             'Scheduled finish',\n",
    "                             'Actual Order Finish Date',\n",
    "                             'Technical completion',                          \n",
    "                             'Task List Type',\n",
    "                             'Group',\n",
    "                             'Group Counter',\n",
    "                             'Notification',                          \n",
    "                             'Sum Durations [H]',\n",
    "                             'Sum Actual Work [H]',\n",
    "                             'Timestamp Duration [H]',                            \n",
    "                             'Order Cost Center',\n",
    "                             'Order Estimated costs',\n",
    "                             'Order costs transaction currency',\n",
    "                             'Order costs CO area currency',                            \n",
    "                             'Measuring point',\n",
    "                             'Reading']].rename(columns={'Order':'Previous Order',\n",
    "                                                         'Order Description':'Previous Order Description',\n",
    "                                                         'Order Type':'Previous Order Type',\n",
    "                                                         'Equipment':'Previous Equipment',\n",
    "                                                         'Functional Location':'Previous Functional Location', \n",
    "                                                         'Maintenance item':'Previous Maintenance item',\n",
    "                                                         'Maintenance Plan':'Previous Maintenance Plan',\n",
    "                                                         'Maintenance Plan description':'Previous Maintenance Plan description',\n",
    "                                                         'Maintenance Plan strategy':'Previous Maintenance Plan strategy',\n",
    "                                                         'Basic Start Date':'Previous Basic Start Date',\n",
    "                                                         'Scheduled start':'Previous Scheduled start',\n",
    "                                                         'Actual start date':'Previous Actual start date',\n",
    "                                                         'Basic finish date':'Previous Basic finish date',\n",
    "                                                         'Scheduled finish':'Previous Scheduled finish',\n",
    "                                                         'Actual Order Finish Date':'Previous Actual Order Finish Date',\n",
    "                                                         'Technical completion':'Previous Technical completion',\n",
    "                                                         'Task List Type':'Previous Task List Type',\n",
    "                                                         'Group':'Previous Group',\n",
    "                                                         'Group Counter':'Previous Group Counter',\n",
    "                                                         'Notification':'Previous Notification',  \n",
    "                                                          'Sum Durations [H]':'Previous Sum Durations [H]',\n",
    "                                                          'Sum Actual Work [H]':'Previous Sum Actual Work [H]',\n",
    "                                                          'Timestamp Duration [H]':'Previous Timestamp Duration [H]',\n",
    "                                                          'Order Cost Center':'Previous Order Cost Center',\n",
    "                                                          'Order Estimated costs':'Previous Order Estimated costs',\n",
    "                                                          'Order costs transaction currency':'Previous Order costs transaction currency',\n",
    "                                                          'Order costs CO area currency':'Previous Order costs CO area currency',\n",
    "                                                          'Measuring point':'Previous Measuring point',\n",
    "                                                          'Reading':'Previous Reading'}),\n",
    "                     how='left',\n",
    "                     left_on=['Previous Order'],\n",
    "                     right_on=['Previous Order'])\n",
    "\n",
    "print('Previous Order details added')"
   ]
  },
  {
   "cell_type": "code",
   "execution_count": 374,
   "metadata": {
    "ExecuteTime": {
     "end_time": "2020-02-03T14:01:37.475888Z",
     "start_time": "2020-02-03T14:01:37.385887Z"
    }
   },
   "outputs": [
    {
     "name": "stdout",
     "output_type": "stream",
     "text": [
      "Order details added\n"
     ]
    }
   ],
   "source": [
    "# add order details\n",
    "result_df = pd.merge(result_df,\n",
    "                     orders[['Order',\n",
    "                             'Order Description',\n",
    "                             'Order Type',\n",
    "                             'Work Order Type Description',\n",
    "                             'Order Priority',\n",
    "                             'Order Priority text',                            \n",
    "                             'Order Activity Type',\n",
    "                             'Order Activity Type Description',                            \n",
    "                             'Order Planner group',\n",
    "                             'Planner group Description',\n",
    "                             'Order Work Center',\n",
    "                             'Order Work Center Description',                             \n",
    "                             'Maintenance item',\n",
    "                             'Maintenance Plan',\n",
    "                             'Maintenance Plan description',\n",
    "                             'Maintenance Plan strategy',                             \n",
    "                             'Order Sort field',\n",
    "                             'Order Planning plant',\n",
    "                             'Planning Plant Description 1',\n",
    "                             'Planning Plant Description 2',\n",
    "                             'Order Maintenance plant',\n",
    "                             'Maintenance Plant Description 1',\n",
    "                             'Maintenance Plant Description 2',\n",
    "                             'Created on',\n",
    "                             'Basic Start Date',\n",
    "                             'Actual start date',\n",
    "                             'Scheduled release date',\n",
    "                             'Actual release date',\n",
    "                             'Basic finish date',\n",
    "                             'Scheduled finish',\n",
    "                             'Actual Order Finish Date',\n",
    "                             'Technical completion',\n",
    "                             'Close',                           \n",
    "                             'Task List Type',\n",
    "                             'Group',\n",
    "                             'Group Counter',\n",
    "                             'Notification',\n",
    "                             'Superior Order',\n",
    "                             'Leading order',                           \n",
    "                             'Sum Durations [H]',\n",
    "                             'Sum Actual Work [H]',\n",
    "                             'Timestamp Duration [H]',                            \n",
    "                             'Order Cost Center',\n",
    "                             'Order Estimated costs',\n",
    "                             'Order costs transaction currency',\n",
    "                             'Order costs CO area currency',\n",
    "                             'Transaction Currency',\n",
    "                             'CO area currency',                            \n",
    "                             'Measuring point',\n",
    "                             'Description of measuring point',\n",
    "                             'Annual estimate',\n",
    "                             'Measurement position',\n",
    "                             'Measurement Point Unit',\n",
    "                             'Reading']],\n",
    "                     how='left',\n",
    "                     left_on=['Order'],\n",
    "                     right_on=['Order'])\n",
    "\n",
    "print('Order details added')"
   ]
  },
  {
   "cell_type": "code",
   "execution_count": 375,
   "metadata": {
    "ExecuteTime": {
     "end_time": "2020-02-03T14:01:37.535886Z",
     "start_time": "2020-02-03T14:01:37.476887Z"
    }
   },
   "outputs": [
    {
     "name": "stdout",
     "output_type": "stream",
     "text": [
      "Material details added\n"
     ]
    }
   ],
   "source": [
    "# add material details\n",
    "# from goods moves and reservations\n",
    "result_df = pd.merge(result_df,\n",
    "                     goods_df[['Order',\n",
    "                               'Material',\n",
    "                               'Cost',\n",
    "                               'Currency',\n",
    "                               'Vendor',\n",
    "                               'Quantity',\n",
    "                               'UOM']],\n",
    "                     how='left',\n",
    "                     left_on=['Order','Material'],\n",
    "                     right_on=['Order','Material'])\n",
    "\n",
    "# from material master\n",
    "result_df = pd.merge(result_df,\n",
    "                     materials[['Material',\n",
    "                               'Material Description',\n",
    "                               ]],\n",
    "                     how='left',\n",
    "                     left_on=['Material'],\n",
    "                     right_on=['Material'])\n",
    "\n",
    "# from vendor master\n",
    "result_df = pd.merge(result_df,\n",
    "                     LFA1[['Vendor',\n",
    "                           'Name 1']].rename(columns={'Name 1':'Vendor Description'}),\n",
    "                     how='left',\n",
    "                     left_on=['Vendor'],\n",
    "                     right_on=['Vendor'])\n",
    "\n",
    "print('Material details added')"
   ]
  },
  {
   "cell_type": "code",
   "execution_count": 376,
   "metadata": {
    "ExecuteTime": {
     "end_time": "2020-02-03T14:01:37.539889Z",
     "start_time": "2020-02-03T14:01:37.536888Z"
    }
   },
   "outputs": [],
   "source": [
    "# # add previous notification details\n",
    "# ## not important for component life analysis, consider dropping\n",
    "# result_df = pd.merge(result_df,\n",
    "#                      notifications[['Notification',\n",
    "#                                     'Breakdown',\n",
    "#                                     'Breakdown duration',\n",
    "#                                     'Breakdown durtn unit',\n",
    "#                                     'Impact',\n",
    "#                                     'Created On',\n",
    "#                                     'Required Start',\n",
    "#                                     'Notification Catalog Code Description',\n",
    "#                                     'Damage Code',\n",
    "#                                     'Damage Description',\n",
    "#                                     'Object part code',\n",
    "#                                     'Damaged Object Part Description']]\\\n",
    "#                      .rename(columns={'Notification':'Previous Notification',\n",
    "#                                     'Breakdown':'Previous Breakdown',\n",
    "#                                     'Breakdown duration':'Previous Breakdown duration',\n",
    "#                                     'Breakdown durtn unit':'Previous Breakdown durtn unit',\n",
    "#                                     'Impact':'Previous Impact',\n",
    "#                                     'Created On':'Previous Notification Created On',\n",
    "#                                     'Required Start':'Previous Required Start',\n",
    "#                                     'Notification Catalog Code Description':'Previous Notification Catalog Code Description',\n",
    "#                                     'Damage Code':'Previous Damage Code',\n",
    "#                                     'Damage Description':'Previous Damage Description',\n",
    "#                                     'Object part code':'Previous Object part code',\n",
    "#                                     'Damaged Object Part Description':'Previous Damaged Object Part Description'}),\n",
    "#                      how='left',\n",
    "#                      left_on=['Previous Notification'],\n",
    "#                      right_on=['Previous Notification'])\n",
    "\n",
    "# print('Previous Notification details added')"
   ]
  },
  {
   "cell_type": "code",
   "execution_count": 377,
   "metadata": {
    "ExecuteTime": {
     "end_time": "2020-02-03T14:01:37.568935Z",
     "start_time": "2020-02-03T14:01:37.540887Z"
    }
   },
   "outputs": [
    {
     "name": "stdout",
     "output_type": "stream",
     "text": [
      "Notification details added\n"
     ]
    }
   ],
   "source": [
    "# add notification details\n",
    "result_df = pd.merge(result_df,\n",
    "                     notifications[['Notification',\n",
    "                                    'Breakdown',\n",
    "                                    'Breakdown duration',\n",
    "                                    'Breakdown durtn unit',\n",
    "                                    'Impact',\n",
    "                                    'Created On',\n",
    "                                    'Required Start',\n",
    "                                    'Notification Catalog Code Description',\n",
    "                                    'Damage Code',\n",
    "                                    'Damage Description',\n",
    "                                    'Object part code',\n",
    "                                    'Damaged Object Part Description',\n",
    "                                    'Malfunction']]\\\n",
    "                     .rename(columns={'Created On':'Notification Created On'}),\n",
    "                     how='left',\n",
    "                     left_on=['Notification'],\n",
    "                     right_on=['Notification'])\n",
    "\n",
    "print('Notification details added')"
   ]
  },
  {
   "cell_type": "code",
   "execution_count": 378,
   "metadata": {
    "ExecuteTime": {
     "end_time": "2020-02-03T14:01:37.625929Z",
     "start_time": "2020-02-03T14:01:37.569887Z"
    }
   },
   "outputs": [
    {
     "name": "stdout",
     "output_type": "stream",
     "text": [
      "Intervals lengths added\n"
     ]
    }
   ],
   "source": [
    "# add life (time and measures if measurement point is the same)\n",
    "result_df['Previous Scheduled start'] = pd.to_datetime(result_df['Previous Scheduled start'],format='%Y-%m-%d')\n",
    "\n",
    "result_df[['Created on',\n",
    "           'Basic Start Date',\n",
    "           'Actual start date',\n",
    "           'Scheduled release date',\n",
    "           'Actual release date',\n",
    "           'Basic finish date',\n",
    "           'Scheduled finish',\n",
    "           'Actual Order Finish Date',\n",
    "           'Technical completion',\n",
    "           'Close',\n",
    "           'Notification Created On',\n",
    "           'Required Start',\n",
    "           'Previous Basic Start Date',\n",
    "           'Previous Actual start date',\n",
    "           'Previous Basic finish date',\n",
    "           'Previous Scheduled finish',\n",
    "           'Previous Actual Order Finish Date',\n",
    "           'Previous Technical completion']] =\\\n",
    "result_df[['Created on',\n",
    "           'Basic Start Date',\n",
    "           'Actual start date',\n",
    "           'Scheduled release date',\n",
    "           'Actual release date',\n",
    "           'Basic finish date',\n",
    "           'Scheduled finish',\n",
    "           'Actual Order Finish Date',\n",
    "           'Technical completion',\n",
    "           'Close',\n",
    "           'Notification Created On',\n",
    "           'Required Start',\n",
    "           'Previous Basic Start Date',\n",
    "           'Previous Actual start date',\n",
    "           'Previous Basic finish date',\n",
    "           'Previous Scheduled finish',\n",
    "           'Previous Actual Order Finish Date',\n",
    "           'Previous Technical completion']].apply(pd.to_datetime, errors='coerce')\n",
    "\n",
    "result_df['Interval time - Basic SS'] = result_df['Basic Start Date']-result_df['Previous Basic Start Date']\n",
    "result_df['Interval time - Basic FS'] = result_df['Basic Start Date']-result_df['Previous Basic finish date']\n",
    "\n",
    "result_df['Interval time - Sched SS'] = result_df['Scheduled start']-result_df['Previous Scheduled start']\n",
    "result_df['Interval time - Sched FS'] = result_df['Scheduled start']-result_df['Previous Scheduled finish']\n",
    "\n",
    "result_df['Interval time - Actual SS'] = result_df['Actual start date']-result_df['Previous Actual start date']\n",
    "result_df['Interval time - Actual FS'] = result_df['Actual start date']-result_df['Previous Actual Order Finish Date']\n",
    "\n",
    "result_df['Interval usage'] = result_df['Reading']-result_df['Previous Reading']\n",
    "result_df['Interval usage'][result_df['Measuring point']!=result_df['Previous Measuring point']]=np.nan\n",
    "\n",
    "print('Intervals lengths added')"
   ]
  },
  {
   "cell_type": "code",
   "execution_count": 379,
   "metadata": {
    "ExecuteTime": {
     "end_time": "2020-02-03T14:01:37.629922Z",
     "start_time": "2020-02-03T14:01:37.626903Z"
    }
   },
   "outputs": [],
   "source": [
    "# # add interpreted indicators (malfunction, late create, time confirmation error, etc)\n",
    "# result_df['Create to Schedule'] = (result_df['Schedule start']-result_df['Created on']).dt.days"
   ]
  },
  {
   "cell_type": "code",
   "execution_count": 380,
   "metadata": {
    "ExecuteTime": {
     "end_time": "2020-02-03T14:01:37.635894Z",
     "start_time": "2020-02-03T14:01:37.630888Z"
    },
    "scrolled": true
   },
   "outputs": [],
   "source": [
    "# pandas_profiling.ProfileReport(result_df)"
   ]
  },
  {
   "cell_type": "code",
   "execution_count": null,
   "metadata": {},
   "outputs": [],
   "source": []
  },
  {
   "cell_type": "markdown",
   "metadata": {},
   "source": [
    "# Present"
   ]
  },
  {
   "cell_type": "markdown",
   "metadata": {},
   "source": [
    "## Top 20s"
   ]
  },
  {
   "cell_type": "markdown",
   "metadata": {},
   "source": [
    "Topics to consider for the report:\n",
    " - component life histograms (with warranty and replacement policy)\n",
    " - component life Weibull?\n",
    " - component life trend (MTTF,MTTR,Cost tracking)\n",
    " - which components incurr the most downtime?\n",
    " - potential warranty claims vs life\n",
    " - warranty vs replacement policy and malfunctions"
   ]
  },
  {
   "cell_type": "code",
   "execution_count": 381,
   "metadata": {
    "ExecuteTime": {
     "end_time": "2020-02-03T14:01:38.227888Z",
     "start_time": "2020-02-03T14:01:37.636888Z"
    }
   },
   "outputs": [
    {
     "data": {
      "text/plain": [
       "[]"
      ]
     },
     "execution_count": 381,
     "metadata": {},
     "output_type": "execute_result"
    },
    {
     "data": {
      "image/png": "[encoded data removed]",
      "text/plain": [
       "<Figure size 1080x576 with 1 Axes>"
      ]
     },
     "metadata": {
      "image/png": {
       "height": 501,
       "width": 1116
      }
     },
     "output_type": "display_data"
    }
   ],
   "source": [
    "# Display the composition \n",
    "plot_x = 'Removed Component Description'\n",
    "df = pd.DataFrame(result_df[plot_x].value_counts()).reset_index()\n",
    "df.columns = [plot_x,'Count']\n",
    "\n",
    "plt.figure(figsize=(15,8))\n",
    "sns.set_style('darkgrid')\n",
    "sns.barplot(y=plot_x, x='Count', data=df[:21], palette='viridis');\n",
    "plt.title(plot_x + ': Top 20',size=20)\n",
    "\n",
    "plt.xlabel(plot_x,size=12)\n",
    "plt.xticks(fontsize=10)\n",
    "\n",
    "plt.ylabel('Count',size=12)\n",
    "plt.yticks(fontsize=10)\n",
    "plt.plot()"
   ]
  },
  {
   "cell_type": "code",
   "execution_count": 382,
   "metadata": {
    "ExecuteTime": {
     "end_time": "2020-02-03T14:01:38.764887Z",
     "start_time": "2020-02-03T14:01:38.228887Z"
    }
   },
   "outputs": [
    {
     "data": {
      "text/plain": [
       "[]"
      ]
     },
     "execution_count": 382,
     "metadata": {},
     "output_type": "execute_result"
    },
    {
     "data": {
      "image/png": "[encoded data removed]",
      "text/plain": [
       "<Figure size 1080x576 with 1 Axes>"
      ]
     },
     "metadata": {
      "image/png": {
       "height": 501,
       "width": 1112
      }
     },
     "output_type": "display_data"
    }
   ],
   "source": [
    "# Display the composition \n",
    "plot_x = 'Removed Component'\n",
    "df = pd.DataFrame(result_df[plot_x].value_counts()).reset_index()\n",
    "df.columns = [plot_x,'Count']\n",
    "\n",
    "plt.figure(figsize=(15,8))\n",
    "sns.set_style('darkgrid')\n",
    "sns.barplot(y=plot_x, x='Count', data=df[:21], palette='viridis');\n",
    "plt.title(plot_x + ': Top 20',size=20)\n",
    "\n",
    "plt.xlabel(plot_x,size=12)\n",
    "plt.xticks(fontsize=10)\n",
    "\n",
    "plt.ylabel('Count',size=12)\n",
    "plt.yticks(fontsize=10)\n",
    "plt.plot()"
   ]
  },
  {
   "cell_type": "code",
   "execution_count": 383,
   "metadata": {
    "ExecuteTime": {
     "end_time": "2020-02-03T14:01:38.809887Z",
     "start_time": "2020-02-03T14:01:38.765892Z"
    },
    "scrolled": true,
    "tags": []
   },
   "outputs": [
    {
     "data": {
      "text/html": [
       "<div>\n",
       "<style scoped>\n",
       "    .dataframe tbody tr th:only-of-type {\n",
       "        vertical-align: middle;\n",
       "    }\n",
       "\n",
       "    .dataframe tbody tr th {\n",
       "        vertical-align: top;\n",
       "    }\n",
       "\n",
       "    .dataframe thead th {\n",
       "        text-align: right;\n",
       "    }\n",
       "</style>\n",
       "<table border=\"1\" class=\"dataframe\">\n",
       "  <thead>\n",
       "    <tr style=\"text-align: right;\">\n",
       "      <th></th>\n",
       "      <th>Count</th>\n",
       "      <th>Material</th>\n",
       "      <th>Material Description</th>\n",
       "    </tr>\n",
       "  </thead>\n",
       "  <tbody>\n",
       "    <tr>\n",
       "      <th>0</th>\n",
       "      <td>81</td>\n",
       "      <td>250NB (10\") BRAY S40 T06G HIGH PERFORMAN</td>\n",
       "      <td>250NB (10\") BRAY S40 T06G HIGH PERFORMAN</td>\n",
       "    </tr>\n",
       "    <tr>\n",
       "      <th>1</th>\n",
       "      <td>50</td>\n",
       "      <td>421252594</td>\n",
       "      <td>VALVE RA-0250-61522121-415-0-00-0-0-3</td>\n",
       "    </tr>\n",
       "    <tr>\n",
       "      <th>2</th>\n",
       "      <td>48</td>\n",
       "      <td>150 NB FS BEND, H-V SC</td>\n",
       "      <td>150 NB FS BEND, H-V SC</td>\n",
       "    </tr>\n",
       "    <tr>\n",
       "      <th>3</th>\n",
       "      <td>48</td>\n",
       "      <td>150NB FS PIPE 3000 LONG SIC</td>\n",
       "      <td>150NB FS PIPE 3000 LONG SIC</td>\n",
       "    </tr>\n",
       "    <tr>\n",
       "      <th>4</th>\n",
       "      <td>47</td>\n",
       "      <td>178210008</td>\n",
       "      <td>ELECTRODE WELD 3.15MM CARB STEEL E6013</td>\n",
       "    </tr>\n",
       "    <tr>\n",
       "      <th>5</th>\n",
       "      <td>42</td>\n",
       "      <td>177111033</td>\n",
       "      <td>TAPE PTFE THREAD SEALING 10MX10MM</td>\n",
       "    </tr>\n",
       "    <tr>\n",
       "      <th>6</th>\n",
       "      <td>38</td>\n",
       "      <td>421362618</td>\n",
       "      <td>SLEEVE PINCH VALVE SBR-T 150MM LAROX</td>\n",
       "    </tr>\n",
       "    <tr>\n",
       "      <th>7</th>\n",
       "      <td>36</td>\n",
       "      <td>3 LAYERS 450M CHOPPED STRAND AND GP RESI</td>\n",
       "      <td>3 LAYERS 450M CHOPPED STRAND AND GP RESI</td>\n",
       "    </tr>\n",
       "    <tr>\n",
       "      <th>8</th>\n",
       "      <td>34</td>\n",
       "      <td>421252564</td>\n",
       "      <td>VALVE B/F 100MM,RAGMAX 100RAG2000 RAGON</td>\n",
       "    </tr>\n",
       "    <tr>\n",
       "      <th>9</th>\n",
       "      <td>34</td>\n",
       "      <td>166256538</td>\n",
       "      <td>CLEANER SPANJAARD SPARK COMBAT 500G</td>\n",
       "    </tr>\n",
       "    <tr>\n",
       "      <th>10</th>\n",
       "      <td>32</td>\n",
       "      <td>177111052</td>\n",
       "      <td>SEALANT GASKET RED T300 310ML</td>\n",
       "    </tr>\n",
       "    <tr>\n",
       "      <th>11</th>\n",
       "      <td>32</td>\n",
       "      <td>250MM RAGMAX 4000 SLURRY VALVE</td>\n",
       "      <td>250MM RAGMAX 4000 SLURRY VALVE</td>\n",
       "    </tr>\n",
       "    <tr>\n",
       "      <th>12</th>\n",
       "      <td>21</td>\n",
       "      <td>378313113</td>\n",
       "      <td>FEEDER, TYPE RVF-0433-FT-FC-LR-HP-RP BSM</td>\n",
       "    </tr>\n",
       "    <tr>\n",
       "      <th>13</th>\n",
       "      <td>20</td>\n",
       "      <td>421252563</td>\n",
       "      <td>VALVE B/FLY 80MM,RAGMAX 80RAG2000 RAGON</td>\n",
       "    </tr>\n",
       "    <tr>\n",
       "      <th>14</th>\n",
       "      <td>19</td>\n",
       "      <td>488146258</td>\n",
       "      <td>BAGS 1,5 M2 DLM1.5-TET6242 DONALDSON</td>\n",
       "    </tr>\n",
       "    <tr>\n",
       "      <th>15</th>\n",
       "      <td>18</td>\n",
       "      <td>488146270</td>\n",
       "      <td>TETRATEX ON BAG DLM1.5-TET6245 DONALDSON</td>\n",
       "    </tr>\n",
       "    <tr>\n",
       "      <th>16</th>\n",
       "      <td>18</td>\n",
       "      <td>488146257</td>\n",
       "      <td>BAGS 1,5 M2 DLM1.5 DONALDSON</td>\n",
       "    </tr>\n",
       "    <tr>\n",
       "      <th>17</th>\n",
       "      <td>18</td>\n",
       "      <td>233758211</td>\n",
       "      <td>BELT WEDGE 22 X 18 X 3550MM (SPC/22N)</td>\n",
       "    </tr>\n",
       "    <tr>\n",
       "      <th>18</th>\n",
       "      <td>17</td>\n",
       "      <td>421939642</td>\n",
       "      <td>VALVE CHECK 50MM RA-0050-SDNRDCV RAGON</td>\n",
       "    </tr>\n",
       "    <tr>\n",
       "      <th>19</th>\n",
       "      <td>16</td>\n",
       "      <td>1471 10MM HEX NUT GR.8</td>\n",
       "      <td>1471 10MM HEX NUT GR.8</td>\n",
       "    </tr>\n",
       "    <tr>\n",
       "      <th>20</th>\n",
       "      <td>16</td>\n",
       "      <td>375510446</td>\n",
       "      <td>SEAL CONE VALVE 300 NB         1-517-1/8</td>\n",
       "    </tr>\n",
       "    <tr>\n",
       "      <th>21</th>\n",
       "      <td>16</td>\n",
       "      <td>150NB FS PIPE, 3000 LONG SILICON CARBIDE</td>\n",
       "      <td>150NB FS PIPE, 3000 LONG SILICON CARBIDE</td>\n",
       "    </tr>\n",
       "    <tr>\n",
       "      <th>22</th>\n",
       "      <td>15</td>\n",
       "      <td>233366213</td>\n",
       "      <td>COUPLING TYRE F 60</td>\n",
       "    </tr>\n",
       "    <tr>\n",
       "      <th>23</th>\n",
       "      <td>14</td>\n",
       "      <td>373681132</td>\n",
       "      <td>ROLL IDLER HDPE 127X300 BLT 750MM S25</td>\n",
       "    </tr>\n",
       "    <tr>\n",
       "      <th>24</th>\n",
       "      <td>13</td>\n",
       "      <td>233365922</td>\n",
       "      <td>COUPLING TYRE F220 FENAFLEX NAT RUBBER</td>\n",
       "    </tr>\n",
       "    <tr>\n",
       "      <th>25</th>\n",
       "      <td>13</td>\n",
       "      <td>421110102</td>\n",
       "      <td>VALVE SAF 50MM 707VSD50UMF1A BAILEY</td>\n",
       "    </tr>\n",
       "    <tr>\n",
       "      <th>26</th>\n",
       "      <td>13</td>\n",
       "      <td>421362213</td>\n",
       "      <td>PINCH VALVE 200NB V200.03X.20.30LA AKO</td>\n",
       "    </tr>\n",
       "    <tr>\n",
       "      <th>27</th>\n",
       "      <td>12</td>\n",
       "      <td>222710664</td>\n",
       "      <td>BOLT HEX HEAD M16X 50MM GR 4.6 M/S</td>\n",
       "    </tr>\n",
       "    <tr>\n",
       "      <th>28</th>\n",
       "      <td>12</td>\n",
       "      <td>421110082</td>\n",
       "      <td>VALVE SAF 50MM 707VSL50PFM1A BAILEY</td>\n",
       "    </tr>\n",
       "    <tr>\n",
       "      <th>29</th>\n",
       "      <td>11</td>\n",
       "      <td>375142416</td>\n",
       "      <td>BUCKETS REF. SPS 300-215 3MM BATEMAN</td>\n",
       "    </tr>\n",
       "    <tr>\n",
       "      <th>30</th>\n",
       "      <td>11</td>\n",
       "      <td>375142417</td>\n",
       "      <td>M10 X 40 EURO BOLT BATEMAN</td>\n",
       "    </tr>\n",
       "    <tr>\n",
       "      <th>31</th>\n",
       "      <td>11</td>\n",
       "      <td>415576719</td>\n",
       "      <td>BELLOWS 100MM EPDM STYLE 10 LIMK-FLEX</td>\n",
       "    </tr>\n",
       "    <tr>\n",
       "      <th>32</th>\n",
       "      <td>11</td>\n",
       "      <td>373681130</td>\n",
       "      <td>ROLL IDLER HDPE 127X250 BLT  600MM S25</td>\n",
       "    </tr>\n",
       "    <tr>\n",
       "      <th>33</th>\n",
       "      <td>10</td>\n",
       "      <td>375510444</td>\n",
       "      <td>VALVE CONE 300 NB                1-517-1</td>\n",
       "    </tr>\n",
       "    <tr>\n",
       "      <th>34</th>\n",
       "      <td>10</td>\n",
       "      <td>415576722</td>\n",
       "      <td>BELLOWS 200MM EPDM STYLE 10 LINK-FLEX</td>\n",
       "    </tr>\n",
       "    <tr>\n",
       "      <th>35</th>\n",
       "      <td>10</td>\n",
       "      <td>4MM BELLOWS RED MMJ-2015-AP-0001 RUBBER</td>\n",
       "      <td>4MM BELLOWS RED MMJ-2015-AP-0001 RUBBER</td>\n",
       "    </tr>\n",
       "    <tr>\n",
       "      <th>36</th>\n",
       "      <td>9</td>\n",
       "      <td>150 NB LR BEND, 60DEG, SC</td>\n",
       "      <td>150 NB LR BEND, 60DEG, SC</td>\n",
       "    </tr>\n",
       "    <tr>\n",
       "      <th>37</th>\n",
       "      <td>9</td>\n",
       "      <td>150 NB LR BEND, 75DEG SC</td>\n",
       "      <td>150 NB LR BEND, 75DEG SC</td>\n",
       "    </tr>\n",
       "    <tr>\n",
       "      <th>38</th>\n",
       "      <td>8</td>\n",
       "      <td>422144645</td>\n",
       "      <td>VALVE PRESSURE REDUCING,G42043R50MM DLM</td>\n",
       "    </tr>\n",
       "    <tr>\n",
       "      <th>39</th>\n",
       "      <td>8</td>\n",
       "      <td>421253243</td>\n",
       "      <td>E BUTTERFLY 100MM 110734 BAR</td>\n",
       "    </tr>\n",
       "    <tr>\n",
       "      <th>40</th>\n",
       "      <td>8</td>\n",
       "      <td>DISIGN AND FABRICATE RMH CHUTE IN PANNEL</td>\n",
       "      <td>DISIGN AND FABRICATE RMH CHUTE IN PANNEL</td>\n",
       "    </tr>\n",
       "    <tr>\n",
       "      <th>41</th>\n",
       "      <td>8</td>\n",
       "      <td>233225441</td>\n",
       "      <td>TAPER LOCK BUSH NO 5050   120 MM</td>\n",
       "    </tr>\n",
       "    <tr>\n",
       "      <th>42</th>\n",
       "      <td>8</td>\n",
       "      <td>415576717</td>\n",
       "      <td>BELLOWS 80MM EPDM STYLE 10 LINK-FLEX</td>\n",
       "    </tr>\n",
       "    <tr>\n",
       "      <th>43</th>\n",
       "      <td>7</td>\n",
       "      <td>412160649</td>\n",
       "      <td>ELBOW 90DEG 50MM STEEL FEMALE</td>\n",
       "    </tr>\n",
       "    <tr>\n",
       "      <th>44</th>\n",
       "      <td>7</td>\n",
       "      <td>375142418</td>\n",
       "      <td>BELT FASTENER TYPE BC.2-330MM BATEMAN</td>\n",
       "    </tr>\n",
       "    <tr>\n",
       "      <th>45</th>\n",
       "      <td>7</td>\n",
       "      <td>488146292</td>\n",
       "      <td>CAGE SPLIT VENTURE,BC3650X1/4MSTL DONALD</td>\n",
       "    </tr>\n",
       "    <tr>\n",
       "      <th>46</th>\n",
       "      <td>7</td>\n",
       "      <td>222710769</td>\n",
       "      <td>BOLT&amp;NUT HEX HEAD M20X 65MM GR 4.6 M/S</td>\n",
       "    </tr>\n",
       "    <tr>\n",
       "      <th>47</th>\n",
       "      <td>7</td>\n",
       "      <td>421252561</td>\n",
       "      <td>VALVE B/FLY 80MM,RAGMAX 80RAG2000 RAGON</td>\n",
       "    </tr>\n",
       "    <tr>\n",
       "      <th>48</th>\n",
       "      <td>7</td>\n",
       "      <td>375142419</td>\n",
       "      <td>BELT MESH 330MM A1 R123/0123 SA BATEMAN</td>\n",
       "    </tr>\n",
       "    <tr>\n",
       "      <th>49</th>\n",
       "      <td>7</td>\n",
       "      <td>375510495</td>\n",
       "      <td>BEND 125NB FS 90 DEG, 2-613-1 B/TECHNIK</td>\n",
       "    </tr>\n",
       "    <tr>\n",
       "      <th>50</th>\n",
       "      <td>7</td>\n",
       "      <td>422144615</td>\n",
       "      <td>VALVE PRESSURE REDUCING PUTSC01 BRAUKMAN</td>\n",
       "    </tr>\n",
       "    <tr>\n",
       "      <th>51</th>\n",
       "      <td>7</td>\n",
       "      <td>412111278</td>\n",
       "      <td>NIPPLE BARREL  40MM STEEL HEAVY</td>\n",
       "    </tr>\n",
       "    <tr>\n",
       "      <th>52</th>\n",
       "      <td>7</td>\n",
       "      <td>375510499</td>\n",
       "      <td>PIPE 125MM FS 6000MM LONG,1-737-1 BULK</td>\n",
       "    </tr>\n",
       "    <tr>\n",
       "      <th>53</th>\n",
       "      <td>7</td>\n",
       "      <td>415121371</td>\n",
       "      <td>FLANGE 80MM WELDON BS10 TABLE D PLAIN</td>\n",
       "    </tr>\n",
       "    <tr>\n",
       "      <th>54</th>\n",
       "      <td>6</td>\n",
       "      <td>377191291</td>\n",
       "      <td>BLADE SAND SECONDARY 1050MM SC16 ARB</td>\n",
       "    </tr>\n",
       "    <tr>\n",
       "      <th>55</th>\n",
       "      <td>6</td>\n",
       "      <td>375510500</td>\n",
       "      <td>PIPE 150MM FS 3000MM LONG,1-736-9 BULK</td>\n",
       "    </tr>\n",
       "    <tr>\n",
       "      <th>56</th>\n",
       "      <td>6</td>\n",
       "      <td>112520055</td>\n",
       "      <td>BAR ROUND M/STEEL BLACK 25MM X 6M</td>\n",
       "    </tr>\n",
       "    <tr>\n",
       "      <th>57</th>\n",
       "      <td>6</td>\n",
       "      <td>232429247</td>\n",
       "      <td>BEARING 22213CCK     SKF SPHER ROLLER</td>\n",
       "    </tr>\n",
       "    <tr>\n",
       "      <th>58</th>\n",
       "      <td>5</td>\n",
       "      <td>421717500</td>\n",
       "      <td>VLV,8KGCS2M-T10KGC200/223DA18PBU DEZURIK</td>\n",
       "    </tr>\n",
       "    <tr>\n",
       "      <th>59</th>\n",
       "      <td>5</td>\n",
       "      <td>817193116</td>\n",
       "      <td>SHAMPOO HAIR 400ML</td>\n",
       "    </tr>\n",
       "    <tr>\n",
       "      <th>60</th>\n",
       "      <td>5</td>\n",
       "      <td>233757856</td>\n",
       "      <td>BELT WEDGE 13 X 10 X 2500MM 6(SPA/13N)MT</td>\n",
       "    </tr>\n",
       "    <tr>\n",
       "      <th>61</th>\n",
       "      <td>5</td>\n",
       "      <td>232417135</td>\n",
       "      <td>BEARING 22217 SKF SPHERICAL ROLLER 3 DOT</td>\n",
       "    </tr>\n",
       "    <tr>\n",
       "      <th>62</th>\n",
       "      <td>5</td>\n",
       "      <td>616232437</td>\n",
       "      <td>COUPLING FLEXIBLE HOSE L/H H107</td>\n",
       "    </tr>\n",
       "    <tr>\n",
       "      <th>63</th>\n",
       "      <td>4</td>\n",
       "      <td>421424520</td>\n",
       "      <td>VALVE DIAPHRAGM 150MM KIM ST</td>\n",
       "    </tr>\n",
       "    <tr>\n",
       "      <th>64</th>\n",
       "      <td>4</td>\n",
       "      <td>421939643</td>\n",
       "      <td>VALVE CHECK 80MM RA-0080-SDNRDCV RAGON</td>\n",
       "    </tr>\n",
       "    <tr>\n",
       "      <th>65</th>\n",
       "      <td>4</td>\n",
       "      <td>716161247</td>\n",
       "      <td>LOCK 2 LEVER MORTICE UNION CZ682-95-76PL</td>\n",
       "    </tr>\n",
       "    <tr>\n",
       "      <th>66</th>\n",
       "      <td>4</td>\n",
       "      <td>421110097</td>\n",
       "      <td>VALVE SAF 50MM 707VSL50321PV011A BAILEY</td>\n",
       "    </tr>\n",
       "    <tr>\n",
       "      <th>67</th>\n",
       "      <td>4</td>\n",
       "      <td>HOSE 385MM X 3\"</td>\n",
       "      <td>HOSE 385MM X 3\"</td>\n",
       "    </tr>\n",
       "    <tr>\n",
       "      <th>68</th>\n",
       "      <td>4</td>\n",
       "      <td>114561014</td>\n",
       "      <td>CHANNEL 100MM X 50MM X 6M BS 4360/43A</td>\n",
       "    </tr>\n",
       "    <tr>\n",
       "      <th>69</th>\n",
       "      <td>4</td>\n",
       "      <td>1471 10MM HEX NUT GR.8.8</td>\n",
       "      <td>1471 10MM HEX NUT GR.8.8</td>\n",
       "    </tr>\n",
       "    <tr>\n",
       "      <th>70</th>\n",
       "      <td>4</td>\n",
       "      <td>222710571</td>\n",
       "      <td>BOLT&amp;NUT HEX HEAD M12X 65MM GR 4.6 M/S</td>\n",
       "    </tr>\n",
       "    <tr>\n",
       "      <th>71</th>\n",
       "      <td>4</td>\n",
       "      <td>125 NB FS BEND, H-V SC</td>\n",
       "      <td>125 NB FS BEND, H-V SC</td>\n",
       "    </tr>\n",
       "    <tr>\n",
       "      <th>72</th>\n",
       "      <td>4</td>\n",
       "      <td>412111079</td>\n",
       "      <td>SOCKET 50MM STEEL HEAVY</td>\n",
       "    </tr>\n",
       "    <tr>\n",
       "      <th>73</th>\n",
       "      <td>4</td>\n",
       "      <td>432799112</td>\n",
       "      <td>PUMP SUBMERSIBLE CPJD 100-22 CHROMEPLATE</td>\n",
       "    </tr>\n",
       "    <tr>\n",
       "      <th>74</th>\n",
       "      <td>4</td>\n",
       "      <td>112511505</td>\n",
       "      <td>BAR FLAT M/STEEL BLACK 50MM X 6MM X 6M</td>\n",
       "    </tr>\n",
       "    <tr>\n",
       "      <th>75</th>\n",
       "      <td>4</td>\n",
       "      <td>177111028</td>\n",
       "      <td>COMPOUND NORDBAK STANDARD BACKING 10KG</td>\n",
       "    </tr>\n",
       "    <tr>\n",
       "      <th>76</th>\n",
       "      <td>4</td>\n",
       "      <td>PILLOR BLOCK UC/211/32</td>\n",
       "      <td>PILLOR BLOCK UC/211/32</td>\n",
       "    </tr>\n",
       "    <tr>\n",
       "      <th>77</th>\n",
       "      <td>4</td>\n",
       "      <td>180NB X 480MM HOSE FLANGE</td>\n",
       "      <td>180NB X 480MM HOSE FLANGE</td>\n",
       "    </tr>\n",
       "    <tr>\n",
       "      <th>78</th>\n",
       "      <td>4</td>\n",
       "      <td>412160319</td>\n",
       "      <td>UNION 50MM STEEL</td>\n",
       "    </tr>\n",
       "    <tr>\n",
       "      <th>79</th>\n",
       "      <td>4</td>\n",
       "      <td>200MM RAGMAX 4000 SLURRY VALVE</td>\n",
       "      <td>200MM RAGMAX 4000 SLURRY VALVE</td>\n",
       "    </tr>\n",
       "    <tr>\n",
       "      <th>80</th>\n",
       "      <td>4</td>\n",
       "      <td>761127154</td>\n",
       "      <td>INTERLINK CLOSURE BEND  ITEM 2M 90 DEG</td>\n",
       "    </tr>\n",
       "    <tr>\n",
       "      <th>81</th>\n",
       "      <td>4</td>\n",
       "      <td>8 IN DEZURIK KGC METAL KNIFE GATE VALVE</td>\n",
       "      <td>8 IN DEZURIK KGC METAL KNIFE GATE VALVE</td>\n",
       "    </tr>\n",
       "    <tr>\n",
       "      <th>82</th>\n",
       "      <td>4</td>\n",
       "      <td>211830031</td>\n",
       "      <td>WASHER ROUND FLAT M12 STEEL GR2 25KG BAG</td>\n",
       "    </tr>\n",
       "    <tr>\n",
       "      <th>83</th>\n",
       "      <td>4</td>\n",
       "      <td>538725209</td>\n",
       "      <td>MOTOR AC 4 KW 2 POLE 2890 RPM B35</td>\n",
       "    </tr>\n",
       "    <tr>\n",
       "      <th>84</th>\n",
       "      <td>4</td>\n",
       "      <td>421261528</td>\n",
       "      <td>VALVE 100MM OKUMURA ,DLM-100612C25DA DLM</td>\n",
       "    </tr>\n",
       "    <tr>\n",
       "      <th>85</th>\n",
       "      <td>4</td>\n",
       "      <td>MMJ-2015-AP-0001 4MM BELLOW RED RUBBER</td>\n",
       "      <td>MMJ-2015-AP-0001 4MM BELLOW RED RUBBER</td>\n",
       "    </tr>\n",
       "    <tr>\n",
       "      <th>86</th>\n",
       "      <td>3</td>\n",
       "      <td>233711054</td>\n",
       "      <td>BELT VEE 13 X 8 X 2700MM 4(A) MATCHED ST</td>\n",
       "    </tr>\n",
       "    <tr>\n",
       "      <th>87</th>\n",
       "      <td>3</td>\n",
       "      <td>421252565</td>\n",
       "      <td>VALVE B/F 250MM,RAGMAX 250RAG2000 RAGON</td>\n",
       "    </tr>\n",
       "    <tr>\n",
       "      <th>88</th>\n",
       "      <td>3</td>\n",
       "      <td>222710763</td>\n",
       "      <td>BOLT&amp;NUT HEX HEAD M20X 40MM GR 4.6 M/S</td>\n",
       "    </tr>\n",
       "    <tr>\n",
       "      <th>89</th>\n",
       "      <td>3</td>\n",
       "      <td>165311068</td>\n",
       "      <td>PUTTY BELZONA NO.1111 METAL REPAIR 1KG</td>\n",
       "    </tr>\n",
       "    <tr>\n",
       "      <th>90</th>\n",
       "      <td>3</td>\n",
       "      <td>532672035</td>\n",
       "      <td>LIGHT LED NOVA,32/75N5068A1S SH BEKA</td>\n",
       "    </tr>\n",
       "    <tr>\n",
       "      <th>91</th>\n",
       "      <td>3</td>\n",
       "      <td>377122782</td>\n",
       "      <td>BELT CONVEYOR 600MM 630/4 5MM 1.5MM</td>\n",
       "    </tr>\n",
       "    <tr>\n",
       "      <th>92</th>\n",
       "      <td>3</td>\n",
       "      <td>421939914</td>\n",
       "      <td>VALVE NON-RETURN 100MM RIENZI MOD.916</td>\n",
       "    </tr>\n",
       "    <tr>\n",
       "      <th>93</th>\n",
       "      <td>3</td>\n",
       "      <td>541481628</td>\n",
       "      <td>PROX SWITCH EFFECTOR M M12 IFS209 IFM</td>\n",
       "    </tr>\n",
       "    <tr>\n",
       "      <th>94</th>\n",
       "      <td>3</td>\n",
       "      <td>538975019</td>\n",
       "      <td>MOTOR VIB 1.8KW IVBLZ40-27/6 INVICTA</td>\n",
       "    </tr>\n",
       "    <tr>\n",
       "      <th>95</th>\n",
       "      <td>3</td>\n",
       "      <td>321151014</td>\n",
       "      <td>FEEDER DOUBLE SCREW,VJ-ACPDSF001 VEEJAYS</td>\n",
       "    </tr>\n",
       "    <tr>\n",
       "      <th>96</th>\n",
       "      <td>3</td>\n",
       "      <td>651411015</td>\n",
       "      <td>USE ITEM-CODE: 651 41 1076</td>\n",
       "    </tr>\n",
       "    <tr>\n",
       "      <th>97</th>\n",
       "      <td>3</td>\n",
       "      <td>421717502</td>\n",
       "      <td>VLV,10KGCS2MT10KGC250/275DA18PBU DEZURIK</td>\n",
       "    </tr>\n",
       "    <tr>\n",
       "      <th>98</th>\n",
       "      <td>3</td>\n",
       "      <td>222710873</td>\n",
       "      <td>BOLT&amp;NUT HEX HEAD M24X 90MM GR 4.6 M/S</td>\n",
       "    </tr>\n",
       "    <tr>\n",
       "      <th>99</th>\n",
       "      <td>3</td>\n",
       "      <td>412462661</td>\n",
       "      <td>CONNECTOR 12MM SRAIGHT MALE 1/2IN S/LOCK</td>\n",
       "    </tr>\n",
       "    <tr>\n",
       "      <th>100</th>\n",
       "      <td>3</td>\n",
       "      <td>421931611</td>\n",
       "      <td>VALVE CHECK NIAGARA 80-173 4 IN (100MM)</td>\n",
       "    </tr>\n",
       "    <tr>\n",
       "      <th>101</th>\n",
       "      <td>3</td>\n",
       "      <td>641161157</td>\n",
       "      <td>WHEEL CUT OFF AO 115MMX2,5MMX22,23MM</td>\n",
       "    </tr>\n",
       "    <tr>\n",
       "      <th>102</th>\n",
       "      <td>3</td>\n",
       "      <td>415170281</td>\n",
       "      <td>FLANGE DN100 WELD-ON PLATE TABLE 1000/3</td>\n",
       "    </tr>\n",
       "    <tr>\n",
       "      <th>103</th>\n",
       "      <td>3</td>\n",
       "      <td>CUSTOM KNIFE GATE VALVE FE-010 COMPLETE</td>\n",
       "      <td>CUSTOM KNIFE GATE VALVE FE-010 COMPLETE</td>\n",
       "    </tr>\n",
       "    <tr>\n",
       "      <th>104</th>\n",
       "      <td>3</td>\n",
       "      <td>222710764</td>\n",
       "      <td>BOLT HEX HEAD M20X 50MM GR 4.6 M/S</td>\n",
       "    </tr>\n",
       "    <tr>\n",
       "      <th>105</th>\n",
       "      <td>3</td>\n",
       "      <td>233365011</td>\n",
       "      <td>COUPLING FLANGE,033N0303 FENNER</td>\n",
       "    </tr>\n",
       "    <tr>\n",
       "      <th>106</th>\n",
       "      <td>3</td>\n",
       "      <td>641381164</td>\n",
       "      <td>WHEEL GRIND AO 115X6X22,23MM TP 27 GR R</td>\n",
       "    </tr>\n",
       "    <tr>\n",
       "      <th>107</th>\n",
       "      <td>3</td>\n",
       "      <td>811811016</td>\n",
       "      <td>SUGAR WHITE                  363  12,5KG</td>\n",
       "    </tr>\n",
       "    <tr>\n",
       "      <th>108</th>\n",
       "      <td>3</td>\n",
       "      <td>421261517</td>\n",
       "      <td>OKUMURA  80MM B/FLY WAFER VALVE DLM 615X</td>\n",
       "    </tr>\n",
       "    <tr>\n",
       "      <th>109</th>\n",
       "      <td>3</td>\n",
       "      <td>222710569</td>\n",
       "      <td>BOLT&amp;NUT HEX HEAD M12X 50MM GR 4.6 M/S</td>\n",
       "    </tr>\n",
       "    <tr>\n",
       "      <th>110</th>\n",
       "      <td>3</td>\n",
       "      <td>815111555</td>\n",
       "      <td>TOWEL HAND</td>\n",
       "    </tr>\n",
       "    <tr>\n",
       "      <th>111</th>\n",
       "      <td>3</td>\n",
       "      <td>233366227</td>\n",
       "      <td>COUPLING TYRE F 200</td>\n",
       "    </tr>\n",
       "    <tr>\n",
       "      <th>112</th>\n",
       "      <td>3</td>\n",
       "      <td>377192051</td>\n",
       "      <td>CLAMP 60:5 TO 1350MM CLAMP 60:5 M&amp;S</td>\n",
       "    </tr>\n",
       "    <tr>\n",
       "      <th>113</th>\n",
       "      <td>3</td>\n",
       "      <td>412111075</td>\n",
       "      <td>SOCKET 20MM STEEL HEAVY</td>\n",
       "    </tr>\n",
       "    <tr>\n",
       "      <th>114</th>\n",
       "      <td>2</td>\n",
       "      <td>112650833</td>\n",
       "      <td>PLATE M/S BLACK 2500 X 1200 X 12,0MM</td>\n",
       "    </tr>\n",
       "    <tr>\n",
       "      <th>115</th>\n",
       "      <td>2</td>\n",
       "      <td>616232417</td>\n",
       "      <td>COUPLER QUICK RELEASE H104 ARRESTOR</td>\n",
       "    </tr>\n",
       "    <tr>\n",
       "      <th>116</th>\n",
       "      <td>2</td>\n",
       "      <td>641161487</td>\n",
       "      <td>WHEEL CUT OFF AO 230MMX3,2MMX22,23MM</td>\n",
       "    </tr>\n",
       "    <tr>\n",
       "      <th>117</th>\n",
       "      <td>2</td>\n",
       "      <td>177280061</td>\n",
       "      <td>20MM X 7MM X 5METRE FLANGE SEAL</td>\n",
       "    </tr>\n",
       "    <tr>\n",
       "      <th>118</th>\n",
       "      <td>2</td>\n",
       "      <td>177188028</td>\n",
       "      <td>CLOTH PIPE REPAIR 100MM X 15,2M</td>\n",
       "    </tr>\n",
       "    <tr>\n",
       "      <th>119</th>\n",
       "      <td>2</td>\n",
       "      <td>233225422</td>\n",
       "      <td>TAPER LOCK BUSH NO 5040   120 MM</td>\n",
       "    </tr>\n",
       "    <tr>\n",
       "      <th>120</th>\n",
       "      <td>2</td>\n",
       "      <td>442813720</td>\n",
       "      <td>HOSE SBRT 16100/250/3L9 53553</td>\n",
       "    </tr>\n",
       "    <tr>\n",
       "      <th>121</th>\n",
       "      <td>2</td>\n",
       "      <td>222710774</td>\n",
       "      <td>BOLT&amp;NUT HEX HEAD M20X 90MM GR 4.6 M/S</td>\n",
       "    </tr>\n",
       "    <tr>\n",
       "      <th>122</th>\n",
       "      <td>2</td>\n",
       "      <td>328749726</td>\n",
       "      <td>NOZZLE VO1,VO2,VO3,VO4 FOR VJ-LN01/04</td>\n",
       "    </tr>\n",
       "    <tr>\n",
       "      <th>123</th>\n",
       "      <td>2</td>\n",
       "      <td>538725127</td>\n",
       "      <td>MOTOR AC 0.37 KW 4 POLE 1400 RPM B5</td>\n",
       "    </tr>\n",
       "    <tr>\n",
       "      <th>124</th>\n",
       "      <td>2</td>\n",
       "      <td>761127127</td>\n",
       "      <td>INTERLINK FORGED HANDRAIL MT 90</td>\n",
       "    </tr>\n",
       "    <tr>\n",
       "      <th>125</th>\n",
       "      <td>2</td>\n",
       "      <td>222710876</td>\n",
       "      <td>BOLT&amp;NUT HEX HEAD M24X100MM GR 4.6 M/S</td>\n",
       "    </tr>\n",
       "    <tr>\n",
       "      <th>126</th>\n",
       "      <td>2</td>\n",
       "      <td>412110379</td>\n",
       "      <td>PIPE 50MM X 6,0M STEEL</td>\n",
       "    </tr>\n",
       "    <tr>\n",
       "      <th>127</th>\n",
       "      <td>2</td>\n",
       "      <td>375510496</td>\n",
       "      <td>PIPE 150NB FS 3000MM LONG,1-736-9 BULK</td>\n",
       "    </tr>\n",
       "    <tr>\n",
       "      <th>128</th>\n",
       "      <td>2</td>\n",
       "      <td>233757891</td>\n",
       "      <td>BELT WEDGE 13 X 10 X 2800MM (SPA/13N)</td>\n",
       "    </tr>\n",
       "    <tr>\n",
       "      <th>129</th>\n",
       "      <td>2</td>\n",
       "      <td>112650433</td>\n",
       "      <td>PLATE M/S BLACK 2500 X 1200 X 6,0MM</td>\n",
       "    </tr>\n",
       "    <tr>\n",
       "      <th>130</th>\n",
       "      <td>2</td>\n",
       "      <td>373680517</td>\n",
       "      <td>ROLL IDLER HDPE  127X698 BLT  600MM S25</td>\n",
       "    </tr>\n",
       "    <tr>\n",
       "      <th>131</th>\n",
       "      <td>2</td>\n",
       "      <td>548284011</td>\n",
       "      <td>GLAND COMPRESSION 7,0MM-11,0MM NO.0</td>\n",
       "    </tr>\n",
       "    <tr>\n",
       "      <th>132</th>\n",
       "      <td>2</td>\n",
       "      <td>572132757</td>\n",
       "      <td>PLUG INDUSTRIAL 15A 3 PIN 1450</td>\n",
       "    </tr>\n",
       "    <tr>\n",
       "      <th>133</th>\n",
       "      <td>2</td>\n",
       "      <td>418241126</td>\n",
       "      <td>TUBE JET DLM 6/8T UP,1A31811037 DONALDSN</td>\n",
       "    </tr>\n",
       "    <tr>\n",
       "      <th>134</th>\n",
       "      <td>2</td>\n",
       "      <td>377191084</td>\n",
       "      <td>BUFFER RUBBER SCORPIO          SC16/HARB</td>\n",
       "    </tr>\n",
       "    <tr>\n",
       "      <th>135</th>\n",
       "      <td>2</td>\n",
       "      <td>222710508</td>\n",
       "      <td>BOLT&amp;NUT HEX HEAD M10X 25MM GR 4.6 M/S</td>\n",
       "    </tr>\n",
       "    <tr>\n",
       "      <th>136</th>\n",
       "      <td>2</td>\n",
       "      <td>616232416</td>\n",
       "      <td>ARRESTOR REL/COUPLER F/BACK TORCH END.LH</td>\n",
       "    </tr>\n",
       "    <tr>\n",
       "      <th>137</th>\n",
       "      <td>2</td>\n",
       "      <td>421110090</td>\n",
       "      <td>VALVE SAF 50MM 707VSL50321PV007A BAILEY</td>\n",
       "    </tr>\n",
       "    <tr>\n",
       "      <th>138</th>\n",
       "      <td>2</td>\n",
       "      <td>232881133</td>\n",
       "      <td>SLEEVE ADAPTOR H 317 SKF</td>\n",
       "    </tr>\n",
       "    <tr>\n",
       "      <th>139</th>\n",
       "      <td>2</td>\n",
       "      <td>532250020</td>\n",
       "      <td>FITTING FLOURESCENT 1,2/2X36W C2A 236 SS</td>\n",
       "    </tr>\n",
       "    <tr>\n",
       "      <th>140</th>\n",
       "      <td>2</td>\n",
       "      <td>415351824</td>\n",
       "      <td>GASKET 175MM FLANGE TABLE D CAF 3XA</td>\n",
       "    </tr>\n",
       "    <tr>\n",
       "      <th>141</th>\n",
       "      <td>2</td>\n",
       "      <td>421110006</td>\n",
       "      <td>VALVE SAF 40MM 707VSL40321PV005A BAILEY</td>\n",
       "    </tr>\n",
       "    <tr>\n",
       "      <th>142</th>\n",
       "      <td>2</td>\n",
       "      <td>375510544</td>\n",
       "      <td>PIPE START 175NB FS 2-824-4 BULK</td>\n",
       "    </tr>\n",
       "    <tr>\n",
       "      <th>143</th>\n",
       "      <td>2</td>\n",
       "      <td>811755932</td>\n",
       "      <td>HYPOTONIC - NAARTJIE  FLAVOUR 662   240G</td>\n",
       "    </tr>\n",
       "    <tr>\n",
       "      <th>144</th>\n",
       "      <td>2</td>\n",
       "      <td>616232126</td>\n",
       "      <td>CLEANER NOZZLE TIP 237/005</td>\n",
       "    </tr>\n",
       "    <tr>\n",
       "      <th>145</th>\n",
       "      <td>2</td>\n",
       "      <td>664271078</td>\n",
       "      <td>STRAPPING 316 ST/STEEL 19MM X 30M</td>\n",
       "    </tr>\n",
       "    <tr>\n",
       "      <th>146</th>\n",
       "      <td>2</td>\n",
       "      <td>548284214</td>\n",
       "      <td>GLAND COMPRESSION NO.0 PRATLEY TUFFLON</td>\n",
       "    </tr>\n",
       "    <tr>\n",
       "      <th>147</th>\n",
       "      <td>2</td>\n",
       "      <td>421252593</td>\n",
       "      <td>VALVE RA-0200-62522121-420-0-00-0-0-3</td>\n",
       "    </tr>\n",
       "    <tr>\n",
       "      <th>148</th>\n",
       "      <td>2</td>\n",
       "      <td>375510541</td>\n",
       "      <td>BEND T-BARREL 150X175 NB 2-705-1 BULK</td>\n",
       "    </tr>\n",
       "    <tr>\n",
       "      <th>149</th>\n",
       "      <td>2</td>\n",
       "      <td>114551018</td>\n",
       "      <td>IRON ANGLE 40 X 40 X 6,0MM X 6M BS 4360</td>\n",
       "    </tr>\n",
       "    <tr>\n",
       "      <th>150</th>\n",
       "      <td>2</td>\n",
       "      <td>233365919</td>\n",
       "      <td>COUPLING TYRE F120</td>\n",
       "    </tr>\n",
       "    <tr>\n",
       "      <th>151</th>\n",
       "      <td>2</td>\n",
       "      <td>415576715</td>\n",
       "      <td>BELLOWS 50MM EPDM STYLE 10 LINK-FLEX</td>\n",
       "    </tr>\n",
       "    <tr>\n",
       "      <th>152</th>\n",
       "      <td>2</td>\n",
       "      <td>532165349</td>\n",
       "      <td>LAMP METAL HALIDE 220W GES ELLIP COATED</td>\n",
       "    </tr>\n",
       "    <tr>\n",
       "      <th>153</th>\n",
       "      <td>2</td>\n",
       "      <td>377192159</td>\n",
       "      <td>SKIRTING RUBBER 200MM X 16MM X 10M</td>\n",
       "    </tr>\n",
       "    <tr>\n",
       "      <th>154</th>\n",
       "      <td>2</td>\n",
       "      <td>114551038</td>\n",
       "      <td>IRON ANGLE 80 X 80 X 10 MM X 6M BS 4360</td>\n",
       "    </tr>\n",
       "    <tr>\n",
       "      <th>155</th>\n",
       "      <td>2</td>\n",
       "      <td>112665033</td>\n",
       "      <td>PLATE VASTRAP M/S 2500X1200X 4,5/6,1MM</td>\n",
       "    </tr>\n",
       "    <tr>\n",
       "      <th>156</th>\n",
       "      <td>2</td>\n",
       "      <td>616241642</td>\n",
       "      <td>HOSE OUTLET FLEX L/H-9/16,FH0001 IBEDA</td>\n",
       "    </tr>\n",
       "    <tr>\n",
       "      <th>157</th>\n",
       "      <td>2</td>\n",
       "      <td>532672036</td>\n",
       "      <td>LIGHT LED NOVA,32/75N5068A1S SH E1 BEKA</td>\n",
       "    </tr>\n",
       "    <tr>\n",
       "      <th>158</th>\n",
       "      <td>2</td>\n",
       "      <td>616232447</td>\n",
       "      <td>ARRESTOR FLASHBACK HARRIS ACETYL 237084</td>\n",
       "    </tr>\n",
       "    <tr>\n",
       "      <th>159</th>\n",
       "      <td>2</td>\n",
       "      <td>112520069</td>\n",
       "      <td>BAR ROUND M/STEEL BLACK 40MM X 6M</td>\n",
       "    </tr>\n",
       "    <tr>\n",
       "      <th>160</th>\n",
       "      <td>2</td>\n",
       "      <td>165561211</td>\n",
       "      <td>TAPE PVC SCOTCH ADHESIVE ELECT 18MMX20M</td>\n",
       "    </tr>\n",
       "    <tr>\n",
       "      <th>161</th>\n",
       "      <td>2</td>\n",
       "      <td>421939912</td>\n",
       "      <td>VALVE NON-RETURN 50MM RIENZI MOD.916</td>\n",
       "    </tr>\n",
       "    <tr>\n",
       "      <th>162</th>\n",
       "      <td>2</td>\n",
       "      <td>421717419</td>\n",
       "      <td>VALVE N/GATE 150MM,6L24LA20DWHW LEWIS</td>\n",
       "    </tr>\n",
       "    <tr>\n",
       "      <th>163</th>\n",
       "      <td>1</td>\n",
       "      <td>421362611</td>\n",
       "      <td>VALVE PINCH SB-T10 1002503L2 50515 LAROX</td>\n",
       "    </tr>\n",
       "    <tr>\n",
       "      <th>164</th>\n",
       "      <td>1</td>\n",
       "      <td>532171294</td>\n",
       "      <td>LAMP FLOURESCENT BI/PIN 40W/1,2MX38MM</td>\n",
       "    </tr>\n",
       "    <tr>\n",
       "      <th>165</th>\n",
       "      <td>1</td>\n",
       "      <td>375142515</td>\n",
       "      <td>STRIP BACKING,10970-01-02-02 DAVEY</td>\n",
       "    </tr>\n",
       "    <tr>\n",
       "      <th>166</th>\n",
       "      <td>1</td>\n",
       "      <td>421110092</td>\n",
       "      <td>VALVE SAF 50MM 707VSL50321PV031A BAILEY</td>\n",
       "    </tr>\n",
       "    <tr>\n",
       "      <th>167</th>\n",
       "      <td>1</td>\n",
       "      <td>421110087</td>\n",
       "      <td>VALVE SAF 50MM 707VSL50321PV008A BAILEY</td>\n",
       "    </tr>\n",
       "    <tr>\n",
       "      <th>168</th>\n",
       "      <td>1</td>\n",
       "      <td>273316522</td>\n",
       "      <td>BOLT RAWL 10MM X 75MM</td>\n",
       "    </tr>\n",
       "    <tr>\n",
       "      <th>169</th>\n",
       "      <td>1</td>\n",
       "      <td>167313074</td>\n",
       "      <td>ACETYLENE WELDING 8,6KG 340006 AFROX</td>\n",
       "    </tr>\n",
       "    <tr>\n",
       "      <th>170</th>\n",
       "      <td>1</td>\n",
       "      <td>442814124</td>\n",
       "      <td>SLEEVE PINCH VALVE, 53504-3 LAROX</td>\n",
       "    </tr>\n",
       "    <tr>\n",
       "      <th>171</th>\n",
       "      <td>1</td>\n",
       "      <td>231317031</td>\n",
       "      <td>BEARING 6213 SKF BALL RADIAL 2 DOT</td>\n",
       "    </tr>\n",
       "    <tr>\n",
       "      <th>172</th>\n",
       "      <td>1</td>\n",
       "      <td>421246013</td>\n",
       "      <td>VALVE B/FLY 100 B100100332BE4GTTV BIANCA</td>\n",
       "    </tr>\n",
       "    <tr>\n",
       "      <th>173</th>\n",
       "      <td>1</td>\n",
       "      <td>150NB FS START PIPE, 2780 LONG SILICON C</td>\n",
       "      <td>150NB FS START PIPE, 2780 LONG SILICON C</td>\n",
       "    </tr>\n",
       "    <tr>\n",
       "      <th>174</th>\n",
       "      <td>1</td>\n",
       "      <td>415351823</td>\n",
       "      <td>REPLACED BY MATERIAL 415 35 2615</td>\n",
       "    </tr>\n",
       "    <tr>\n",
       "      <th>175</th>\n",
       "      <td>1</td>\n",
       "      <td>548282014</td>\n",
       "      <td>GLAND CABLE MECHANICAL NO 0</td>\n",
       "    </tr>\n",
       "    <tr>\n",
       "      <th>176</th>\n",
       "      <td>1</td>\n",
       "      <td>112511689</td>\n",
       "      <td>BAR FLAT M/STEEL BLACK 100MMX12MMX6M</td>\n",
       "    </tr>\n",
       "    <tr>\n",
       "      <th>177</th>\n",
       "      <td>1</td>\n",
       "      <td>538725234</td>\n",
       "      <td>MOTOR AC 7.5 KW 2 POLE 2930 RPM B5</td>\n",
       "    </tr>\n",
       "    <tr>\n",
       "      <th>178</th>\n",
       "      <td>1</td>\n",
       "      <td>421261535</td>\n",
       "      <td>VALVE 600MM OKUMURA , 600615XGO4S DLM</td>\n",
       "    </tr>\n",
       "    <tr>\n",
       "      <th>179</th>\n",
       "      <td>1</td>\n",
       "      <td>421110099</td>\n",
       "      <td>VALVE SAF 50MM 707VSL50321PV034A BAILEY</td>\n",
       "    </tr>\n",
       "    <tr>\n",
       "      <th>180</th>\n",
       "      <td>1</td>\n",
       "      <td>616241021</td>\n",
       "      <td>ACETYLENE REGULATOR F10 MULTI-EFFECT</td>\n",
       "    </tr>\n",
       "    <tr>\n",
       "      <th>181</th>\n",
       "      <td>1</td>\n",
       "      <td>114561022</td>\n",
       "      <td>CHANNEL 152MM X 76MM X 6M BS 4360/43A</td>\n",
       "    </tr>\n",
       "    <tr>\n",
       "      <th>182</th>\n",
       "      <td>1</td>\n",
       "      <td>150NB BARREL BEND, CERAMIC LINED</td>\n",
       "      <td>150NB BARREL BEND, CERAMIC LINED</td>\n",
       "    </tr>\n",
       "    <tr>\n",
       "      <th>183</th>\n",
       "      <td>1</td>\n",
       "      <td>541360815</td>\n",
       "      <td>SWITCH LIMIT , CHB93053 CUTLER HAMMER</td>\n",
       "    </tr>\n",
       "    <tr>\n",
       "      <th>184</th>\n",
       "      <td>1</td>\n",
       "      <td>415351822</td>\n",
       "      <td>REPLACED BY MATERIAL 415 35 2614</td>\n",
       "    </tr>\n",
       "    <tr>\n",
       "      <th>185</th>\n",
       "      <td>1</td>\n",
       "      <td>375142413</td>\n",
       "      <td>TAIL P/S ASSY DRG. R124/197 SA BATEMAN</td>\n",
       "    </tr>\n",
       "    <tr>\n",
       "      <th>186</th>\n",
       "      <td>1</td>\n",
       "      <td>SCORPIO ADJUST STOP BLOCKS</td>\n",
       "      <td>SCORPIO ADJUST STOP BLOCKS</td>\n",
       "    </tr>\n",
       "    <tr>\n",
       "      <th>187</th>\n",
       "      <td>1</td>\n",
       "      <td>734126476</td>\n",
       "      <td>CABLE ACCESSORIES 100M ,100M E11686 IFM</td>\n",
       "    </tr>\n",
       "    <tr>\n",
       "      <th>188</th>\n",
       "      <td>1</td>\n",
       "      <td>418246416</td>\n",
       "      <td>HOSE EPDM ASBESTOS COVERED 25MM ID 30M</td>\n",
       "    </tr>\n",
       "    <tr>\n",
       "      <th>189</th>\n",
       "      <td>1</td>\n",
       "      <td>175 OD X 190 HI MILD STEEL INSERT WITH 4</td>\n",
       "      <td>175 OD X 190 HI MILD STEEL INSERT WITH 4</td>\n",
       "    </tr>\n",
       "    <tr>\n",
       "      <th>190</th>\n",
       "      <td>1</td>\n",
       "      <td>222710660</td>\n",
       "      <td>BOLT&amp;NUT HEX HEAD M16X 40MM GR 4.6 M/S</td>\n",
       "    </tr>\n",
       "    <tr>\n",
       "      <th>191</th>\n",
       "      <td>1</td>\n",
       "      <td>421110093</td>\n",
       "      <td>VALVE SAF 50MM 707VSL50321PV033A BAILEY</td>\n",
       "    </tr>\n",
       "    <tr>\n",
       "      <th>192</th>\n",
       "      <td>1</td>\n",
       "      <td>716151023</td>\n",
       "      <td>PADLOCK IRON 40MM 364 3 KEYS</td>\n",
       "    </tr>\n",
       "    <tr>\n",
       "      <th>193</th>\n",
       "      <td>1</td>\n",
       "      <td>487140127</td>\n",
       "      <td>BELTS POWER BAND  6B148 13-55P EVAPCO</td>\n",
       "    </tr>\n",
       "    <tr>\n",
       "      <th>194</th>\n",
       "      <td>1</td>\n",
       "      <td>616232280</td>\n",
       "      <td>REGULATOR ACETYLENE 0103-021 WESCOL</td>\n",
       "    </tr>\n",
       "    <tr>\n",
       "      <th>195</th>\n",
       "      <td>1</td>\n",
       "      <td>232881127</td>\n",
       "      <td>SLEEVE ADAPTOR H 310 SKF</td>\n",
       "    </tr>\n",
       "    <tr>\n",
       "      <th>196</th>\n",
       "      <td>1</td>\n",
       "      <td>811755019</td>\n",
       "      <td>TEA BAGS TAGLESS TO AMP SPEC 290 250G</td>\n",
       "    </tr>\n",
       "    <tr>\n",
       "      <th>197</th>\n",
       "      <td>1</td>\n",
       "      <td>548282016</td>\n",
       "      <td>GLAND CABLE MECHANICAL NO 1</td>\n",
       "    </tr>\n",
       "    <tr>\n",
       "      <th>198</th>\n",
       "      <td>1</td>\n",
       "      <td>538551327</td>\n",
       "      <td>MOTOR GEARED 0.55KW RF77DT80K4-250 SEW</td>\n",
       "    </tr>\n",
       "    <tr>\n",
       "      <th>199</th>\n",
       "      <td>1</td>\n",
       "      <td>418247521</td>\n",
       "      <td>HOSE RUBBER 40MM X 30M MINING</td>\n",
       "    </tr>\n",
       "    <tr>\n",
       "      <th>200</th>\n",
       "      <td>1</td>\n",
       "      <td>166223251</td>\n",
       "      <td>OIL GEAR INDUSTRIAL OGI-320 209</td>\n",
       "    </tr>\n",
       "    <tr>\n",
       "      <th>201</th>\n",
       "      <td>1</td>\n",
       "      <td>412122225</td>\n",
       "      <td>BUSH REDUCING 25MM X 20MM MI BLACK</td>\n",
       "    </tr>\n",
       "    <tr>\n",
       "      <th>202</th>\n",
       "      <td>1</td>\n",
       "      <td>565133260</td>\n",
       "      <td>CABLE 2,5 X 3 SURFIX (WHITE) 100M COIL</td>\n",
       "    </tr>\n",
       "    <tr>\n",
       "      <th>203</th>\n",
       "      <td>1</td>\n",
       "      <td>488146280</td>\n",
       "      <td>HOSE RUBBER , 1A31892003 DONALDSON</td>\n",
       "    </tr>\n",
       "    <tr>\n",
       "      <th>204</th>\n",
       "      <td>1</td>\n",
       "      <td>373680519</td>\n",
       "      <td>ROLL IDLER HDPE 127X850 BLT 750MM S25</td>\n",
       "    </tr>\n",
       "    <tr>\n",
       "      <th>205</th>\n",
       "      <td>1</td>\n",
       "      <td>532254152</td>\n",
       "      <td>FITTING FLUORESCENT 2X58W 1575X134X98MM</td>\n",
       "    </tr>\n",
       "    <tr>\n",
       "      <th>206</th>\n",
       "      <td>1</td>\n",
       "      <td>375510528</td>\n",
       "      <td>PIPE 150NB 2768 LONG SIC 1-736-29 BULK</td>\n",
       "    </tr>\n",
       "    <tr>\n",
       "      <th>207</th>\n",
       "      <td>1</td>\n",
       "      <td>541620029</td>\n",
       "      <td>CONTACTOR SIZE 1F15 11KW 110V 83506A C-H</td>\n",
       "    </tr>\n",
       "    <tr>\n",
       "      <th>208</th>\n",
       "      <td>1</td>\n",
       "      <td>761127128</td>\n",
       "      <td>INTERLINK FORGED HANDRAIL MS 90</td>\n",
       "    </tr>\n",
       "    <tr>\n",
       "      <th>209</th>\n",
       "      <td>1</td>\n",
       "      <td>235716063</td>\n",
       "      <td>MOTOR GEARED,KH87DRS132S4/M1A SEW</td>\n",
       "    </tr>\n",
       "    <tr>\n",
       "      <th>210</th>\n",
       "      <td>1</td>\n",
       "      <td>432799169</td>\n",
       "      <td>PUMP SUBMERSIBLE 3.7KW,KBZ23.7 3.7KW ZFP</td>\n",
       "    </tr>\n",
       "    <tr>\n",
       "      <th>211</th>\n",
       "      <td>1</td>\n",
       "      <td>K11FAN ASSY PARTS KIT 50HZ 1A802495/3</td>\n",
       "      <td>K11FAN ASSY PARTS KIT 50HZ 1A802495/3</td>\n",
       "    </tr>\n",
       "    <tr>\n",
       "      <th>212</th>\n",
       "      <td>1</td>\n",
       "      <td>442281125</td>\n",
       "      <td>BAG FILTER POLYMIDE 1500 X 500MM 9432</td>\n",
       "    </tr>\n",
       "    <tr>\n",
       "      <th>213</th>\n",
       "      <td>1</td>\n",
       "      <td>167310285</td>\n",
       "      <td>GAS: OXYGEN WELDING 11,5KG 340304 AFROX</td>\n",
       "    </tr>\n",
       "    <tr>\n",
       "      <th>214</th>\n",
       "      <td>1</td>\n",
       "      <td>222632772</td>\n",
       "      <td>SCREW HEX HD M20 X 75MM GR 8.8 SPF</td>\n",
       "    </tr>\n",
       "    <tr>\n",
       "      <th>215</th>\n",
       "      <td>1</td>\n",
       "      <td>232571015</td>\n",
       "      <td>BEARING CAM FOLLOWER CR24 UU 1 WITH NUTS</td>\n",
       "    </tr>\n",
       "    <tr>\n",
       "      <th>216</th>\n",
       "      <td>1</td>\n",
       "      <td>421110088</td>\n",
       "      <td>VALVE SAF 50MM 707VSL50321PV010A BAILEY</td>\n",
       "    </tr>\n",
       "    <tr>\n",
       "      <th>217</th>\n",
       "      <td>1</td>\n",
       "      <td>616232291</td>\n",
       "      <td>NOZZLE CUTTING SC12-3 SMITH</td>\n",
       "    </tr>\n",
       "    <tr>\n",
       "      <th>218</th>\n",
       "      <td>1</td>\n",
       "      <td>421110096</td>\n",
       "      <td>VALVE SAF 50MM 707VSL50321PV035A BAILEY</td>\n",
       "    </tr>\n",
       "    <tr>\n",
       "      <th>219</th>\n",
       "      <td>1</td>\n",
       "      <td>421717504</td>\n",
       "      <td>CONE DEFLECTOR 200MM,8AR UDC DEZURIK</td>\n",
       "    </tr>\n",
       "    <tr>\n",
       "      <th>220</th>\n",
       "      <td>1</td>\n",
       "      <td>616232038</td>\n",
       "      <td>TORCH MONARCH 28 231/001 HARRIS</td>\n",
       "    </tr>\n",
       "    <tr>\n",
       "      <th>221</th>\n",
       "      <td>1</td>\n",
       "      <td>164927291</td>\n",
       "      <td>PAINT M/MIST PHENOLIC MODIFIED 5L</td>\n",
       "    </tr>\n",
       "    <tr>\n",
       "      <th>222</th>\n",
       "      <td>1</td>\n",
       "      <td>ROOF BIN DUST EXTRACTION SYSTEM ASSY</td>\n",
       "      <td>ROOF BIN DUST EXTRACTION SYSTEM ASSY</td>\n",
       "    </tr>\n",
       "    <tr>\n",
       "      <th>223</th>\n",
       "      <td>1</td>\n",
       "      <td>233757921</td>\n",
       "      <td>BELT WEDGE 13 X 10 X 3000MM (SPA/13N)</td>\n",
       "    </tr>\n",
       "    <tr>\n",
       "      <th>224</th>\n",
       "      <td>1</td>\n",
       "      <td>418310255</td>\n",
       "      <td>CLAMP HOSE 316SS 46-52 FOR 32-47MM</td>\n",
       "    </tr>\n",
       "    <tr>\n",
       "      <th>225</th>\n",
       "      <td>1</td>\n",
       "      <td>375510510</td>\n",
       "      <td>PIPE 150 NB FS 2411 LONG 3-577-2 BULK</td>\n",
       "    </tr>\n",
       "    <tr>\n",
       "      <th>226</th>\n",
       "      <td>1</td>\n",
       "      <td>415351821</td>\n",
       "      <td>REPLACED BY MATERIAL 415 35 2613</td>\n",
       "    </tr>\n",
       "    <tr>\n",
       "      <th>227</th>\n",
       "      <td>1</td>\n",
       "      <td>377192012</td>\n",
       "      <td>SCRAPER SECONDARY SC16 ARB/600  M&amp;S</td>\n",
       "    </tr>\n",
       "    <tr>\n",
       "      <th>228</th>\n",
       "      <td>1</td>\n",
       "      <td>372111016</td>\n",
       "      <td>FASTENER PLATE NO.2 CONVEYOR BELT</td>\n",
       "    </tr>\n",
       "    <tr>\n",
       "      <th>229</th>\n",
       "      <td>1</td>\n",
       "      <td>421110089</td>\n",
       "      <td>VALVE SAF 50MM 707VSL50321PV035A BAILEY</td>\n",
       "    </tr>\n",
       "    <tr>\n",
       "      <th>230</th>\n",
       "      <td>1</td>\n",
       "      <td>167319517</td>\n",
       "      <td>GAS ARGON TECHNICAL 17,40KG 340047 AFROX</td>\n",
       "    </tr>\n",
       "    <tr>\n",
       "      <th>231</th>\n",
       "      <td>1</td>\n",
       "      <td>211830039</td>\n",
       "      <td>WASHER ROUND FLAT M20 STEEL GR2 25KG BAG</td>\n",
       "    </tr>\n",
       "    <tr>\n",
       "      <th>232</th>\n",
       "      <td>1</td>\n",
       "      <td>421362813</td>\n",
       "      <td>SLEEVE 100 NB M 100.03X AKO</td>\n",
       "    </tr>\n",
       "    <tr>\n",
       "      <th>233</th>\n",
       "      <td>1</td>\n",
       "      <td>817133917</td>\n",
       "      <td>CLEANER HAND HEAVY DUTY NON/SOL  3KG</td>\n",
       "    </tr>\n",
       "    <tr>\n",
       "      <th>234</th>\n",
       "      <td>1</td>\n",
       "      <td>413910365</td>\n",
       "      <td>CLAMP FULL CASCADE 8IN,CR1-0863-08 MOOKA</td>\n",
       "    </tr>\n",
       "    <tr>\n",
       "      <th>235</th>\n",
       "      <td>1</td>\n",
       "      <td>412142554</td>\n",
       "      <td>BEND 90DEG  50MM SCHEDULE 80 W/O</td>\n",
       "    </tr>\n",
       "    <tr>\n",
       "      <th>236</th>\n",
       "      <td>1</td>\n",
       "      <td>233225331</td>\n",
       "      <td>BUSH TAPER LOCK 60MM BORE NO 3020</td>\n",
       "    </tr>\n",
       "    <tr>\n",
       "      <th>237</th>\n",
       "      <td>1</td>\n",
       "      <td>163112077</td>\n",
       "      <td>ABSORBENT PEAT 200L BIOZ01 SPILL TECH</td>\n",
       "    </tr>\n",
       "    <tr>\n",
       "      <th>238</th>\n",
       "      <td>1</td>\n",
       "      <td>616232287</td>\n",
       "      <td>DUAL GUARD TORCH 21 IN DG929 SMITH</td>\n",
       "    </tr>\n",
       "    <tr>\n",
       "      <th>239</th>\n",
       "      <td>1</td>\n",
       "      <td>421110019</td>\n",
       "      <td>VALVE STACKER UPPER,015542-002 SANDVIK</td>\n",
       "    </tr>\n",
       "    <tr>\n",
       "      <th>240</th>\n",
       "      <td>1</td>\n",
       "      <td>200IDX330MM FOE 8\" FIXED 1000/3 OE 250ID</td>\n",
       "      <td>200IDX330MM FOE 8\" FIXED 1000/3 OE 250ID</td>\n",
       "    </tr>\n",
       "    <tr>\n",
       "      <th>241</th>\n",
       "      <td>1</td>\n",
       "      <td>565331433</td>\n",
       "      <td>CABLE 2,5SQMM 4C SWA BLUE STRIPE 500M</td>\n",
       "    </tr>\n",
       "    <tr>\n",
       "      <th>242</th>\n",
       "      <td>1</td>\n",
       "      <td>328749800</td>\n",
       "      <td>BEARING CAM, VJ-LCDF-002 CF18UU VEE-JAYS</td>\n",
       "    </tr>\n",
       "    <tr>\n",
       "      <th>243</th>\n",
       "      <td>1</td>\n",
       "      <td>222710871</td>\n",
       "      <td>BOLT&amp;NUT HEX HEAD M24X 75MM GR 4.6 M/S</td>\n",
       "    </tr>\n",
       "    <tr>\n",
       "      <th>244</th>\n",
       "      <td>1</td>\n",
       "      <td>421110009</td>\n",
       "      <td>VALVE SAF 40MM 707VSL40321PV002 BAILEY</td>\n",
       "    </tr>\n",
       "    <tr>\n",
       "      <th>245</th>\n",
       "      <td>1</td>\n",
       "      <td>442280187</td>\n",
       "      <td>SEAL FELT FILTER BAG PTFE 1500MM X 495MM</td>\n",
       "    </tr>\n",
       "    <tr>\n",
       "      <th>246</th>\n",
       "      <td>1</td>\n",
       "      <td>377192050</td>\n",
       "      <td>BLOCK ADJUSTMENT ADJ BL  M&amp;S</td>\n",
       "    </tr>\n",
       "    <tr>\n",
       "      <th>247</th>\n",
       "      <td>1</td>\n",
       "      <td>114551036</td>\n",
       "      <td>IRON ANGLE 80 X 80 X 6,0MM X 6M BS 4360</td>\n",
       "    </tr>\n",
       "    <tr>\n",
       "      <th>248</th>\n",
       "      <td>1</td>\n",
       "      <td>373586246</td>\n",
       "      <td>ROLL IDLER IMPACT 159X250 BLT  600MM S25</td>\n",
       "    </tr>\n",
       "    <tr>\n",
       "      <th>249</th>\n",
       "      <td>1</td>\n",
       "      <td>678881349</td>\n",
       "      <td>TRANSMITTER VIBRATION,VTV122 IFM</td>\n",
       "    </tr>\n",
       "    <tr>\n",
       "      <th>250</th>\n",
       "      <td>1</td>\n",
       "      <td>421252413</td>\n",
       "      <td>VALVE 100 MM      EPNS-4-PTFE/PTFE-HLT</td>\n",
       "    </tr>\n",
       "    <tr>\n",
       "      <th>251</th>\n",
       "      <td>1</td>\n",
       "      <td>178216003</td>\n",
       "      <td>WIRE FILLER WELD 1,2MM CARB STEEL 18KG</td>\n",
       "    </tr>\n",
       "    <tr>\n",
       "      <th>252</th>\n",
       "      <td>1</td>\n",
       "      <td>222810125</td>\n",
       "      <td>NUT, HEX: M10 GR 8 DIN 934 SPF</td>\n",
       "    </tr>\n",
       "    <tr>\n",
       "      <th>253</th>\n",
       "      <td>1</td>\n",
       "      <td>112613036</td>\n",
       "      <td>SHEET M/S BLACK 2450 X 1225 X 3,0MM HOT</td>\n",
       "    </tr>\n",
       "    <tr>\n",
       "      <th>254</th>\n",
       "      <td>1</td>\n",
       "      <td>532673322</td>\n",
       "      <td>LAMP 58W TRI-PHOSPHER 399493 OSRAM</td>\n",
       "    </tr>\n",
       "    <tr>\n",
       "      <th>255</th>\n",
       "      <td>1</td>\n",
       "      <td>811755117</td>\n",
       "      <td>COFFEE INSTANT 302 750G</td>\n",
       "    </tr>\n",
       "    <tr>\n",
       "      <th>256</th>\n",
       "      <td>1</td>\n",
       "      <td>421110085</td>\n",
       "      <td>VALVE SAF 50MM 707VSL50SCFM2A BAILEY</td>\n",
       "    </tr>\n",
       "    <tr>\n",
       "      <th>257</th>\n",
       "      <td>1</td>\n",
       "      <td>125NB FS BEND, 90° SILICON CARBIDE</td>\n",
       "      <td>125NB FS BEND, 90° SILICON CARBIDE</td>\n",
       "    </tr>\n",
       "    <tr>\n",
       "      <th>258</th>\n",
       "      <td>1</td>\n",
       "      <td>421717457</td>\n",
       "      <td>VALVE N/GATE 150MM ,VKG013 NIAGARE</td>\n",
       "    </tr>\n",
       "    <tr>\n",
       "      <th>259</th>\n",
       "      <td>1</td>\n",
       "      <td>418245022</td>\n",
       "      <td>HOSE RUBBER 8MMX18M 002435 OXYGEN BLACK</td>\n",
       "    </tr>\n",
       "    <tr>\n",
       "      <th>260</th>\n",
       "      <td>1</td>\n",
       "      <td>232417535</td>\n",
       "      <td>BEARING 22217 CK/W33  SKF SPHER ROL 3DOT</td>\n",
       "    </tr>\n",
       "    <tr>\n",
       "      <th>261</th>\n",
       "      <td>1</td>\n",
       "      <td>421110101</td>\n",
       "      <td>VALVE SAF 50MM 707VSL50321PV028A BAILEY</td>\n",
       "    </tr>\n",
       "    <tr>\n",
       "      <th>262</th>\n",
       "      <td>1</td>\n",
       "      <td>418311199</td>\n",
       "      <td>VALVE SPUD 25MM WRE 11428</td>\n",
       "    </tr>\n",
       "    <tr>\n",
       "      <th>263</th>\n",
       "      <td>1</td>\n",
       "      <td>178210593</td>\n",
       "      <td>ELECTRODE WELD 2.50MM 316L STAINLESS ST</td>\n",
       "    </tr>\n",
       "    <tr>\n",
       "      <th>264</th>\n",
       "      <td>1</td>\n",
       "      <td>535917030</td>\n",
       "      <td>INVERTER,500V 7.5KW 12.5A G557P5 YASKAWA</td>\n",
       "    </tr>\n",
       "    <tr>\n",
       "      <th>265</th>\n",
       "      <td>1</td>\n",
       "      <td>413910363</td>\n",
       "      <td>CLAMP FULL 4IN CASCADE S/STEEL EVERYSEAL</td>\n",
       "    </tr>\n",
       "    <tr>\n",
       "      <th>266</th>\n",
       "      <td>1</td>\n",
       "      <td>BLOW MATTE PIPE  380NB X 125</td>\n",
       "      <td>BLOW MATTE PIPE  380NB X 125</td>\n",
       "    </tr>\n",
       "    <tr>\n",
       "      <th>267</th>\n",
       "      <td>1</td>\n",
       "      <td>328744044</td>\n",
       "      <td>BELLOW 200NB RSA42338401/ITEM29 AUSMELT</td>\n",
       "    </tr>\n",
       "    <tr>\n",
       "      <th>268</th>\n",
       "      <td>1</td>\n",
       "      <td>538725224</td>\n",
       "      <td>MOTOR AC 5.5 KW 4 POLE 1470 RPM B35</td>\n",
       "    </tr>\n",
       "    <tr>\n",
       "      <th>269</th>\n",
       "      <td>1</td>\n",
       "      <td>415170283</td>\n",
       "      <td>FLANGE DN150 WELD-ON PLATE TABLE 1000/3</td>\n",
       "    </tr>\n",
       "    <tr>\n",
       "      <th>270</th>\n",
       "      <td>1</td>\n",
       "      <td>538725237</td>\n",
       "      <td>MOTOR AC 7.5 KW 4 POLE 1470 RPM B5</td>\n",
       "    </tr>\n",
       "    <tr>\n",
       "      <th>271</th>\n",
       "      <td>1</td>\n",
       "      <td>273316561</td>\n",
       "      <td>BOLT RAWL 12MM X 75MM</td>\n",
       "    </tr>\n",
       "    <tr>\n",
       "      <th>272</th>\n",
       "      <td>1</td>\n",
       "      <td>377139141</td>\n",
       "      <td>BELT CONVEYOR 600MM 4PLY,TRB7659 DUNLOP</td>\n",
       "    </tr>\n",
       "    <tr>\n",
       "      <th>273</th>\n",
       "      <td>1</td>\n",
       "      <td>375510509</td>\n",
       "      <td>BEND 125 NB FS, 90 DEG, SIC 2-613-1 BULK</td>\n",
       "    </tr>\n",
       "    <tr>\n",
       "      <th>274</th>\n",
       "      <td>1</td>\n",
       "      <td>375142514</td>\n",
       "      <td>BOLT BUCKET,10970-01-02-03/4/5/6 DAVEY</td>\n",
       "    </tr>\n",
       "    <tr>\n",
       "      <th>275</th>\n",
       "      <td>1</td>\n",
       "      <td>421110094</td>\n",
       "      <td>VALVE SAF 50MM 707VSL50321PV032A BAILEY</td>\n",
       "    </tr>\n",
       "    <tr>\n",
       "      <th>276</th>\n",
       "      <td>1</td>\n",
       "      <td>734126430</td>\n",
       "      <td>ASI FLAT CABLE SEAL PG11 AC3003 IFM</td>\n",
       "    </tr>\n",
       "    <tr>\n",
       "      <th>277</th>\n",
       "      <td>1</td>\n",
       "      <td>533221796</td>\n",
       "      <td>HOOTER KLAXON CH 54041</td>\n",
       "    </tr>\n",
       "    <tr>\n",
       "      <th>278</th>\n",
       "      <td>1</td>\n",
       "      <td>442281124</td>\n",
       "      <td>BAG FILTER NOMEX 1500X500MM    FGO-R5724</td>\n",
       "    </tr>\n",
       "    <tr>\n",
       "      <th>279</th>\n",
       "      <td>1</td>\n",
       "      <td>200IDX330MM FOE 8'' FIXES 1000/3 OE 250I</td>\n",
       "      <td>200IDX330MM FOE 8'' FIXES 1000/3 OE 250I</td>\n",
       "    </tr>\n",
       "    <tr>\n",
       "      <th>280</th>\n",
       "      <td>1</td>\n",
       "      <td>328744033</td>\n",
       "      <td>PIPE MATTE BLOW BLACK 145 F/FX125MM</td>\n",
       "    </tr>\n",
       "    <tr>\n",
       "      <th>281</th>\n",
       "      <td>1</td>\n",
       "      <td>412462848</td>\n",
       "      <td>CONNECTOR ELBOW MALE SS-12MO-2-4 S/LOK</td>\n",
       "    </tr>\n",
       "    <tr>\n",
       "      <th>282</th>\n",
       "      <td>1</td>\n",
       "      <td>150 NB FS PIPE, 6000 LONG SC</td>\n",
       "      <td>150 NB FS PIPE, 6000 LONG SC</td>\n",
       "    </tr>\n",
       "    <tr>\n",
       "      <th>283</th>\n",
       "      <td>1</td>\n",
       "      <td>572117611</td>\n",
       "      <td>PLUG TOP 3-PIN 15A LITEMASTER 1065</td>\n",
       "    </tr>\n",
       "    <tr>\n",
       "      <th>284</th>\n",
       "      <td>1</td>\n",
       "      <td>421717501</td>\n",
       "      <td>CONE DEFLECTOR 250MM,10AR UDC DEZURIK</td>\n",
       "    </tr>\n",
       "    <tr>\n",
       "      <th>285</th>\n",
       "      <td>1</td>\n",
       "      <td>413561144</td>\n",
       "      <td>LR FS BEND,HOR-VER 1-325-01 BULK TECHNIK</td>\n",
       "    </tr>\n",
       "    <tr>\n",
       "      <th>286</th>\n",
       "      <td>1</td>\n",
       "      <td>222710771</td>\n",
       "      <td>BOLT&amp;NUT HEX HEAD M20X 75MM GR 4.6 M/S</td>\n",
       "    </tr>\n",
       "    <tr>\n",
       "      <th>287</th>\n",
       "      <td>1</td>\n",
       "      <td>112511627</td>\n",
       "      <td>BAR FLAT M/STEEL BLACK 80MM X 10MM X 6M</td>\n",
       "    </tr>\n",
       "    <tr>\n",
       "      <th>288</th>\n",
       "      <td>1</td>\n",
       "      <td>488146222</td>\n",
       "      <td>CONTROLLER IPC 10 WAY 1A31599326 DONALDS</td>\n",
       "    </tr>\n",
       "    <tr>\n",
       "      <th>289</th>\n",
       "      <td>1</td>\n",
       "      <td>532672025</td>\n",
       "      <td>LIGHT LED NOVA LUG MOUNT,LEDNOVA BEKA</td>\n",
       "    </tr>\n",
       "  </tbody>\n",
       "</table>\n",
       "</div>"
      ],
      "text/plain": [
       "     Count                                  Material                      Material Description\n",
       "0       81  250NB (10\") BRAY S40 T06G HIGH PERFORMAN  250NB (10\") BRAY S40 T06G HIGH PERFORMAN\n",
       "1       50                                 421252594     VALVE RA-0250-61522121-415-0-00-0-0-3\n",
       "2       48                    150 NB FS BEND, H-V SC                    150 NB FS BEND, H-V SC\n",
       "3       48               150NB FS PIPE 3000 LONG SIC               150NB FS PIPE 3000 LONG SIC\n",
       "4       47                                 178210008    ELECTRODE WELD 3.15MM CARB STEEL E6013\n",
       "5       42                                 177111033         TAPE PTFE THREAD SEALING 10MX10MM\n",
       "6       38                                 421362618      SLEEVE PINCH VALVE SBR-T 150MM LAROX\n",
       "7       36  3 LAYERS 450M CHOPPED STRAND AND GP RESI  3 LAYERS 450M CHOPPED STRAND AND GP RESI\n",
       "8       34                                 421252564   VALVE B/F 100MM,RAGMAX 100RAG2000 RAGON\n",
       "9       34                                 166256538       CLEANER SPANJAARD SPARK COMBAT 500G\n",
       "10      32                                 177111052             SEALANT GASKET RED T300 310ML\n",
       "11      32            250MM RAGMAX 4000 SLURRY VALVE            250MM RAGMAX 4000 SLURRY VALVE\n",
       "12      21                                 378313113  FEEDER, TYPE RVF-0433-FT-FC-LR-HP-RP BSM\n",
       "13      20                                 421252563   VALVE B/FLY 80MM,RAGMAX 80RAG2000 RAGON\n",
       "14      19                                 488146258      BAGS 1,5 M2 DLM1.5-TET6242 DONALDSON\n",
       "15      18                                 488146270  TETRATEX ON BAG DLM1.5-TET6245 DONALDSON\n",
       "16      18                                 488146257              BAGS 1,5 M2 DLM1.5 DONALDSON\n",
       "17      18                                 233758211     BELT WEDGE 22 X 18 X 3550MM (SPC/22N)\n",
       "18      17                                 421939642    VALVE CHECK 50MM RA-0050-SDNRDCV RAGON\n",
       "19      16                    1471 10MM HEX NUT GR.8                    1471 10MM HEX NUT GR.8\n",
       "20      16                                 375510446  SEAL CONE VALVE 300 NB         1-517-1/8\n",
       "21      16  150NB FS PIPE, 3000 LONG SILICON CARBIDE  150NB FS PIPE, 3000 LONG SILICON CARBIDE\n",
       "22      15                                 233366213                        COUPLING TYRE F 60\n",
       "23      14                                 373681132     ROLL IDLER HDPE 127X300 BLT 750MM S25\n",
       "24      13                                 233365922    COUPLING TYRE F220 FENAFLEX NAT RUBBER\n",
       "25      13                                 421110102       VALVE SAF 50MM 707VSD50UMF1A BAILEY\n",
       "26      13                                 421362213    PINCH VALVE 200NB V200.03X.20.30LA AKO\n",
       "27      12                                 222710664        BOLT HEX HEAD M16X 50MM GR 4.6 M/S\n",
       "28      12                                 421110082       VALVE SAF 50MM 707VSL50PFM1A BAILEY\n",
       "29      11                                 375142416      BUCKETS REF. SPS 300-215 3MM BATEMAN\n",
       "30      11                                 375142417                M10 X 40 EURO BOLT BATEMAN\n",
       "31      11                                 415576719     BELLOWS 100MM EPDM STYLE 10 LIMK-FLEX\n",
       "32      11                                 373681130    ROLL IDLER HDPE 127X250 BLT  600MM S25\n",
       "33      10                                 375510444  VALVE CONE 300 NB                1-517-1\n",
       "34      10                                 415576722     BELLOWS 200MM EPDM STYLE 10 LINK-FLEX\n",
       "35      10   4MM BELLOWS RED MMJ-2015-AP-0001 RUBBER   4MM BELLOWS RED MMJ-2015-AP-0001 RUBBER\n",
       "36       9                 150 NB LR BEND, 60DEG, SC                 150 NB LR BEND, 60DEG, SC\n",
       "37       9                  150 NB LR BEND, 75DEG SC                  150 NB LR BEND, 75DEG SC\n",
       "38       8                                 422144645   VALVE PRESSURE REDUCING,G42043R50MM DLM\n",
       "39       8                                 421253243              E BUTTERFLY 100MM 110734 BAR\n",
       "40       8  DISIGN AND FABRICATE RMH CHUTE IN PANNEL  DISIGN AND FABRICATE RMH CHUTE IN PANNEL\n",
       "41       8                                 233225441          TAPER LOCK BUSH NO 5050   120 MM\n",
       "42       8                                 415576717      BELLOWS 80MM EPDM STYLE 10 LINK-FLEX\n",
       "43       7                                 412160649             ELBOW 90DEG 50MM STEEL FEMALE\n",
       "44       7                                 375142418     BELT FASTENER TYPE BC.2-330MM BATEMAN\n",
       "45       7                                 488146292  CAGE SPLIT VENTURE,BC3650X1/4MSTL DONALD\n",
       "46       7                                 222710769    BOLT&NUT HEX HEAD M20X 65MM GR 4.6 M/S\n",
       "47       7                                 421252561   VALVE B/FLY 80MM,RAGMAX 80RAG2000 RAGON\n",
       "48       7                                 375142419   BELT MESH 330MM A1 R123/0123 SA BATEMAN\n",
       "49       7                                 375510495   BEND 125NB FS 90 DEG, 2-613-1 B/TECHNIK\n",
       "50       7                                 422144615  VALVE PRESSURE REDUCING PUTSC01 BRAUKMAN\n",
       "51       7                                 412111278           NIPPLE BARREL  40MM STEEL HEAVY\n",
       "52       7                                 375510499    PIPE 125MM FS 6000MM LONG,1-737-1 BULK\n",
       "53       7                                 415121371     FLANGE 80MM WELDON BS10 TABLE D PLAIN\n",
       "54       6                                 377191291      BLADE SAND SECONDARY 1050MM SC16 ARB\n",
       "55       6                                 375510500    PIPE 150MM FS 3000MM LONG,1-736-9 BULK\n",
       "56       6                                 112520055         BAR ROUND M/STEEL BLACK 25MM X 6M\n",
       "57       6                                 232429247     BEARING 22213CCK     SKF SPHER ROLLER\n",
       "58       5                                 421717500  VLV,8KGCS2M-T10KGC200/223DA18PBU DEZURIK\n",
       "59       5                                 817193116                        SHAMPOO HAIR 400ML\n",
       "60       5                                 233757856  BELT WEDGE 13 X 10 X 2500MM 6(SPA/13N)MT\n",
       "61       5                                 232417135  BEARING 22217 SKF SPHERICAL ROLLER 3 DOT\n",
       "62       5                                 616232437           COUPLING FLEXIBLE HOSE L/H H107\n",
       "63       4                                 421424520              VALVE DIAPHRAGM 150MM KIM ST\n",
       "64       4                                 421939643    VALVE CHECK 80MM RA-0080-SDNRDCV RAGON\n",
       "65       4                                 716161247  LOCK 2 LEVER MORTICE UNION CZ682-95-76PL\n",
       "66       4                                 421110097   VALVE SAF 50MM 707VSL50321PV011A BAILEY\n",
       "67       4                           HOSE 385MM X 3\"                           HOSE 385MM X 3\"\n",
       "68       4                                 114561014     CHANNEL 100MM X 50MM X 6M BS 4360/43A\n",
       "69       4                  1471 10MM HEX NUT GR.8.8                  1471 10MM HEX NUT GR.8.8\n",
       "70       4                                 222710571    BOLT&NUT HEX HEAD M12X 65MM GR 4.6 M/S\n",
       "71       4                    125 NB FS BEND, H-V SC                    125 NB FS BEND, H-V SC\n",
       "72       4                                 412111079                   SOCKET 50MM STEEL HEAVY\n",
       "73       4                                 432799112  PUMP SUBMERSIBLE CPJD 100-22 CHROMEPLATE\n",
       "74       4                                 112511505    BAR FLAT M/STEEL BLACK 50MM X 6MM X 6M\n",
       "75       4                                 177111028    COMPOUND NORDBAK STANDARD BACKING 10KG\n",
       "76       4                    PILLOR BLOCK UC/211/32                    PILLOR BLOCK UC/211/32\n",
       "77       4                 180NB X 480MM HOSE FLANGE                 180NB X 480MM HOSE FLANGE\n",
       "78       4                                 412160319                          UNION 50MM STEEL\n",
       "79       4            200MM RAGMAX 4000 SLURRY VALVE            200MM RAGMAX 4000 SLURRY VALVE\n",
       "80       4                                 761127154    INTERLINK CLOSURE BEND  ITEM 2M 90 DEG\n",
       "81       4   8 IN DEZURIK KGC METAL KNIFE GATE VALVE   8 IN DEZURIK KGC METAL KNIFE GATE VALVE\n",
       "82       4                                 211830031  WASHER ROUND FLAT M12 STEEL GR2 25KG BAG\n",
       "83       4                                 538725209         MOTOR AC 4 KW 2 POLE 2890 RPM B35\n",
       "84       4                                 421261528  VALVE 100MM OKUMURA ,DLM-100612C25DA DLM\n",
       "85       4    MMJ-2015-AP-0001 4MM BELLOW RED RUBBER    MMJ-2015-AP-0001 4MM BELLOW RED RUBBER\n",
       "86       3                                 233711054  BELT VEE 13 X 8 X 2700MM 4(A) MATCHED ST\n",
       "87       3                                 421252565   VALVE B/F 250MM,RAGMAX 250RAG2000 RAGON\n",
       "88       3                                 222710763    BOLT&NUT HEX HEAD M20X 40MM GR 4.6 M/S\n",
       "89       3                                 165311068    PUTTY BELZONA NO.1111 METAL REPAIR 1KG\n",
       "90       3                                 532672035      LIGHT LED NOVA,32/75N5068A1S SH BEKA\n",
       "91       3                                 377122782       BELT CONVEYOR 600MM 630/4 5MM 1.5MM\n",
       "92       3                                 421939914     VALVE NON-RETURN 100MM RIENZI MOD.916\n",
       "93       3                                 541481628     PROX SWITCH EFFECTOR M M12 IFS209 IFM\n",
       "94       3                                 538975019      MOTOR VIB 1.8KW IVBLZ40-27/6 INVICTA\n",
       "95       3                                 321151014  FEEDER DOUBLE SCREW,VJ-ACPDSF001 VEEJAYS\n",
       "96       3                                 651411015                USE ITEM-CODE: 651 41 1076\n",
       "97       3                                 421717502  VLV,10KGCS2MT10KGC250/275DA18PBU DEZURIK\n",
       "98       3                                 222710873    BOLT&NUT HEX HEAD M24X 90MM GR 4.6 M/S\n",
       "99       3                                 412462661  CONNECTOR 12MM SRAIGHT MALE 1/2IN S/LOCK\n",
       "100      3                                 421931611   VALVE CHECK NIAGARA 80-173 4 IN (100MM)\n",
       "101      3                                 641161157      WHEEL CUT OFF AO 115MMX2,5MMX22,23MM\n",
       "102      3                                 415170281   FLANGE DN100 WELD-ON PLATE TABLE 1000/3\n",
       "103      3   CUSTOM KNIFE GATE VALVE FE-010 COMPLETE   CUSTOM KNIFE GATE VALVE FE-010 COMPLETE\n",
       "104      3                                 222710764        BOLT HEX HEAD M20X 50MM GR 4.6 M/S\n",
       "105      3                                 233365011           COUPLING FLANGE,033N0303 FENNER\n",
       "106      3                                 641381164   WHEEL GRIND AO 115X6X22,23MM TP 27 GR R\n",
       "107      3                                 811811016  SUGAR WHITE                  363  12,5KG\n",
       "108      3                                 421261517  OKUMURA  80MM B/FLY WAFER VALVE DLM 615X\n",
       "109      3                                 222710569    BOLT&NUT HEX HEAD M12X 50MM GR 4.6 M/S\n",
       "110      3                                 815111555                                TOWEL HAND\n",
       "111      3                                 233366227                       COUPLING TYRE F 200\n",
       "112      3                                 377192051       CLAMP 60:5 TO 1350MM CLAMP 60:5 M&S\n",
       "113      3                                 412111075                   SOCKET 20MM STEEL HEAVY\n",
       "114      2                                 112650833      PLATE M/S BLACK 2500 X 1200 X 12,0MM\n",
       "115      2                                 616232417       COUPLER QUICK RELEASE H104 ARRESTOR\n",
       "116      2                                 641161487      WHEEL CUT OFF AO 230MMX3,2MMX22,23MM\n",
       "117      2                                 177280061           20MM X 7MM X 5METRE FLANGE SEAL\n",
       "118      2                                 177188028           CLOTH PIPE REPAIR 100MM X 15,2M\n",
       "119      2                                 233225422          TAPER LOCK BUSH NO 5040   120 MM\n",
       "120      2                                 442813720             HOSE SBRT 16100/250/3L9 53553\n",
       "121      2                                 222710774    BOLT&NUT HEX HEAD M20X 90MM GR 4.6 M/S\n",
       "122      2                                 328749726     NOZZLE VO1,VO2,VO3,VO4 FOR VJ-LN01/04\n",
       "123      2                                 538725127       MOTOR AC 0.37 KW 4 POLE 1400 RPM B5\n",
       "124      2                                 761127127           INTERLINK FORGED HANDRAIL MT 90\n",
       "125      2                                 222710876    BOLT&NUT HEX HEAD M24X100MM GR 4.6 M/S\n",
       "126      2                                 412110379                    PIPE 50MM X 6,0M STEEL\n",
       "127      2                                 375510496    PIPE 150NB FS 3000MM LONG,1-736-9 BULK\n",
       "128      2                                 233757891     BELT WEDGE 13 X 10 X 2800MM (SPA/13N)\n",
       "129      2                                 112650433       PLATE M/S BLACK 2500 X 1200 X 6,0MM\n",
       "130      2                                 373680517   ROLL IDLER HDPE  127X698 BLT  600MM S25\n",
       "131      2                                 548284011       GLAND COMPRESSION 7,0MM-11,0MM NO.0\n",
       "132      2                                 572132757            PLUG INDUSTRIAL 15A 3 PIN 1450\n",
       "133      2                                 418241126  TUBE JET DLM 6/8T UP,1A31811037 DONALDSN\n",
       "134      2                                 377191084  BUFFER RUBBER SCORPIO          SC16/HARB\n",
       "135      2                                 222710508    BOLT&NUT HEX HEAD M10X 25MM GR 4.6 M/S\n",
       "136      2                                 616232416  ARRESTOR REL/COUPLER F/BACK TORCH END.LH\n",
       "137      2                                 421110090   VALVE SAF 50MM 707VSL50321PV007A BAILEY\n",
       "138      2                                 232881133                  SLEEVE ADAPTOR H 317 SKF\n",
       "139      2                                 532250020  FITTING FLOURESCENT 1,2/2X36W C2A 236 SS\n",
       "140      2                                 415351824       GASKET 175MM FLANGE TABLE D CAF 3XA\n",
       "141      2                                 421110006   VALVE SAF 40MM 707VSL40321PV005A BAILEY\n",
       "142      2                                 375510544          PIPE START 175NB FS 2-824-4 BULK\n",
       "143      2                                 811755932  HYPOTONIC - NAARTJIE  FLAVOUR 662   240G\n",
       "144      2                                 616232126                CLEANER NOZZLE TIP 237/005\n",
       "145      2                                 664271078         STRAPPING 316 ST/STEEL 19MM X 30M\n",
       "146      2                                 548284214    GLAND COMPRESSION NO.0 PRATLEY TUFFLON\n",
       "147      2                                 421252593     VALVE RA-0200-62522121-420-0-00-0-0-3\n",
       "148      2                                 375510541     BEND T-BARREL 150X175 NB 2-705-1 BULK\n",
       "149      2                                 114551018   IRON ANGLE 40 X 40 X 6,0MM X 6M BS 4360\n",
       "150      2                                 233365919                        COUPLING TYRE F120\n",
       "151      2                                 415576715      BELLOWS 50MM EPDM STYLE 10 LINK-FLEX\n",
       "152      2                                 532165349   LAMP METAL HALIDE 220W GES ELLIP COATED\n",
       "153      2                                 377192159        SKIRTING RUBBER 200MM X 16MM X 10M\n",
       "154      2                                 114551038   IRON ANGLE 80 X 80 X 10 MM X 6M BS 4360\n",
       "155      2                                 112665033    PLATE VASTRAP M/S 2500X1200X 4,5/6,1MM\n",
       "156      2                                 616241642    HOSE OUTLET FLEX L/H-9/16,FH0001 IBEDA\n",
       "157      2                                 532672036   LIGHT LED NOVA,32/75N5068A1S SH E1 BEKA\n",
       "158      2                                 616232447   ARRESTOR FLASHBACK HARRIS ACETYL 237084\n",
       "159      2                                 112520069         BAR ROUND M/STEEL BLACK 40MM X 6M\n",
       "160      2                                 165561211   TAPE PVC SCOTCH ADHESIVE ELECT 18MMX20M\n",
       "161      2                                 421939912      VALVE NON-RETURN 50MM RIENZI MOD.916\n",
       "162      2                                 421717419     VALVE N/GATE 150MM,6L24LA20DWHW LEWIS\n",
       "163      1                                 421362611  VALVE PINCH SB-T10 1002503L2 50515 LAROX\n",
       "164      1                                 532171294     LAMP FLOURESCENT BI/PIN 40W/1,2MX38MM\n",
       "165      1                                 375142515        STRIP BACKING,10970-01-02-02 DAVEY\n",
       "166      1                                 421110092   VALVE SAF 50MM 707VSL50321PV031A BAILEY\n",
       "167      1                                 421110087   VALVE SAF 50MM 707VSL50321PV008A BAILEY\n",
       "168      1                                 273316522                     BOLT RAWL 10MM X 75MM\n",
       "169      1                                 167313074      ACETYLENE WELDING 8,6KG 340006 AFROX\n",
       "170      1                                 442814124         SLEEVE PINCH VALVE, 53504-3 LAROX\n",
       "171      1                                 231317031        BEARING 6213 SKF BALL RADIAL 2 DOT\n",
       "172      1                                 421246013  VALVE B/FLY 100 B100100332BE4GTTV BIANCA\n",
       "173      1  150NB FS START PIPE, 2780 LONG SILICON C  150NB FS START PIPE, 2780 LONG SILICON C\n",
       "174      1                                 415351823          REPLACED BY MATERIAL 415 35 2615\n",
       "175      1                                 548282014               GLAND CABLE MECHANICAL NO 0\n",
       "176      1                                 112511689      BAR FLAT M/STEEL BLACK 100MMX12MMX6M\n",
       "177      1                                 538725234        MOTOR AC 7.5 KW 2 POLE 2930 RPM B5\n",
       "178      1                                 421261535     VALVE 600MM OKUMURA , 600615XGO4S DLM\n",
       "179      1                                 421110099   VALVE SAF 50MM 707VSL50321PV034A BAILEY\n",
       "180      1                                 616241021      ACETYLENE REGULATOR F10 MULTI-EFFECT\n",
       "181      1                                 114561022     CHANNEL 152MM X 76MM X 6M BS 4360/43A\n",
       "182      1          150NB BARREL BEND, CERAMIC LINED          150NB BARREL BEND, CERAMIC LINED\n",
       "183      1                                 541360815     SWITCH LIMIT , CHB93053 CUTLER HAMMER\n",
       "184      1                                 415351822          REPLACED BY MATERIAL 415 35 2614\n",
       "185      1                                 375142413    TAIL P/S ASSY DRG. R124/197 SA BATEMAN\n",
       "186      1                SCORPIO ADJUST STOP BLOCKS                SCORPIO ADJUST STOP BLOCKS\n",
       "187      1                                 734126476   CABLE ACCESSORIES 100M ,100M E11686 IFM\n",
       "188      1                                 418246416    HOSE EPDM ASBESTOS COVERED 25MM ID 30M\n",
       "189      1  175 OD X 190 HI MILD STEEL INSERT WITH 4  175 OD X 190 HI MILD STEEL INSERT WITH 4\n",
       "190      1                                 222710660    BOLT&NUT HEX HEAD M16X 40MM GR 4.6 M/S\n",
       "191      1                                 421110093   VALVE SAF 50MM 707VSL50321PV033A BAILEY\n",
       "192      1                                 716151023              PADLOCK IRON 40MM 364 3 KEYS\n",
       "193      1                                 487140127     BELTS POWER BAND  6B148 13-55P EVAPCO\n",
       "194      1                                 616232280       REGULATOR ACETYLENE 0103-021 WESCOL\n",
       "195      1                                 232881127                  SLEEVE ADAPTOR H 310 SKF\n",
       "196      1                                 811755019     TEA BAGS TAGLESS TO AMP SPEC 290 250G\n",
       "197      1                                 548282016               GLAND CABLE MECHANICAL NO 1\n",
       "198      1                                 538551327    MOTOR GEARED 0.55KW RF77DT80K4-250 SEW\n",
       "199      1                                 418247521             HOSE RUBBER 40MM X 30M MINING\n",
       "200      1                                 166223251           OIL GEAR INDUSTRIAL OGI-320 209\n",
       "201      1                                 412122225        BUSH REDUCING 25MM X 20MM MI BLACK\n",
       "202      1                                 565133260    CABLE 2,5 X 3 SURFIX (WHITE) 100M COIL\n",
       "203      1                                 488146280        HOSE RUBBER , 1A31892003 DONALDSON\n",
       "204      1                                 373680519     ROLL IDLER HDPE 127X850 BLT 750MM S25\n",
       "205      1                                 532254152   FITTING FLUORESCENT 2X58W 1575X134X98MM\n",
       "206      1                                 375510528    PIPE 150NB 2768 LONG SIC 1-736-29 BULK\n",
       "207      1                                 541620029  CONTACTOR SIZE 1F15 11KW 110V 83506A C-H\n",
       "208      1                                 761127128           INTERLINK FORGED HANDRAIL MS 90\n",
       "209      1                                 235716063         MOTOR GEARED,KH87DRS132S4/M1A SEW\n",
       "210      1                                 432799169  PUMP SUBMERSIBLE 3.7KW,KBZ23.7 3.7KW ZFP\n",
       "211      1     K11FAN ASSY PARTS KIT 50HZ 1A802495/3     K11FAN ASSY PARTS KIT 50HZ 1A802495/3\n",
       "212      1                                 442281125     BAG FILTER POLYMIDE 1500 X 500MM 9432\n",
       "213      1                                 167310285   GAS: OXYGEN WELDING 11,5KG 340304 AFROX\n",
       "214      1                                 222632772        SCREW HEX HD M20 X 75MM GR 8.8 SPF\n",
       "215      1                                 232571015  BEARING CAM FOLLOWER CR24 UU 1 WITH NUTS\n",
       "216      1                                 421110088   VALVE SAF 50MM 707VSL50321PV010A BAILEY\n",
       "217      1                                 616232291               NOZZLE CUTTING SC12-3 SMITH\n",
       "218      1                                 421110096   VALVE SAF 50MM 707VSL50321PV035A BAILEY\n",
       "219      1                                 421717504      CONE DEFLECTOR 200MM,8AR UDC DEZURIK\n",
       "220      1                                 616232038           TORCH MONARCH 28 231/001 HARRIS\n",
       "221      1                                 164927291         PAINT M/MIST PHENOLIC MODIFIED 5L\n",
       "222      1      ROOF BIN DUST EXTRACTION SYSTEM ASSY      ROOF BIN DUST EXTRACTION SYSTEM ASSY\n",
       "223      1                                 233757921     BELT WEDGE 13 X 10 X 3000MM (SPA/13N)\n",
       "224      1                                 418310255        CLAMP HOSE 316SS 46-52 FOR 32-47MM\n",
       "225      1                                 375510510     PIPE 150 NB FS 2411 LONG 3-577-2 BULK\n",
       "226      1                                 415351821          REPLACED BY MATERIAL 415 35 2613\n",
       "227      1                                 377192012       SCRAPER SECONDARY SC16 ARB/600  M&S\n",
       "228      1                                 372111016         FASTENER PLATE NO.2 CONVEYOR BELT\n",
       "229      1                                 421110089   VALVE SAF 50MM 707VSL50321PV035A BAILEY\n",
       "230      1                                 167319517  GAS ARGON TECHNICAL 17,40KG 340047 AFROX\n",
       "231      1                                 211830039  WASHER ROUND FLAT M20 STEEL GR2 25KG BAG\n",
       "232      1                                 421362813               SLEEVE 100 NB M 100.03X AKO\n",
       "233      1                                 817133917      CLEANER HAND HEAVY DUTY NON/SOL  3KG\n",
       "234      1                                 413910365  CLAMP FULL CASCADE 8IN,CR1-0863-08 MOOKA\n",
       "235      1                                 412142554          BEND 90DEG  50MM SCHEDULE 80 W/O\n",
       "236      1                                 233225331         BUSH TAPER LOCK 60MM BORE NO 3020\n",
       "237      1                                 163112077     ABSORBENT PEAT 200L BIOZ01 SPILL TECH\n",
       "238      1                                 616232287        DUAL GUARD TORCH 21 IN DG929 SMITH\n",
       "239      1                                 421110019    VALVE STACKER UPPER,015542-002 SANDVIK\n",
       "240      1  200IDX330MM FOE 8\" FIXED 1000/3 OE 250ID  200IDX330MM FOE 8\" FIXED 1000/3 OE 250ID\n",
       "241      1                                 565331433     CABLE 2,5SQMM 4C SWA BLUE STRIPE 500M\n",
       "242      1                                 328749800  BEARING CAM, VJ-LCDF-002 CF18UU VEE-JAYS\n",
       "243      1                                 222710871    BOLT&NUT HEX HEAD M24X 75MM GR 4.6 M/S\n",
       "244      1                                 421110009    VALVE SAF 40MM 707VSL40321PV002 BAILEY\n",
       "245      1                                 442280187  SEAL FELT FILTER BAG PTFE 1500MM X 495MM\n",
       "246      1                                 377192050              BLOCK ADJUSTMENT ADJ BL  M&S\n",
       "247      1                                 114551036   IRON ANGLE 80 X 80 X 6,0MM X 6M BS 4360\n",
       "248      1                                 373586246  ROLL IDLER IMPACT 159X250 BLT  600MM S25\n",
       "249      1                                 678881349          TRANSMITTER VIBRATION,VTV122 IFM\n",
       "250      1                                 421252413    VALVE 100 MM      EPNS-4-PTFE/PTFE-HLT\n",
       "251      1                                 178216003    WIRE FILLER WELD 1,2MM CARB STEEL 18KG\n",
       "252      1                                 222810125            NUT, HEX: M10 GR 8 DIN 934 SPF\n",
       "253      1                                 112613036   SHEET M/S BLACK 2450 X 1225 X 3,0MM HOT\n",
       "254      1                                 532673322        LAMP 58W TRI-PHOSPHER 399493 OSRAM\n",
       "255      1                                 811755117                   COFFEE INSTANT 302 750G\n",
       "256      1                                 421110085      VALVE SAF 50MM 707VSL50SCFM2A BAILEY\n",
       "257      1        125NB FS BEND, 90° SILICON CARBIDE        125NB FS BEND, 90° SILICON CARBIDE\n",
       "258      1                                 421717457        VALVE N/GATE 150MM ,VKG013 NIAGARE\n",
       "259      1                                 418245022   HOSE RUBBER 8MMX18M 002435 OXYGEN BLACK\n",
       "260      1                                 232417535  BEARING 22217 CK/W33  SKF SPHER ROL 3DOT\n",
       "261      1                                 421110101   VALVE SAF 50MM 707VSL50321PV028A BAILEY\n",
       "262      1                                 418311199                 VALVE SPUD 25MM WRE 11428\n",
       "263      1                                 178210593   ELECTRODE WELD 2.50MM 316L STAINLESS ST\n",
       "264      1                                 535917030  INVERTER,500V 7.5KW 12.5A G557P5 YASKAWA\n",
       "265      1                                 413910363  CLAMP FULL 4IN CASCADE S/STEEL EVERYSEAL\n",
       "266      1              BLOW MATTE PIPE  380NB X 125              BLOW MATTE PIPE  380NB X 125\n",
       "267      1                                 328744044   BELLOW 200NB RSA42338401/ITEM29 AUSMELT\n",
       "268      1                                 538725224       MOTOR AC 5.5 KW 4 POLE 1470 RPM B35\n",
       "269      1                                 415170283   FLANGE DN150 WELD-ON PLATE TABLE 1000/3\n",
       "270      1                                 538725237        MOTOR AC 7.5 KW 4 POLE 1470 RPM B5\n",
       "271      1                                 273316561                     BOLT RAWL 12MM X 75MM\n",
       "272      1                                 377139141   BELT CONVEYOR 600MM 4PLY,TRB7659 DUNLOP\n",
       "273      1                                 375510509  BEND 125 NB FS, 90 DEG, SIC 2-613-1 BULK\n",
       "274      1                                 375142514    BOLT BUCKET,10970-01-02-03/4/5/6 DAVEY\n",
       "275      1                                 421110094   VALVE SAF 50MM 707VSL50321PV032A BAILEY\n",
       "276      1                                 734126430       ASI FLAT CABLE SEAL PG11 AC3003 IFM\n",
       "277      1                                 533221796                    HOOTER KLAXON CH 54041\n",
       "278      1                                 442281124  BAG FILTER NOMEX 1500X500MM    FGO-R5724\n",
       "279      1  200IDX330MM FOE 8'' FIXES 1000/3 OE 250I  200IDX330MM FOE 8'' FIXES 1000/3 OE 250I\n",
       "280      1                                 328744033       PIPE MATTE BLOW BLACK 145 F/FX125MM\n",
       "281      1                                 412462848    CONNECTOR ELBOW MALE SS-12MO-2-4 S/LOK\n",
       "282      1              150 NB FS PIPE, 6000 LONG SC              150 NB FS PIPE, 6000 LONG SC\n",
       "283      1                                 572117611        PLUG TOP 3-PIN 15A LITEMASTER 1065\n",
       "284      1                                 421717501     CONE DEFLECTOR 250MM,10AR UDC DEZURIK\n",
       "285      1                                 413561144  LR FS BEND,HOR-VER 1-325-01 BULK TECHNIK\n",
       "286      1                                 222710771    BOLT&NUT HEX HEAD M20X 75MM GR 4.6 M/S\n",
       "287      1                                 112511627   BAR FLAT M/STEEL BLACK 80MM X 10MM X 6M\n",
       "288      1                                 488146222  CONTROLLER IPC 10 WAY 1A31599326 DONALDS\n",
       "289      1                                 532672025     LIGHT LED NOVA LUG MOUNT,LEDNOVA BEKA"
      ]
     },
     "execution_count": 383,
     "metadata": {},
     "output_type": "execute_result"
    }
   ],
   "source": [
    "# show the materials number with their descriptions \n",
    "pd.merge(pd.DataFrame(result_df[plot_x].value_counts()).reset_index().rename(columns={'Removed Component':'Count'}),materials,how='left',left_on=['index'],right_on=['Material']).drop_duplicates(keep='first').reset_index()[['Count','Material','Material Description']]"
   ]
  },
  {
   "cell_type": "code",
   "execution_count": 384,
   "metadata": {
    "ExecuteTime": {
     "end_time": "2020-02-03T14:01:39.258891Z",
     "start_time": "2020-02-03T14:01:38.810887Z"
    },
    "tags": []
   },
   "outputs": [
    {
     "data": {
      "text/plain": [
       "[]"
      ]
     },
     "execution_count": 384,
     "metadata": {},
     "output_type": "execute_result"
    },
    {
     "data": {
      "image/png": "[encoded data removed]",
      "text/plain": [
       "<Figure size 1080x576 with 1 Axes>"
      ]
     },
     "metadata": {
      "image/png": {
       "height": 501,
       "width": 908
      }
     },
     "output_type": "display_data"
    }
   ],
   "source": [
    "# Display the composition \n",
    "plot_x = 'Removed Component Vendor'\n",
    "df = pd.DataFrame(result_df[plot_x].value_counts()).reset_index()\n",
    "df.columns = [plot_x,'Count']\n",
    "\n",
    "plt.figure(figsize=(15,8))\n",
    "sns.set_style('darkgrid')\n",
    "sns.barplot(y=plot_x, x='Count', data=df[:21], palette='viridis');\n",
    "plt.title(plot_x + ': Top 20',size=20)\n",
    "\n",
    "plt.xlabel(plot_x,size=12)\n",
    "plt.xticks(fontsize=10)\n",
    "\n",
    "plt.ylabel('Count',size=12)\n",
    "plt.yticks(fontsize=10)\n",
    "plt.plot()"
   ]
  },
  {
   "cell_type": "code",
   "execution_count": 385,
   "metadata": {
    "ExecuteTime": {
     "end_time": "2020-02-03T14:01:39.270892Z",
     "start_time": "2020-02-03T14:01:39.260894Z"
    }
   },
   "outputs": [
    {
     "data": {
      "text/html": [
       "<div>\n",
       "<style scoped>\n",
       "    .dataframe tbody tr th:only-of-type {\n",
       "        vertical-align: middle;\n",
       "    }\n",
       "\n",
       "    .dataframe tbody tr th {\n",
       "        vertical-align: top;\n",
       "    }\n",
       "\n",
       "    .dataframe thead th {\n",
       "        text-align: right;\n",
       "    }\n",
       "</style>\n",
       "<table border=\"1\" class=\"dataframe\">\n",
       "  <thead>\n",
       "    <tr style=\"text-align: right;\">\n",
       "      <th></th>\n",
       "      <th>index</th>\n",
       "      <th>Removed Component Vendor</th>\n",
       "    </tr>\n",
       "  </thead>\n",
       "  <tbody>\n",
       "    <tr>\n",
       "      <th>0</th>\n",
       "      <td>116683</td>\n",
       "      <td>138</td>\n",
       "    </tr>\n",
       "    <tr>\n",
       "      <th>1</th>\n",
       "      <td>106465</td>\n",
       "      <td>81</td>\n",
       "    </tr>\n",
       "    <tr>\n",
       "      <th>2</th>\n",
       "      <td>119604</td>\n",
       "      <td>36</td>\n",
       "    </tr>\n",
       "    <tr>\n",
       "      <th>3</th>\n",
       "      <td>118208</td>\n",
       "      <td>36</td>\n",
       "    </tr>\n",
       "    <tr>\n",
       "      <th>4</th>\n",
       "      <td>Y38360</td>\n",
       "      <td>20</td>\n",
       "    </tr>\n",
       "    <tr>\n",
       "      <th>5</th>\n",
       "      <td>Y36156</td>\n",
       "      <td>14</td>\n",
       "    </tr>\n",
       "    <tr>\n",
       "      <th>6</th>\n",
       "      <td>Y33250</td>\n",
       "      <td>11</td>\n",
       "    </tr>\n",
       "    <tr>\n",
       "      <th>7</th>\n",
       "      <td>121929</td>\n",
       "      <td>6</td>\n",
       "    </tr>\n",
       "    <tr>\n",
       "      <th>8</th>\n",
       "      <td>122369</td>\n",
       "      <td>5</td>\n",
       "    </tr>\n",
       "    <tr>\n",
       "      <th>9</th>\n",
       "      <td>119781</td>\n",
       "      <td>4</td>\n",
       "    </tr>\n",
       "    <tr>\n",
       "      <th>10</th>\n",
       "      <td>122984</td>\n",
       "      <td>4</td>\n",
       "    </tr>\n",
       "    <tr>\n",
       "      <th>11</th>\n",
       "      <td>25798</td>\n",
       "      <td>2</td>\n",
       "    </tr>\n",
       "    <tr>\n",
       "      <th>12</th>\n",
       "      <td>Y78947</td>\n",
       "      <td>1</td>\n",
       "    </tr>\n",
       "    <tr>\n",
       "      <th>13</th>\n",
       "      <td>80996</td>\n",
       "      <td>1</td>\n",
       "    </tr>\n",
       "  </tbody>\n",
       "</table>\n",
       "</div>"
      ],
      "text/plain": [
       "     index  Removed Component Vendor\n",
       "0   116683                       138\n",
       "1   106465                        81\n",
       "2   119604                        36\n",
       "3   118208                        36\n",
       "4   Y38360                        20\n",
       "5   Y36156                        14\n",
       "6   Y33250                        11\n",
       "7   121929                         6\n",
       "8   122369                         5\n",
       "9   119781                         4\n",
       "10  122984                         4\n",
       "11   25798                         2\n",
       "12  Y78947                         1\n",
       "13   80996                         1"
      ]
     },
     "execution_count": 385,
     "metadata": {},
     "output_type": "execute_result"
    }
   ],
   "source": [
    "pd.DataFrame(result_df[plot_x].value_counts()).reset_index()"
   ]
  },
  {
   "cell_type": "code",
   "execution_count": 386,
   "metadata": {
    "ExecuteTime": {
     "end_time": "2020-02-03T14:01:39.809887Z",
     "start_time": "2020-02-03T14:01:39.272895Z"
    }
   },
   "outputs": [
    {
     "data": {
      "text/plain": [
       "[]"
      ]
     },
     "execution_count": 386,
     "metadata": {},
     "output_type": "execute_result"
    },
    {
     "data": {
      "image/png": "[encoded data removed]",
      "text/plain": [
       "<Figure size 1080x576 with 1 Axes>"
      ]
     },
     "metadata": {
      "image/png": {
       "height": 501,
       "width": 1093
      }
     },
     "output_type": "display_data"
    }
   ],
   "source": [
    "# show the vendor number with their descriptions \n",
    "plot_x = 'Removed Component Vendor'\n",
    "df_plot = pd.merge(pd.DataFrame(result_df[plot_x].value_counts()).reset_index().rename(columns={'Removed Component Vendor':'Count'}),LFA1[['Vendor','Name 1']].astype('str'),how='left',left_on=['index'],right_on=['Vendor']).drop_duplicates(keep='first').reset_index()[['Count','Vendor','Name 1']]\n",
    "df_plot.rename(columns={'Name 1':'Vendor Description'},inplace=True)\n",
    "\n",
    "# Display the composition \n",
    "plot_x = 'Removed Component Vendor'\n",
    "df = pd.DataFrame(result_df[plot_x].value_counts()).reset_index()\n",
    "df.columns = [plot_x,'Count']\n",
    "\n",
    "plt.figure(figsize=(15,8))\n",
    "sns.set_style('darkgrid')\n",
    "sns.barplot(y='Vendor Description', x='Count', data=df_plot[:21], palette='viridis');\n",
    "plt.title(plot_x + ': Top 20',size=20)\n",
    "\n",
    "plt.xlabel(plot_x,size=12)\n",
    "plt.xticks(fontsize=10)\n",
    "\n",
    "plt.ylabel('Count',size=12)\n",
    "plt.yticks(fontsize=10)\n",
    "plt.plot()"
   ]
  },
  {
   "cell_type": "code",
   "execution_count": 387,
   "metadata": {
    "ExecuteTime": {
     "end_time": "2020-02-03T14:01:39.818888Z",
     "start_time": "2020-02-03T14:01:39.810888Z"
    }
   },
   "outputs": [
    {
     "data": {
      "text/html": [
       "<div>\n",
       "<style scoped>\n",
       "    .dataframe tbody tr th:only-of-type {\n",
       "        vertical-align: middle;\n",
       "    }\n",
       "\n",
       "    .dataframe tbody tr th {\n",
       "        vertical-align: top;\n",
       "    }\n",
       "\n",
       "    .dataframe thead th {\n",
       "        text-align: right;\n",
       "    }\n",
       "</style>\n",
       "<table border=\"1\" class=\"dataframe\">\n",
       "  <thead>\n",
       "    <tr style=\"text-align: right;\">\n",
       "      <th></th>\n",
       "      <th>Count</th>\n",
       "      <th>Vendor</th>\n",
       "      <th>Vendor Description</th>\n",
       "    </tr>\n",
       "  </thead>\n",
       "  <tbody>\n",
       "    <tr>\n",
       "      <th>0</th>\n",
       "      <td>138</td>\n",
       "      <td>116683</td>\n",
       "      <td>BULK TECHNIK CC</td>\n",
       "    </tr>\n",
       "    <tr>\n",
       "      <th>1</th>\n",
       "      <td>81</td>\n",
       "      <td>106465</td>\n",
       "      <td>VEE JAYS MINING AND ENGINEERING SUP</td>\n",
       "    </tr>\n",
       "    <tr>\n",
       "      <th>2</th>\n",
       "      <td>36</td>\n",
       "      <td>119604</td>\n",
       "      <td>ESSEE PLASTICS CC</td>\n",
       "    </tr>\n",
       "    <tr>\n",
       "      <th>3</th>\n",
       "      <td>36</td>\n",
       "      <td>118208</td>\n",
       "      <td>RAGON INDUSTRIES PTY LTD</td>\n",
       "    </tr>\n",
       "    <tr>\n",
       "      <th>4</th>\n",
       "      <td>20</td>\n",
       "      <td>Y38360</td>\n",
       "      <td>BOLT AND ENGINEERING DISTRIBUTORS (</td>\n",
       "    </tr>\n",
       "    <tr>\n",
       "      <th>5</th>\n",
       "      <td>14</td>\n",
       "      <td>Y36156</td>\n",
       "      <td>MMJ MAINTENANCE AND REPAIRS CC</td>\n",
       "    </tr>\n",
       "    <tr>\n",
       "      <th>6</th>\n",
       "      <td>11</td>\n",
       "      <td>Y33250</td>\n",
       "      <td>VEE-JAYS ENGINEERING  RUSTENBURG PT</td>\n",
       "    </tr>\n",
       "    <tr>\n",
       "      <th>7</th>\n",
       "      <td>6</td>\n",
       "      <td>121929</td>\n",
       "      <td>NOVIS EXPANSION JOINTS AND MINING ,</td>\n",
       "    </tr>\n",
       "    <tr>\n",
       "      <th>8</th>\n",
       "      <td>5</td>\n",
       "      <td>122369</td>\n",
       "      <td>SPECIALISED RUBBER HOSES DIVISION S</td>\n",
       "    </tr>\n",
       "    <tr>\n",
       "      <th>9</th>\n",
       "      <td>4</td>\n",
       "      <td>119781</td>\n",
       "      <td>SPECIALISED RUBBER AND INDUSTRIAL ,</td>\n",
       "    </tr>\n",
       "    <tr>\n",
       "      <th>10</th>\n",
       "      <td>4</td>\n",
       "      <td>122984</td>\n",
       "      <td>BENEX ENGINEERING AND MINING SERVIC</td>\n",
       "    </tr>\n",
       "    <tr>\n",
       "      <th>11</th>\n",
       "      <td>2</td>\n",
       "      <td>25798</td>\n",
       "      <td>DONALDSON FILTRATION SYSTEMS PTY LT</td>\n",
       "    </tr>\n",
       "    <tr>\n",
       "      <th>12</th>\n",
       "      <td>1</td>\n",
       "      <td>Y78947</td>\n",
       "      <td>VB CONVEYOR AND HOSE NETWORK PTY LT</td>\n",
       "    </tr>\n",
       "    <tr>\n",
       "      <th>13</th>\n",
       "      <td>1</td>\n",
       "      <td>80996</td>\n",
       "      <td>RIO CARB PTY LTD</td>\n",
       "    </tr>\n",
       "  </tbody>\n",
       "</table>\n",
       "</div>"
      ],
      "text/plain": [
       "    Count  Vendor                   Vendor Description\n",
       "0     138  116683                      BULK TECHNIK CC\n",
       "1      81  106465  VEE JAYS MINING AND ENGINEERING SUP\n",
       "2      36  119604                    ESSEE PLASTICS CC\n",
       "3      36  118208             RAGON INDUSTRIES PTY LTD\n",
       "4      20  Y38360  BOLT AND ENGINEERING DISTRIBUTORS (\n",
       "5      14  Y36156       MMJ MAINTENANCE AND REPAIRS CC\n",
       "6      11  Y33250  VEE-JAYS ENGINEERING  RUSTENBURG PT\n",
       "7       6  121929  NOVIS EXPANSION JOINTS AND MINING ,\n",
       "8       5  122369  SPECIALISED RUBBER HOSES DIVISION S\n",
       "9       4  119781  SPECIALISED RUBBER AND INDUSTRIAL ,\n",
       "10      4  122984  BENEX ENGINEERING AND MINING SERVIC\n",
       "11      2   25798  DONALDSON FILTRATION SYSTEMS PTY LT\n",
       "12      1  Y78947  VB CONVEYOR AND HOSE NETWORK PTY LT\n",
       "13      1   80996                     RIO CARB PTY LTD"
      ]
     },
     "execution_count": 387,
     "metadata": {},
     "output_type": "execute_result"
    }
   ],
   "source": [
    "df_plot"
   ]
  },
  {
   "cell_type": "code",
   "execution_count": null,
   "metadata": {},
   "outputs": [],
   "source": []
  },
  {
   "cell_type": "markdown",
   "metadata": {},
   "source": [
    "## Weibull Analysis"
   ]
  },
  {
   "cell_type": "markdown",
   "metadata": {},
   "source": [
    "Topics to consider:\n",
    " - weibull charts (considering suspended and censored data)\n",
    "     - median rank\n",
    "     - MLE (to compare)\n",
    " - goodness of fit\n",
    "     - CCC 10P\n",
    "     - R squared\n",
    "     - confidence intervals\n",
    " - Outliers\n",
    " "
   ]
  },
  {
   "cell_type": "code",
   "execution_count": null,
   "metadata": {},
   "outputs": [],
   "source": []
  },
  {
   "cell_type": "code",
   "execution_count": null,
   "metadata": {},
   "outputs": [],
   "source": []
  },
  {
   "cell_type": "markdown",
   "metadata": {},
   "source": [
    "## Analysis - Tactics"
   ]
  },
  {
   "cell_type": "markdown",
   "metadata": {},
   "source": [
    "Topics to consider for the report:\n",
    " - tactics (strategy and cycle of components)\n",
    " - maintenance paradigms of technical objects"
   ]
  },
  {
   "cell_type": "code",
   "execution_count": null,
   "metadata": {},
   "outputs": [],
   "source": []
  },
  {
   "cell_type": "code",
   "execution_count": null,
   "metadata": {},
   "outputs": [],
   "source": []
  },
  {
   "cell_type": "code",
   "execution_count": null,
   "metadata": {},
   "outputs": [],
   "source": []
  },
  {
   "cell_type": "markdown",
   "metadata": {},
   "source": [
    "## Analysis - Masterdata"
   ]
  },
  {
   "cell_type": "markdown",
   "metadata": {},
   "source": [
    "Topics to consider for the report:\n",
    " - Technical Object Structure Usage"
   ]
  },
  {
   "cell_type": "code",
   "execution_count": null,
   "metadata": {},
   "outputs": [],
   "source": []
  },
  {
   "cell_type": "code",
   "execution_count": null,
   "metadata": {},
   "outputs": [],
   "source": []
  },
  {
   "cell_type": "code",
   "execution_count": null,
   "metadata": {},
   "outputs": [],
   "source": []
  },
  {
   "cell_type": "markdown",
   "metadata": {},
   "source": [
    "## Export"
   ]
  },
  {
   "cell_type": "code",
   "execution_count": 388,
   "metadata": {
    "ExecuteTime": {
     "end_time": "2020-02-03T14:01:39.826893Z",
     "start_time": "2020-02-03T14:01:39.819888Z"
    }
   },
   "outputs": [],
   "source": [
    "# select all the columns that are of type 'string' (text)\n",
    "str_cols = result_df.select_dtypes(['object']).columns"
   ]
  },
  {
   "cell_type": "code",
   "execution_count": 389,
   "metadata": {
    "ExecuteTime": {
     "end_time": "2020-02-03T14:01:39.979887Z",
     "start_time": "2020-02-03T14:01:39.827888Z"
    }
   },
   "outputs": [],
   "source": [
    "# replace all the commas in these strings with semi-colons (to avoid issues in SAP SAC)\n",
    "result_df[str_cols] = result_df[str_cols].replace(',',';',regex=True)"
   ]
  },
  {
   "cell_type": "markdown",
   "metadata": {},
   "source": [
    "Write the dataframe to a CSV file that can be uploaded"
   ]
  },
  {
   "cell_type": "code",
   "execution_count": 390,
   "metadata": {
    "ExecuteTime": {
     "end_time": "2020-02-03T14:01:40.061888Z",
     "start_time": "2020-02-03T14:01:39.980888Z"
    }
   },
   "outputs": [
    {
     "ename": "NameError",
     "evalue": "name 'result_df_reduced' is not defined",
     "output_type": "error",
     "traceback": [
      "\u001b[1;31m---------------------------------------------------------------------------\u001b[0m",
      "\u001b[1;31mNameError\u001b[0m                                 Traceback (most recent call last)",
      "\u001b[1;32m<ipython-input-390-afd13aa04081>\u001b[0m in \u001b[0;36m<module>\u001b[1;34m\u001b[0m\n\u001b[1;32m----> 1\u001b[1;33m \u001b[0mresult_df_reduced\u001b[0m\u001b[1;33m.\u001b[0m\u001b[0mto_csv\u001b[0m\u001b[1;33m(\u001b[0m\u001b[1;34m'Component Life Results.csv'\u001b[0m\u001b[1;33m)\u001b[0m\u001b[1;33m\u001b[0m\u001b[1;33m\u001b[0m\u001b[0m\n\u001b[0m",
      "\u001b[1;31mNameError\u001b[0m: name 'result_df_reduced' is not defined"
     ]
    }
   ],
   "source": [
    "result_df_reduced.to_csv('Component Life Results.csv')"
   ]
  },
  {
   "cell_type": "code",
   "execution_count": null,
   "metadata": {},
   "outputs": [],
   "source": []
  },
  {
   "cell_type": "markdown",
   "metadata": {},
   "source": [
    "# Appendix"
   ]
  },
  {
   "cell_type": "markdown",
   "metadata": {},
   "source": [
    "## Notes"
   ]
  },
  {
   "cell_type": "markdown",
   "metadata": {},
   "source": [
    "1. Consider dropping order- and task list operations unless a more reliable way to tie component to operation is found than RESB. "
   ]
  }
 ],
 "metadata": {
  "hide_input": false,
  "kernelspec": {
   "display_name": "Python 3 (ipykernel)",
   "language": "python",
   "name": "python3"
  },
  "language_info": {
   "codemirror_mode": {
    "name": "ipython",
    "version": 3
   },
   "file_extension": ".py",
   "mimetype": "text/x-python",
   "name": "python",
   "nbconvert_exporter": "python",
   "pygments_lexer": "ipython3",
   "version": "3.8.13"
  },
  "latex_envs": {
   "LaTeX_envs_menu_present": true,
   "autoclose": false,
   "autocomplete": true,
   "bibliofile": "biblio.bib",
   "cite_by": "apalike",
   "current_citInitial": 1,
   "eqLabelWithNumbers": true,
   "eqNumInitial": 1,
   "hotkeys": {
    "equation": "Ctrl-E",
    "itemize": "Ctrl-I"
   },
   "labels_anchors": false,
   "latex_user_defs": false,
   "report_style_numbering": false,
   "user_envs_cfg": false
  },
  "toc": {
   "base_numbering": 1,
   "nav_menu": {},
   "number_sections": true,
   "sideBar": true,
   "skip_h1_title": false,
   "title_cell": "Table of Contents",
   "title_sidebar": "Contents",
   "toc_cell": true,
   "toc_position": {
    "height": "calc(100% - 180px)",
    "left": "10px",
    "top": "150px",
    "width": "339.294px"
   },
   "toc_section_display": true,
   "toc_window_display": true
  },
  "varInspector": {
   "cols": {
    "lenName": 16,
    "lenType": 16,
    "lenVar": 40
   },
   "kernels_config": {
    "python": {
     "delete_cmd_postfix": "",
     "delete_cmd_prefix": "del ",
     "library": "var_list.py",
     "varRefreshCmd": "print(var_dic_list())"
    },
    "r": {
     "delete_cmd_postfix": ") ",
     "delete_cmd_prefix": "rm(",
     "library": "var_list.r",
     "varRefreshCmd": "cat(var_dic_list()) "
    }
   },
   "position": {
    "height": "384.799px",
    "left": "1326.8px",
    "right": "20px",
    "top": "164px",
    "width": "320.188px"
   },
   "types_to_exclude": [
    "module",
    "function",
    "builtin_function_or_method",
    "instance",
    "_Feature"
   ],
   "window_display": false
  }
 },
 "nbformat": 4,
 "nbformat_minor": 4
}
